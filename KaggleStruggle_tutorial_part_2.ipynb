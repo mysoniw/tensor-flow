{
  "nbformat": 4,
  "nbformat_minor": 0,
  "metadata": {
    "colab": {
      "name": "tutorial-part-2.ipynb",
      "version": "0.3.2",
      "provenance": [],
      "include_colab_link": true
    },
    "kernelspec": {
      "name": "python3",
      "display_name": "Python 3"
    },
    "accelerator": "TPU"
  },
  "cells": [
    {
      "cell_type": "markdown",
      "metadata": {
        "id": "view-in-github",
        "colab_type": "text"
      },
      "source": [
        "<a href=\"https://colab.research.google.com/github/mysoniw/tensor-flow/blob/master/KaggleStruggle_tutorial_part_2.ipynb\" target=\"_parent\"><img src=\"https://colab.research.google.com/assets/colab-badge.svg\" alt=\"Open In Colab\"/></a>"
      ]
    },
    {
      "metadata": {
        "id": "Y6Q3XLCNudyM",
        "colab_type": "code",
        "colab": {
          "base_uri": "https://localhost:8080/",
          "height": 289
        },
        "outputId": "716b23e2-23f0-4f4d-a135-f768f8713601"
      },
      "cell_type": "code",
      "source": [
        "!wget https://github.com/corazzon/KaggleStruggle/raw/master/word2vec-nlp-tutorial/data/labeledTrainData.tsv"
      ],
      "execution_count": 1,
      "outputs": [
        {
          "output_type": "stream",
          "text": [
            "--2019-03-21 00:50:56--  https://github.com/corazzon/KaggleStruggle/raw/master/word2vec-nlp-tutorial/data/labeledTrainData.tsv\n",
            "Resolving github.com (github.com)... 192.30.253.112, 192.30.253.113\n",
            "Connecting to github.com (github.com)|192.30.253.112|:443... connected.\n",
            "HTTP request sent, awaiting response... 302 Found\n",
            "Location: https://raw.githubusercontent.com/corazzon/KaggleStruggle/master/word2vec-nlp-tutorial/data/labeledTrainData.tsv [following]\n",
            "--2019-03-21 00:50:56--  https://raw.githubusercontent.com/corazzon/KaggleStruggle/master/word2vec-nlp-tutorial/data/labeledTrainData.tsv\n",
            "Resolving raw.githubusercontent.com (raw.githubusercontent.com)... 151.101.0.133, 151.101.64.133, 151.101.128.133, ...\n",
            "Connecting to raw.githubusercontent.com (raw.githubusercontent.com)|151.101.0.133|:443... connected.\n",
            "HTTP request sent, awaiting response... 200 OK\n",
            "Length: 33556379 (32M) [text/plain]\n",
            "Saving to: ‘labeledTrainData.tsv’\n",
            "\n",
            "labeledTrainData.ts 100%[===================>]  32.00M   153MB/s    in 0.2s    \n",
            "\n",
            "2019-03-21 00:51:23 (153 MB/s) - ‘labeledTrainData.tsv’ saved [33556379/33556379]\n",
            "\n"
          ],
          "name": "stdout"
        }
      ]
    },
    {
      "metadata": {
        "id": "xKWm7ex7utsG",
        "colab_type": "code",
        "colab": {
          "base_uri": "https://localhost:8080/",
          "height": 289
        },
        "outputId": "987f3d38-52ec-404b-fd5b-b44634bfb719"
      },
      "cell_type": "code",
      "source": [
        "!wget https://github.com/corazzon/KaggleStruggle/raw/master/word2vec-nlp-tutorial/data/testData.tsv"
      ],
      "execution_count": 2,
      "outputs": [
        {
          "output_type": "stream",
          "text": [
            "--2019-03-21 00:51:24--  https://github.com/corazzon/KaggleStruggle/raw/master/word2vec-nlp-tutorial/data/testData.tsv\n",
            "Resolving github.com (github.com)... 192.30.253.112, 192.30.253.113\n",
            "Connecting to github.com (github.com)|192.30.253.112|:443... connected.\n",
            "HTTP request sent, awaiting response... 302 Found\n",
            "Location: https://raw.githubusercontent.com/corazzon/KaggleStruggle/master/word2vec-nlp-tutorial/data/testData.tsv [following]\n",
            "--2019-03-21 00:51:25--  https://raw.githubusercontent.com/corazzon/KaggleStruggle/master/word2vec-nlp-tutorial/data/testData.tsv\n",
            "Resolving raw.githubusercontent.com (raw.githubusercontent.com)... 151.101.0.133, 151.101.64.133, 151.101.128.133, ...\n",
            "Connecting to raw.githubusercontent.com (raw.githubusercontent.com)|151.101.0.133|:443... connected.\n",
            "HTTP request sent, awaiting response... 200 OK\n",
            "Length: 32724746 (31M) [text/plain]\n",
            "Saving to: ‘testData.tsv’\n",
            "\n",
            "testData.tsv        100%[===================>]  31.21M   147MB/s    in 0.2s    \n",
            "\n",
            "2019-03-21 00:51:26 (147 MB/s) - ‘testData.tsv’ saved [32724746/32724746]\n",
            "\n"
          ],
          "name": "stdout"
        }
      ]
    },
    {
      "metadata": {
        "id": "tOwRxcf0uwtm",
        "colab_type": "code",
        "colab": {
          "base_uri": "https://localhost:8080/",
          "height": 289
        },
        "outputId": "029836f6-e3db-48d3-db12-98cec723e788"
      },
      "cell_type": "code",
      "source": [
        "!wget https://github.com/corazzon/KaggleStruggle/raw/master/word2vec-nlp-tutorial/data/unlabeledTrainData.tsv"
      ],
      "execution_count": 3,
      "outputs": [
        {
          "output_type": "stream",
          "text": [
            "--2019-03-21 00:51:34--  https://github.com/corazzon/KaggleStruggle/raw/master/word2vec-nlp-tutorial/data/unlabeledTrainData.tsv\n",
            "Resolving github.com (github.com)... 192.30.253.112, 192.30.253.113\n",
            "Connecting to github.com (github.com)|192.30.253.112|:443... connected.\n",
            "HTTP request sent, awaiting response... 302 Found\n",
            "Location: https://raw.githubusercontent.com/corazzon/KaggleStruggle/master/word2vec-nlp-tutorial/data/unlabeledTrainData.tsv [following]\n",
            "--2019-03-21 00:51:34--  https://raw.githubusercontent.com/corazzon/KaggleStruggle/master/word2vec-nlp-tutorial/data/unlabeledTrainData.tsv\n",
            "Resolving raw.githubusercontent.com (raw.githubusercontent.com)... 151.101.0.133, 151.101.64.133, 151.101.128.133, ...\n",
            "Connecting to raw.githubusercontent.com (raw.githubusercontent.com)|151.101.0.133|:443... connected.\n",
            "HTTP request sent, awaiting response... 200 OK\n",
            "Length: 67281491 (64M) [text/plain]\n",
            "Saving to: ‘unlabeledTrainData.tsv’\n",
            "\n",
            "unlabeledTrainData. 100%[===================>]  64.16M   146MB/s    in 0.4s    \n",
            "\n",
            "2019-03-21 00:51:35 (146 MB/s) - ‘unlabeledTrainData.tsv’ saved [67281491/67281491]\n",
            "\n"
          ],
          "name": "stdout"
        }
      ]
    },
    {
      "metadata": {
        "id": "R5rcUKUpvoqK",
        "colab_type": "code",
        "colab": {
          "base_uri": "https://localhost:8080/",
          "height": 289
        },
        "outputId": "82e0a016-7c45-43e6-ec7f-39432a84e3d1"
      },
      "cell_type": "code",
      "source": [
        "!wget https://github.com/corazzon/KaggleStruggle/raw/master/word2vec-nlp-tutorial/KaggleWord2VecUtility.py"
      ],
      "execution_count": 8,
      "outputs": [
        {
          "output_type": "stream",
          "text": [
            "--2019-03-21 00:55:50--  https://github.com/corazzon/KaggleStruggle/raw/master/word2vec-nlp-tutorial/KaggleWord2VecUtility.py\n",
            "Resolving github.com (github.com)... 192.30.253.113, 192.30.253.112\n",
            "Connecting to github.com (github.com)|192.30.253.113|:443... connected.\n",
            "HTTP request sent, awaiting response... 302 Found\n",
            "Location: https://raw.githubusercontent.com/corazzon/KaggleStruggle/master/word2vec-nlp-tutorial/KaggleWord2VecUtility.py [following]\n",
            "--2019-03-21 00:55:50--  https://raw.githubusercontent.com/corazzon/KaggleStruggle/master/word2vec-nlp-tutorial/KaggleWord2VecUtility.py\n",
            "Resolving raw.githubusercontent.com (raw.githubusercontent.com)... 151.101.0.133, 151.101.64.133, 151.101.128.133, ...\n",
            "Connecting to raw.githubusercontent.com (raw.githubusercontent.com)|151.101.0.133|:443... connected.\n",
            "HTTP request sent, awaiting response... 200 OK\n",
            "Length: 3250 (3.2K) [text/plain]\n",
            "Saving to: ‘KaggleWord2VecUtility.py’\n",
            "\n",
            "\rKaggleWord2VecUtili   0%[                    ]       0  --.-KB/s               \rKaggleWord2VecUtili 100%[===================>]   3.17K  --.-KB/s    in 0s      \n",
            "\n",
            "2019-03-21 00:55:50 (61.2 MB/s) - ‘KaggleWord2VecUtility.py’ saved [3250/3250]\n",
            "\n"
          ],
          "name": "stdout"
        }
      ]
    },
    {
      "metadata": {
        "id": "aUakiQBMr-Yq",
        "colab_type": "code",
        "colab": {}
      },
      "cell_type": "code",
      "source": [
        "# 출력이 너무 길어지지 않게하기 위해 찍지 않도록 했으나 \n",
        "# 실제 학습 할 때는 아래 두 줄을 주석처리 하는 것을 권장한다.\n",
        "import warnings\n",
        "warnings.filterwarnings('ignore')"
      ],
      "execution_count": 0,
      "outputs": []
    },
    {
      "metadata": {
        "id": "3gG0DlCXu3hX",
        "colab_type": "text"
      },
      "cell_type": "markdown",
      "source": [
        ""
      ]
    },
    {
      "metadata": {
        "id": "H7xEoDWEtFES",
        "colab_type": "code",
        "colab": {
          "base_uri": "https://localhost:8080/",
          "height": 119
        },
        "outputId": "e06baf09-9e84-4192-8f69-c23671f20558"
      },
      "cell_type": "code",
      "source": [
        "import pandas as pd\n",
        "\n",
        "train = pd.read_csv('./labeledTrainData.tsv', \n",
        "                    header=0, delimiter='\\t', quoting=3)\n",
        "test = pd.read_csv('./testData.tsv', \n",
        "                   header=0, delimiter='\\t', quoting=3)\n",
        "unlabeled_train = pd.read_csv('./unlabeledTrainData.tsv', \n",
        "                              header=0, delimiter='\\t', quoting=3)\n",
        "\n",
        "print(train.shape)\n",
        "print(test.shape)\n",
        "print(unlabeled_train.shape)\n",
        "\n",
        "print(train['review'].size)\n",
        "print(test['review'].size)\n",
        "print(unlabeled_train['review'].size)"
      ],
      "execution_count": 5,
      "outputs": [
        {
          "output_type": "stream",
          "text": [
            "(25000, 3)\n",
            "(25000, 2)\n",
            "(50000, 2)\n",
            "25000\n",
            "25000\n",
            "50000\n"
          ],
          "name": "stdout"
        }
      ]
    },
    {
      "metadata": {
        "id": "HnKbwVSWu7vi",
        "colab_type": "code",
        "colab": {
          "base_uri": "https://localhost:8080/",
          "height": 204
        },
        "outputId": "8b5e868c-5aa1-44e2-8dbe-a2dca72fac3a"
      },
      "cell_type": "code",
      "source": [
        "train.head()"
      ],
      "execution_count": 6,
      "outputs": [
        {
          "output_type": "execute_result",
          "data": {
            "text/html": [
              "<div>\n",
              "<style scoped>\n",
              "    .dataframe tbody tr th:only-of-type {\n",
              "        vertical-align: middle;\n",
              "    }\n",
              "\n",
              "    .dataframe tbody tr th {\n",
              "        vertical-align: top;\n",
              "    }\n",
              "\n",
              "    .dataframe thead th {\n",
              "        text-align: right;\n",
              "    }\n",
              "</style>\n",
              "<table border=\"1\" class=\"dataframe\">\n",
              "  <thead>\n",
              "    <tr style=\"text-align: right;\">\n",
              "      <th></th>\n",
              "      <th>id</th>\n",
              "      <th>sentiment</th>\n",
              "      <th>review</th>\n",
              "    </tr>\n",
              "  </thead>\n",
              "  <tbody>\n",
              "    <tr>\n",
              "      <th>0</th>\n",
              "      <td>\"5814_8\"</td>\n",
              "      <td>1</td>\n",
              "      <td>\"With all this stuff going down at the moment ...</td>\n",
              "    </tr>\n",
              "    <tr>\n",
              "      <th>1</th>\n",
              "      <td>\"2381_9\"</td>\n",
              "      <td>1</td>\n",
              "      <td>\"\\\"The Classic War of the Worlds\\\" by Timothy ...</td>\n",
              "    </tr>\n",
              "    <tr>\n",
              "      <th>2</th>\n",
              "      <td>\"7759_3\"</td>\n",
              "      <td>0</td>\n",
              "      <td>\"The film starts with a manager (Nicholas Bell...</td>\n",
              "    </tr>\n",
              "    <tr>\n",
              "      <th>3</th>\n",
              "      <td>\"3630_4\"</td>\n",
              "      <td>0</td>\n",
              "      <td>\"It must be assumed that those who praised thi...</td>\n",
              "    </tr>\n",
              "    <tr>\n",
              "      <th>4</th>\n",
              "      <td>\"9495_8\"</td>\n",
              "      <td>1</td>\n",
              "      <td>\"Superbly trashy and wondrously unpretentious ...</td>\n",
              "    </tr>\n",
              "  </tbody>\n",
              "</table>\n",
              "</div>"
            ],
            "text/plain": [
              "         id  sentiment                                             review\n",
              "0  \"5814_8\"          1  \"With all this stuff going down at the moment ...\n",
              "1  \"2381_9\"          1  \"\\\"The Classic War of the Worlds\\\" by Timothy ...\n",
              "2  \"7759_3\"          0  \"The film starts with a manager (Nicholas Bell...\n",
              "3  \"3630_4\"          0  \"It must be assumed that those who praised thi...\n",
              "4  \"9495_8\"          1  \"Superbly trashy and wondrously unpretentious ..."
            ]
          },
          "metadata": {
            "tags": []
          },
          "execution_count": 6
        }
      ]
    },
    {
      "metadata": {
        "id": "rMCBBmeSvdex",
        "colab_type": "code",
        "colab": {
          "base_uri": "https://localhost:8080/",
          "height": 204
        },
        "outputId": "86a51b9f-6154-41f9-ff8a-3b723bb261aa"
      },
      "cell_type": "code",
      "source": [
        "test.head()"
      ],
      "execution_count": 7,
      "outputs": [
        {
          "output_type": "execute_result",
          "data": {
            "text/html": [
              "<div>\n",
              "<style scoped>\n",
              "    .dataframe tbody tr th:only-of-type {\n",
              "        vertical-align: middle;\n",
              "    }\n",
              "\n",
              "    .dataframe tbody tr th {\n",
              "        vertical-align: top;\n",
              "    }\n",
              "\n",
              "    .dataframe thead th {\n",
              "        text-align: right;\n",
              "    }\n",
              "</style>\n",
              "<table border=\"1\" class=\"dataframe\">\n",
              "  <thead>\n",
              "    <tr style=\"text-align: right;\">\n",
              "      <th></th>\n",
              "      <th>id</th>\n",
              "      <th>review</th>\n",
              "    </tr>\n",
              "  </thead>\n",
              "  <tbody>\n",
              "    <tr>\n",
              "      <th>0</th>\n",
              "      <td>\"12311_10\"</td>\n",
              "      <td>\"Naturally in a film who's main themes are of ...</td>\n",
              "    </tr>\n",
              "    <tr>\n",
              "      <th>1</th>\n",
              "      <td>\"8348_2\"</td>\n",
              "      <td>\"This movie is a disaster within a disaster fi...</td>\n",
              "    </tr>\n",
              "    <tr>\n",
              "      <th>2</th>\n",
              "      <td>\"5828_4\"</td>\n",
              "      <td>\"All in all, this is a movie for kids. We saw ...</td>\n",
              "    </tr>\n",
              "    <tr>\n",
              "      <th>3</th>\n",
              "      <td>\"7186_2\"</td>\n",
              "      <td>\"Afraid of the Dark left me with the impressio...</td>\n",
              "    </tr>\n",
              "    <tr>\n",
              "      <th>4</th>\n",
              "      <td>\"12128_7\"</td>\n",
              "      <td>\"A very accurate depiction of small time mob l...</td>\n",
              "    </tr>\n",
              "  </tbody>\n",
              "</table>\n",
              "</div>"
            ],
            "text/plain": [
              "           id                                             review\n",
              "0  \"12311_10\"  \"Naturally in a film who's main themes are of ...\n",
              "1    \"8348_2\"  \"This movie is a disaster within a disaster fi...\n",
              "2    \"5828_4\"  \"All in all, this is a movie for kids. We saw ...\n",
              "3    \"7186_2\"  \"Afraid of the Dark left me with the impressio...\n",
              "4   \"12128_7\"  \"A very accurate depiction of small time mob l..."
            ]
          },
          "metadata": {
            "tags": []
          },
          "execution_count": 7
        }
      ]
    },
    {
      "metadata": {
        "id": "byDRfyZvwFpx",
        "colab_type": "code",
        "colab": {}
      },
      "cell_type": "code",
      "source": [
        "from KaggleWord2VecUtility import KaggleWord2VecUtility"
      ],
      "execution_count": 0,
      "outputs": []
    },
    {
      "metadata": {
        "id": "7fHK0cPUvhnG",
        "colab_type": "code",
        "colab": {
          "base_uri": "https://localhost:8080/",
          "height": 34
        },
        "outputId": "eb51b192-c6fc-487e-f262-fcfd4d7b0031"
      },
      "cell_type": "code",
      "source": [
        "KaggleWord2VecUtility.review_to_wordlist(train['review'][0])[:10]"
      ],
      "execution_count": 11,
      "outputs": [
        {
          "output_type": "execute_result",
          "data": {
            "text/plain": [
              "['with', 'all', 'this', 'stuff', 'go', 'down', 'at', 'the', 'moment', 'with']"
            ]
          },
          "metadata": {
            "tags": []
          },
          "execution_count": 11
        }
      ]
    },
    {
      "metadata": {
        "id": "j2yLTavhwoC2",
        "colab_type": "code",
        "colab": {
          "base_uri": "https://localhost:8080/",
          "height": 51
        },
        "outputId": "e998d231-bb5b-4e3f-c775-ac127fcc84cd"
      },
      "cell_type": "code",
      "source": [
        "!pip install nltk"
      ],
      "execution_count": 13,
      "outputs": [
        {
          "output_type": "stream",
          "text": [
            "Requirement already satisfied: nltk in /usr/local/lib/python3.6/dist-packages (3.2.5)\n",
            "Requirement already satisfied: six in /usr/local/lib/python3.6/dist-packages (from nltk) (1.11.0)\n"
          ],
          "name": "stdout"
        }
      ]
    },
    {
      "metadata": {
        "id": "lb7CX53dwxx5",
        "colab_type": "code",
        "colab": {}
      },
      "cell_type": "code",
      "source": [
        "import nltk"
      ],
      "execution_count": 0,
      "outputs": []
    },
    {
      "metadata": {
        "id": "hyAQEVdjwyyH",
        "colab_type": "code",
        "colab": {
          "base_uri": "https://localhost:8080/",
          "height": 68
        },
        "outputId": "e03a91fb-560e-4322-c15d-d10c6752b60a"
      },
      "cell_type": "code",
      "source": [
        "nltk.download('punkt')"
      ],
      "execution_count": 15,
      "outputs": [
        {
          "output_type": "stream",
          "text": [
            "[nltk_data] Downloading package punkt to /root/nltk_data...\n",
            "[nltk_data]   Unzipping tokenizers/punkt.zip.\n"
          ],
          "name": "stdout"
        },
        {
          "output_type": "execute_result",
          "data": {
            "text/plain": [
              "True"
            ]
          },
          "metadata": {
            "tags": []
          },
          "execution_count": 15
        }
      ]
    },
    {
      "metadata": {
        "id": "X8qAvi2rwJVr",
        "colab_type": "code",
        "colab": {}
      },
      "cell_type": "code",
      "source": [
        "sentences = []\n",
        "for review in train[\"review\"]:\n",
        "    sentences += KaggleWord2VecUtility.review_to_sentences(\n",
        "        review, remove_stopwords=False)"
      ],
      "execution_count": 0,
      "outputs": []
    },
    {
      "metadata": {
        "id": "A7tv93cDxdFI",
        "colab_type": "code",
        "colab": {}
      },
      "cell_type": "code",
      "source": [
        "for review in unlabeled_train[\"review\"]:\n",
        "    sentences += KaggleWord2VecUtility.review_to_sentences(\n",
        "        review, remove_stopwords=False)"
      ],
      "execution_count": 0,
      "outputs": []
    },
    {
      "metadata": {
        "id": "AH5Y_iYNyhml",
        "colab_type": "code",
        "colab": {
          "base_uri": "https://localhost:8080/",
          "height": 34
        },
        "outputId": "506ea305-6780-40d0-f8a8-ba4f0ef213e8"
      },
      "cell_type": "code",
      "source": [
        "len(sentences)\n"
      ],
      "execution_count": 18,
      "outputs": [
        {
          "output_type": "execute_result",
          "data": {
            "text/plain": [
              "795538"
            ]
          },
          "metadata": {
            "tags": []
          },
          "execution_count": 18
        }
      ]
    },
    {
      "metadata": {
        "id": "pqNKnjYJyjz1",
        "colab_type": "code",
        "colab": {
          "base_uri": "https://localhost:8080/",
          "height": 34
        },
        "outputId": "d87604bb-ff22-4686-fd62-dfe4824f72e7"
      },
      "cell_type": "code",
      "source": [
        "sentences[0][:10]"
      ],
      "execution_count": 19,
      "outputs": [
        {
          "output_type": "execute_result",
          "data": {
            "text/plain": [
              "['with', 'all', 'this', 'stuff', 'go', 'down', 'at', 'the', 'moment', 'with']"
            ]
          },
          "metadata": {
            "tags": []
          },
          "execution_count": 19
        }
      ]
    },
    {
      "metadata": {
        "id": "irqIdXaTymNW",
        "colab_type": "code",
        "colab": {
          "base_uri": "https://localhost:8080/",
          "height": 34
        },
        "outputId": "be587b10-d9d1-453c-82d3-de6a6da255e0"
      },
      "cell_type": "code",
      "source": [
        "sentences[1][:10]"
      ],
      "execution_count": 20,
      "outputs": [
        {
          "output_type": "execute_result",
          "data": {
            "text/plain": [
              "['mayb', 'i', 'just', 'want', 'to', 'get', 'a', 'certain', 'insight', 'into']"
            ]
          },
          "metadata": {
            "tags": []
          },
          "execution_count": 20
        }
      ]
    },
    {
      "metadata": {
        "id": "iSGm0d4syos2",
        "colab_type": "code",
        "colab": {}
      },
      "cell_type": "code",
      "source": [
        "#로그 포맷 설정\n",
        "\n",
        "import logging\n",
        "logging.basicConfig(\n",
        "    format='%(asctime)s : %(levelname)s : %(message)s', \n",
        "    level=logging.INFO)"
      ],
      "execution_count": 0,
      "outputs": []
    },
    {
      "metadata": {
        "id": "XVdloB_Pyx3B",
        "colab_type": "code",
        "colab": {
          "base_uri": "https://localhost:8080/",
          "height": 5324
        },
        "outputId": "1439752e-fa2f-4490-a213-8c6fd7137848"
      },
      "cell_type": "code",
      "source": [
        "\n",
        "# 파라메터값 지정\n",
        "num_features = 300 # 문자 벡터 차원 수\n",
        "min_word_count = 40 # 최소 문자 수\n",
        "num_workers = 4 # 병렬 처리 스레드 수\n",
        "context = 10 # 문자열 창 크기\n",
        "downsampling = 1e-3 # 문자 빈도 수 Downsample\n",
        "\n",
        "# 초기화 및 모델 학습\n",
        "from gensim.models import word2vec\n",
        "\n",
        "# 모델 학습\n",
        "model = word2vec.Word2Vec(sentences, \n",
        "                          workers=num_workers, \n",
        "                          size=num_features, \n",
        "                          min_count=min_word_count,\n",
        "                          window=context,\n",
        "                          sample=downsampling)\n",
        "model"
      ],
      "execution_count": 22,
      "outputs": [
        {
          "output_type": "stream",
          "text": [
            "2019-03-21 01:08:57,795 : INFO : 'pattern' package not found; tag filters are not available for English\n",
            "2019-03-21 01:08:57,807 : INFO : collecting all words and their counts\n",
            "2019-03-21 01:08:57,811 : INFO : PROGRESS: at sentence #0, processed 0 words, keeping 0 word types\n",
            "2019-03-21 01:08:57,870 : INFO : PROGRESS: at sentence #10000, processed 225803 words, keeping 12465 word types\n",
            "2019-03-21 01:08:57,931 : INFO : PROGRESS: at sentence #20000, processed 451892 words, keeping 17070 word types\n",
            "2019-03-21 01:08:57,993 : INFO : PROGRESS: at sentence #30000, processed 671314 words, keeping 20370 word types\n",
            "2019-03-21 01:08:58,057 : INFO : PROGRESS: at sentence #40000, processed 897814 words, keeping 23125 word types\n",
            "2019-03-21 01:08:58,121 : INFO : PROGRESS: at sentence #50000, processed 1116962 words, keeping 25365 word types\n",
            "2019-03-21 01:08:58,183 : INFO : PROGRESS: at sentence #60000, processed 1338403 words, keeping 27283 word types\n",
            "2019-03-21 01:08:58,247 : INFO : PROGRESS: at sentence #70000, processed 1561579 words, keeping 29024 word types\n",
            "2019-03-21 01:08:58,311 : INFO : PROGRESS: at sentence #80000, processed 1780886 words, keeping 30603 word types\n",
            "2019-03-21 01:08:58,381 : INFO : PROGRESS: at sentence #90000, processed 2004995 words, keeping 32223 word types\n",
            "2019-03-21 01:08:58,451 : INFO : PROGRESS: at sentence #100000, processed 2226966 words, keeping 33579 word types\n",
            "2019-03-21 01:08:58,519 : INFO : PROGRESS: at sentence #110000, processed 2446580 words, keeping 34827 word types\n",
            "2019-03-21 01:08:58,588 : INFO : PROGRESS: at sentence #120000, processed 2668775 words, keeping 36183 word types\n",
            "2019-03-21 01:08:58,658 : INFO : PROGRESS: at sentence #130000, processed 2894303 words, keeping 37353 word types\n",
            "2019-03-21 01:08:58,726 : INFO : PROGRESS: at sentence #140000, processed 3107005 words, keeping 38376 word types\n",
            "2019-03-21 01:08:58,799 : INFO : PROGRESS: at sentence #150000, processed 3332627 words, keeping 39556 word types\n",
            "2019-03-21 01:08:58,869 : INFO : PROGRESS: at sentence #160000, processed 3555315 words, keeping 40629 word types\n",
            "2019-03-21 01:08:58,936 : INFO : PROGRESS: at sentence #170000, processed 3778655 words, keeping 41628 word types\n",
            "2019-03-21 01:08:59,001 : INFO : PROGRESS: at sentence #180000, processed 3999236 words, keeping 42599 word types\n",
            "2019-03-21 01:08:59,071 : INFO : PROGRESS: at sentence #190000, processed 4224449 words, keeping 43461 word types\n",
            "2019-03-21 01:08:59,142 : INFO : PROGRESS: at sentence #200000, processed 4448603 words, keeping 44301 word types\n",
            "2019-03-21 01:08:59,210 : INFO : PROGRESS: at sentence #210000, processed 4669967 words, keeping 45212 word types\n",
            "2019-03-21 01:08:59,277 : INFO : PROGRESS: at sentence #220000, processed 4894968 words, keeping 46134 word types\n",
            "2019-03-21 01:08:59,346 : INFO : PROGRESS: at sentence #230000, processed 5117546 words, keeping 46986 word types\n",
            "2019-03-21 01:08:59,415 : INFO : PROGRESS: at sentence #240000, processed 5345051 words, keeping 47854 word types\n",
            "2019-03-21 01:08:59,480 : INFO : PROGRESS: at sentence #250000, processed 5559166 words, keeping 48699 word types\n",
            "2019-03-21 01:08:59,547 : INFO : PROGRESS: at sentence #260000, processed 5779147 words, keeping 49469 word types\n",
            "2019-03-21 01:08:59,615 : INFO : PROGRESS: at sentence #270000, processed 6000436 words, keeping 50416 word types\n",
            "2019-03-21 01:08:59,682 : INFO : PROGRESS: at sentence #280000, processed 6226315 words, keeping 51640 word types\n",
            "2019-03-21 01:08:59,752 : INFO : PROGRESS: at sentence #290000, processed 6449475 words, keeping 52754 word types\n",
            "2019-03-21 01:08:59,822 : INFO : PROGRESS: at sentence #300000, processed 6674078 words, keeping 53755 word types\n",
            "2019-03-21 01:08:59,891 : INFO : PROGRESS: at sentence #310000, processed 6899392 words, keeping 54734 word types\n",
            "2019-03-21 01:08:59,958 : INFO : PROGRESS: at sentence #320000, processed 7124279 words, keeping 55770 word types\n",
            "2019-03-21 01:09:00,030 : INFO : PROGRESS: at sentence #330000, processed 7346022 words, keeping 56687 word types\n",
            "2019-03-21 01:09:00,101 : INFO : PROGRESS: at sentence #340000, processed 7575534 words, keeping 57629 word types\n",
            "2019-03-21 01:09:00,170 : INFO : PROGRESS: at sentence #350000, processed 7798804 words, keeping 58485 word types\n",
            "2019-03-21 01:09:00,238 : INFO : PROGRESS: at sentence #360000, processed 8019467 words, keeping 59345 word types\n",
            "2019-03-21 01:09:00,308 : INFO : PROGRESS: at sentence #370000, processed 8246659 words, keeping 60161 word types\n",
            "2019-03-21 01:09:00,379 : INFO : PROGRESS: at sentence #380000, processed 8471806 words, keeping 61069 word types\n",
            "2019-03-21 01:09:00,449 : INFO : PROGRESS: at sentence #390000, processed 8701556 words, keeping 61810 word types\n",
            "2019-03-21 01:09:00,516 : INFO : PROGRESS: at sentence #400000, processed 8924505 words, keeping 62546 word types\n",
            "2019-03-21 01:09:00,584 : INFO : PROGRESS: at sentence #410000, processed 9145855 words, keeping 63263 word types\n",
            "2019-03-21 01:09:00,655 : INFO : PROGRESS: at sentence #420000, processed 9366935 words, keeping 64024 word types\n",
            "2019-03-21 01:09:00,725 : INFO : PROGRESS: at sentence #430000, processed 9594472 words, keeping 64795 word types\n",
            "2019-03-21 01:09:00,804 : INFO : PROGRESS: at sentence #440000, processed 9821225 words, keeping 65539 word types\n",
            "2019-03-21 01:09:00,873 : INFO : PROGRESS: at sentence #450000, processed 10044987 words, keeping 66378 word types\n",
            "2019-03-21 01:09:00,945 : INFO : PROGRESS: at sentence #460000, processed 10277747 words, keeping 67158 word types\n",
            "2019-03-21 01:09:01,015 : INFO : PROGRESS: at sentence #470000, processed 10505672 words, keeping 67775 word types\n",
            "2019-03-21 01:09:01,082 : INFO : PROGRESS: at sentence #480000, processed 10726056 words, keeping 68500 word types\n",
            "2019-03-21 01:09:01,149 : INFO : PROGRESS: at sentence #490000, processed 10952800 words, keeping 69256 word types\n",
            "2019-03-21 01:09:01,217 : INFO : PROGRESS: at sentence #500000, processed 11174456 words, keeping 69892 word types\n",
            "2019-03-21 01:09:01,285 : INFO : PROGRESS: at sentence #510000, processed 11399731 words, keeping 70593 word types\n",
            "2019-03-21 01:09:01,352 : INFO : PROGRESS: at sentence #520000, processed 11623082 words, keeping 71267 word types\n",
            "2019-03-21 01:09:01,423 : INFO : PROGRESS: at sentence #530000, processed 11847480 words, keeping 71877 word types\n",
            "2019-03-21 01:09:01,495 : INFO : PROGRESS: at sentence #540000, processed 12072095 words, keeping 72537 word types\n",
            "2019-03-21 01:09:01,565 : INFO : PROGRESS: at sentence #550000, processed 12297646 words, keeping 73212 word types\n",
            "2019-03-21 01:09:01,634 : INFO : PROGRESS: at sentence #560000, processed 12518936 words, keeping 73861 word types\n",
            "2019-03-21 01:09:01,706 : INFO : PROGRESS: at sentence #570000, processed 12748083 words, keeping 74431 word types\n",
            "2019-03-21 01:09:01,779 : INFO : PROGRESS: at sentence #580000, processed 12969579 words, keeping 75087 word types\n",
            "2019-03-21 01:09:01,852 : INFO : PROGRESS: at sentence #590000, processed 13195103 words, keeping 75734 word types\n",
            "2019-03-21 01:09:01,922 : INFO : PROGRESS: at sentence #600000, processed 13417301 words, keeping 76295 word types\n",
            "2019-03-21 01:09:01,999 : INFO : PROGRESS: at sentence #610000, processed 13638324 words, keeping 76953 word types\n",
            "2019-03-21 01:09:02,074 : INFO : PROGRESS: at sentence #620000, processed 13864649 words, keeping 77504 word types\n",
            "2019-03-21 01:09:02,148 : INFO : PROGRESS: at sentence #630000, processed 14088935 words, keeping 78067 word types\n",
            "2019-03-21 01:09:02,219 : INFO : PROGRESS: at sentence #640000, processed 14309718 words, keeping 78693 word types\n",
            "2019-03-21 01:09:02,292 : INFO : PROGRESS: at sentence #650000, processed 14535474 words, keeping 79296 word types\n",
            "2019-03-21 01:09:02,363 : INFO : PROGRESS: at sentence #660000, processed 14758264 words, keeping 79865 word types\n",
            "2019-03-21 01:09:02,439 : INFO : PROGRESS: at sentence #670000, processed 14981657 words, keeping 80382 word types\n",
            "2019-03-21 01:09:02,509 : INFO : PROGRESS: at sentence #680000, processed 15206489 words, keeping 80913 word types\n",
            "2019-03-21 01:09:02,583 : INFO : PROGRESS: at sentence #690000, processed 15428682 words, keeping 81483 word types\n",
            "2019-03-21 01:09:02,657 : INFO : PROGRESS: at sentence #700000, processed 15657388 words, keeping 82075 word types\n",
            "2019-03-21 01:09:02,729 : INFO : PROGRESS: at sentence #710000, processed 15880377 words, keeping 82561 word types\n",
            "2019-03-21 01:09:02,797 : INFO : PROGRESS: at sentence #720000, processed 16105664 words, keeping 83037 word types\n",
            "2019-03-21 01:09:02,871 : INFO : PROGRESS: at sentence #730000, processed 16332045 words, keeping 83572 word types\n",
            "2019-03-21 01:09:02,944 : INFO : PROGRESS: at sentence #740000, processed 16553078 words, keeping 84128 word types\n",
            "2019-03-21 01:09:03,015 : INFO : PROGRESS: at sentence #750000, processed 16771405 words, keeping 84600 word types\n",
            "2019-03-21 01:09:03,085 : INFO : PROGRESS: at sentence #760000, processed 16990809 words, keeping 85069 word types\n",
            "2019-03-21 01:09:03,157 : INFO : PROGRESS: at sentence #770000, processed 17217946 words, keeping 85645 word types\n",
            "2019-03-21 01:09:03,237 : INFO : PROGRESS: at sentence #780000, processed 17448092 words, keeping 86161 word types\n",
            "2019-03-21 01:09:03,308 : INFO : PROGRESS: at sentence #790000, processed 17675168 words, keeping 86666 word types\n",
            "2019-03-21 01:09:03,349 : INFO : collected 86997 word types from a corpus of 17798269 raw words and 795538 sentences\n",
            "2019-03-21 01:09:03,350 : INFO : Loading a fresh vocabulary\n",
            "2019-03-21 01:09:03,437 : INFO : effective_min_count=40 retains 11986 unique words (13% of original 86997, drops 75011)\n",
            "2019-03-21 01:09:03,438 : INFO : effective_min_count=40 leaves 17434031 word corpus (97% of original 17798269, drops 364238)\n",
            "2019-03-21 01:09:03,484 : INFO : deleting the raw counts dictionary of 86997 items\n",
            "2019-03-21 01:09:03,490 : INFO : sample=0.001 downsamples 50 most-common words\n",
            "2019-03-21 01:09:03,491 : INFO : downsampling leaves estimated 12872362 word corpus (73.8% of prior 17434031)\n",
            "2019-03-21 01:09:03,549 : INFO : estimated required memory for 11986 words and 300 dimensions: 34759400 bytes\n",
            "2019-03-21 01:09:03,550 : INFO : resetting layer weights\n",
            "2019-03-21 01:09:03,714 : INFO : training model with 4 workers on 11986 vocabulary and 300 features, using sg=0 hs=0 sample=0.001 negative=5 window=10\n",
            "2019-03-21 01:09:04,752 : INFO : EPOCH 1 - PROGRESS: at 2.39% examples, 302597 words/s, in_qsize 7, out_qsize 0\n",
            "2019-03-21 01:09:05,780 : INFO : EPOCH 1 - PROGRESS: at 4.98% examples, 312920 words/s, in_qsize 7, out_qsize 0\n",
            "2019-03-21 01:09:06,791 : INFO : EPOCH 1 - PROGRESS: at 7.66% examples, 320348 words/s, in_qsize 7, out_qsize 0\n",
            "2019-03-21 01:09:07,836 : INFO : EPOCH 1 - PROGRESS: at 10.20% examples, 318059 words/s, in_qsize 7, out_qsize 0\n",
            "2019-03-21 01:09:08,849 : INFO : EPOCH 1 - PROGRESS: at 12.74% examples, 318673 words/s, in_qsize 7, out_qsize 0\n",
            "2019-03-21 01:09:09,868 : INFO : EPOCH 1 - PROGRESS: at 15.34% examples, 319851 words/s, in_qsize 7, out_qsize 0\n",
            "2019-03-21 01:09:10,869 : INFO : EPOCH 1 - PROGRESS: at 17.91% examples, 320446 words/s, in_qsize 8, out_qsize 0\n",
            "2019-03-21 01:09:11,872 : INFO : EPOCH 1 - PROGRESS: at 20.45% examples, 320897 words/s, in_qsize 7, out_qsize 0\n",
            "2019-03-21 01:09:12,911 : INFO : EPOCH 1 - PROGRESS: at 23.09% examples, 321575 words/s, in_qsize 7, out_qsize 0\n",
            "2019-03-21 01:09:13,912 : INFO : EPOCH 1 - PROGRESS: at 25.69% examples, 322591 words/s, in_qsize 7, out_qsize 0\n",
            "2019-03-21 01:09:14,929 : INFO : EPOCH 1 - PROGRESS: at 28.15% examples, 321631 words/s, in_qsize 7, out_qsize 0\n",
            "2019-03-21 01:09:15,933 : INFO : EPOCH 1 - PROGRESS: at 30.68% examples, 321760 words/s, in_qsize 7, out_qsize 0\n",
            "2019-03-21 01:09:16,965 : INFO : EPOCH 1 - PROGRESS: at 33.32% examples, 321707 words/s, in_qsize 7, out_qsize 0\n",
            "2019-03-21 01:09:17,983 : INFO : EPOCH 1 - PROGRESS: at 35.73% examples, 320499 words/s, in_qsize 7, out_qsize 0\n",
            "2019-03-21 01:09:19,013 : INFO : EPOCH 1 - PROGRESS: at 38.24% examples, 320152 words/s, in_qsize 7, out_qsize 0\n",
            "2019-03-21 01:09:20,054 : INFO : EPOCH 1 - PROGRESS: at 40.74% examples, 319664 words/s, in_qsize 7, out_qsize 0\n",
            "2019-03-21 01:09:21,058 : INFO : EPOCH 1 - PROGRESS: at 43.30% examples, 320334 words/s, in_qsize 7, out_qsize 0\n",
            "2019-03-21 01:09:22,082 : INFO : EPOCH 1 - PROGRESS: at 45.89% examples, 320568 words/s, in_qsize 7, out_qsize 0\n",
            "2019-03-21 01:09:23,102 : INFO : EPOCH 1 - PROGRESS: at 48.43% examples, 320808 words/s, in_qsize 7, out_qsize 0\n",
            "2019-03-21 01:09:24,135 : INFO : EPOCH 1 - PROGRESS: at 51.07% examples, 321208 words/s, in_qsize 7, out_qsize 0\n",
            "2019-03-21 01:09:25,171 : INFO : EPOCH 1 - PROGRESS: at 53.67% examples, 321172 words/s, in_qsize 6, out_qsize 1\n",
            "2019-03-21 01:09:26,178 : INFO : EPOCH 1 - PROGRESS: at 56.16% examples, 321220 words/s, in_qsize 7, out_qsize 0\n",
            "2019-03-21 01:09:27,203 : INFO : EPOCH 1 - PROGRESS: at 58.51% examples, 320421 words/s, in_qsize 7, out_qsize 0\n",
            "2019-03-21 01:09:28,224 : INFO : EPOCH 1 - PROGRESS: at 60.97% examples, 320031 words/s, in_qsize 7, out_qsize 0\n",
            "2019-03-21 01:09:29,228 : INFO : EPOCH 1 - PROGRESS: at 63.39% examples, 319620 words/s, in_qsize 7, out_qsize 0\n",
            "2019-03-21 01:09:30,251 : INFO : EPOCH 1 - PROGRESS: at 65.79% examples, 319014 words/s, in_qsize 7, out_qsize 0\n",
            "2019-03-21 01:09:31,264 : INFO : EPOCH 1 - PROGRESS: at 68.21% examples, 318560 words/s, in_qsize 6, out_qsize 1\n",
            "2019-03-21 01:09:32,269 : INFO : EPOCH 1 - PROGRESS: at 70.60% examples, 318231 words/s, in_qsize 6, out_qsize 1\n",
            "2019-03-21 01:09:33,319 : INFO : EPOCH 1 - PROGRESS: at 72.89% examples, 316964 words/s, in_qsize 7, out_qsize 1\n",
            "2019-03-21 01:09:34,326 : INFO : EPOCH 1 - PROGRESS: at 75.25% examples, 316431 words/s, in_qsize 7, out_qsize 0\n",
            "2019-03-21 01:09:35,371 : INFO : EPOCH 1 - PROGRESS: at 77.66% examples, 315788 words/s, in_qsize 5, out_qsize 2\n",
            "2019-03-21 01:09:36,409 : INFO : EPOCH 1 - PROGRESS: at 80.36% examples, 316355 words/s, in_qsize 7, out_qsize 0\n",
            "2019-03-21 01:09:37,411 : INFO : EPOCH 1 - PROGRESS: at 82.89% examples, 316583 words/s, in_qsize 7, out_qsize 0\n",
            "2019-03-21 01:09:38,415 : INFO : EPOCH 1 - PROGRESS: at 85.40% examples, 316805 words/s, in_qsize 7, out_qsize 0\n",
            "2019-03-21 01:09:39,416 : INFO : EPOCH 1 - PROGRESS: at 87.96% examples, 317232 words/s, in_qsize 7, out_qsize 0\n",
            "2019-03-21 01:09:40,432 : INFO : EPOCH 1 - PROGRESS: at 90.54% examples, 317495 words/s, in_qsize 6, out_qsize 1\n",
            "2019-03-21 01:09:41,462 : INFO : EPOCH 1 - PROGRESS: at 93.18% examples, 317827 words/s, in_qsize 7, out_qsize 0\n",
            "2019-03-21 01:09:42,484 : INFO : EPOCH 1 - PROGRESS: at 95.76% examples, 317841 words/s, in_qsize 7, out_qsize 0\n",
            "2019-03-21 01:09:43,493 : INFO : EPOCH 1 - PROGRESS: at 98.23% examples, 317946 words/s, in_qsize 7, out_qsize 0\n",
            "2019-03-21 01:09:44,083 : INFO : worker thread finished; awaiting finish of 3 more threads\n",
            "2019-03-21 01:09:44,107 : INFO : worker thread finished; awaiting finish of 2 more threads\n",
            "2019-03-21 01:09:44,139 : INFO : worker thread finished; awaiting finish of 1 more threads\n",
            "2019-03-21 01:09:44,141 : INFO : worker thread finished; awaiting finish of 0 more threads\n",
            "2019-03-21 01:09:44,146 : INFO : EPOCH - 1 : training on 17798269 raw words (12874209 effective words) took 40.4s, 318501 effective words/s\n",
            "2019-03-21 01:09:45,187 : INFO : EPOCH 2 - PROGRESS: at 2.44% examples, 308888 words/s, in_qsize 6, out_qsize 1\n",
            "2019-03-21 01:09:46,205 : INFO : EPOCH 2 - PROGRESS: at 5.03% examples, 317527 words/s, in_qsize 7, out_qsize 0\n",
            "2019-03-21 01:09:47,239 : INFO : EPOCH 2 - PROGRESS: at 7.66% examples, 318528 words/s, in_qsize 7, out_qsize 0\n",
            "2019-03-21 01:09:48,277 : INFO : EPOCH 2 - PROGRESS: at 10.20% examples, 317215 words/s, in_qsize 7, out_qsize 1\n",
            "2019-03-21 01:09:49,314 : INFO : EPOCH 2 - PROGRESS: at 12.74% examples, 316388 words/s, in_qsize 5, out_qsize 2\n",
            "2019-03-21 01:09:50,346 : INFO : EPOCH 2 - PROGRESS: at 15.40% examples, 318537 words/s, in_qsize 7, out_qsize 0\n",
            "2019-03-21 01:09:51,348 : INFO : EPOCH 2 - PROGRESS: at 17.96% examples, 319297 words/s, in_qsize 7, out_qsize 0\n",
            "2019-03-21 01:09:52,356 : INFO : EPOCH 2 - PROGRESS: at 20.51% examples, 319681 words/s, in_qsize 5, out_qsize 2\n",
            "2019-03-21 01:09:53,398 : INFO : EPOCH 2 - PROGRESS: at 23.21% examples, 321153 words/s, in_qsize 7, out_qsize 0\n",
            "2019-03-21 01:09:54,442 : INFO : EPOCH 2 - PROGRESS: at 25.86% examples, 321579 words/s, in_qsize 7, out_qsize 0\n",
            "2019-03-21 01:09:55,464 : INFO : EPOCH 2 - PROGRESS: at 28.43% examples, 321888 words/s, in_qsize 7, out_qsize 0\n",
            "2019-03-21 01:09:56,491 : INFO : EPOCH 2 - PROGRESS: at 31.09% examples, 322558 words/s, in_qsize 7, out_qsize 0\n",
            "2019-03-21 01:09:57,521 : INFO : EPOCH 2 - PROGRESS: at 33.77% examples, 323065 words/s, in_qsize 7, out_qsize 0\n",
            "2019-03-21 01:09:58,533 : INFO : EPOCH 2 - PROGRESS: at 36.29% examples, 322910 words/s, in_qsize 7, out_qsize 0\n",
            "2019-03-21 01:09:59,572 : INFO : EPOCH 2 - PROGRESS: at 38.91% examples, 323166 words/s, in_qsize 7, out_qsize 0\n",
            "2019-03-21 01:10:00,592 : INFO : EPOCH 2 - PROGRESS: at 41.54% examples, 323742 words/s, in_qsize 7, out_qsize 0\n",
            "2019-03-21 01:10:01,632 : INFO : EPOCH 2 - PROGRESS: at 44.09% examples, 323733 words/s, in_qsize 7, out_qsize 0\n",
            "2019-03-21 01:10:02,624 : INFO : EPOCH 2 - PROGRESS: at 46.61% examples, 323697 words/s, in_qsize 7, out_qsize 0\n",
            "2019-03-21 01:10:03,650 : INFO : EPOCH 2 - PROGRESS: at 48.99% examples, 322575 words/s, in_qsize 7, out_qsize 0\n",
            "2019-03-21 01:10:04,681 : INFO : EPOCH 2 - PROGRESS: at 51.52% examples, 322202 words/s, in_qsize 7, out_qsize 0\n",
            "2019-03-21 01:10:05,696 : INFO : EPOCH 2 - PROGRESS: at 54.10% examples, 322449 words/s, in_qsize 7, out_qsize 0\n",
            "2019-03-21 01:10:06,715 : INFO : EPOCH 2 - PROGRESS: at 56.66% examples, 322587 words/s, in_qsize 7, out_qsize 0\n",
            "2019-03-21 01:10:07,762 : INFO : EPOCH 2 - PROGRESS: at 59.22% examples, 322642 words/s, in_qsize 7, out_qsize 0\n",
            "2019-03-21 01:10:08,778 : INFO : EPOCH 2 - PROGRESS: at 61.87% examples, 323127 words/s, in_qsize 6, out_qsize 1\n",
            "2019-03-21 01:10:09,803 : INFO : EPOCH 2 - PROGRESS: at 64.44% examples, 323252 words/s, in_qsize 7, out_qsize 1\n",
            "2019-03-21 01:10:10,827 : INFO : EPOCH 2 - PROGRESS: at 66.95% examples, 322926 words/s, in_qsize 7, out_qsize 0\n",
            "2019-03-21 01:10:11,848 : INFO : EPOCH 2 - PROGRESS: at 69.53% examples, 323011 words/s, in_qsize 7, out_qsize 0\n",
            "2019-03-21 01:10:12,859 : INFO : EPOCH 2 - PROGRESS: at 72.09% examples, 323212 words/s, in_qsize 7, out_qsize 0\n",
            "2019-03-21 01:10:13,871 : INFO : EPOCH 2 - PROGRESS: at 74.63% examples, 323152 words/s, in_qsize 6, out_qsize 1\n",
            "2019-03-21 01:10:14,884 : INFO : EPOCH 2 - PROGRESS: at 77.16% examples, 323074 words/s, in_qsize 7, out_qsize 0\n",
            "2019-03-21 01:10:15,923 : INFO : EPOCH 2 - PROGRESS: at 79.75% examples, 323049 words/s, in_qsize 8, out_qsize 1\n",
            "2019-03-21 01:10:16,952 : INFO : EPOCH 2 - PROGRESS: at 82.27% examples, 322732 words/s, in_qsize 7, out_qsize 0\n",
            "2019-03-21 01:10:17,953 : INFO : EPOCH 2 - PROGRESS: at 84.72% examples, 322592 words/s, in_qsize 6, out_qsize 1\n",
            "2019-03-21 01:10:18,960 : INFO : EPOCH 2 - PROGRESS: at 87.25% examples, 322586 words/s, in_qsize 7, out_qsize 0\n",
            "2019-03-21 01:10:19,979 : INFO : EPOCH 2 - PROGRESS: at 89.74% examples, 322479 words/s, in_qsize 6, out_qsize 1\n",
            "2019-03-21 01:10:20,991 : INFO : EPOCH 2 - PROGRESS: at 92.33% examples, 322633 words/s, in_qsize 7, out_qsize 0\n",
            "2019-03-21 01:10:21,998 : INFO : EPOCH 2 - PROGRESS: at 94.94% examples, 322824 words/s, in_qsize 8, out_qsize 0\n",
            "2019-03-21 01:10:23,054 : INFO : EPOCH 2 - PROGRESS: at 97.51% examples, 322597 words/s, in_qsize 7, out_qsize 0\n",
            "2019-03-21 01:10:23,944 : INFO : worker thread finished; awaiting finish of 3 more threads\n",
            "2019-03-21 01:10:23,973 : INFO : worker thread finished; awaiting finish of 2 more threads\n",
            "2019-03-21 01:10:23,986 : INFO : worker thread finished; awaiting finish of 1 more threads\n",
            "2019-03-21 01:10:23,997 : INFO : worker thread finished; awaiting finish of 0 more threads\n",
            "2019-03-21 01:10:23,999 : INFO : EPOCH - 2 : training on 17798269 raw words (12872328 effective words) took 39.8s, 323091 effective words/s\n",
            "2019-03-21 01:10:25,034 : INFO : EPOCH 3 - PROGRESS: at 2.51% examples, 318239 words/s, in_qsize 7, out_qsize 0\n",
            "2019-03-21 01:10:26,045 : INFO : EPOCH 3 - PROGRESS: at 5.03% examples, 320073 words/s, in_qsize 7, out_qsize 1\n",
            "2019-03-21 01:10:27,052 : INFO : EPOCH 3 - PROGRESS: at 7.66% examples, 322915 words/s, in_qsize 7, out_qsize 0\n",
            "2019-03-21 01:10:28,088 : INFO : EPOCH 3 - PROGRESS: at 10.26% examples, 322353 words/s, in_qsize 6, out_qsize 1\n",
            "2019-03-21 01:10:29,117 : INFO : EPOCH 3 - PROGRESS: at 12.92% examples, 323990 words/s, in_qsize 6, out_qsize 1\n",
            "2019-03-21 01:10:30,126 : INFO : EPOCH 3 - PROGRESS: at 15.56% examples, 325959 words/s, in_qsize 7, out_qsize 0\n",
            "2019-03-21 01:10:31,170 : INFO : EPOCH 3 - PROGRESS: at 18.19% examples, 324835 words/s, in_qsize 7, out_qsize 0\n",
            "2019-03-21 01:10:32,223 : INFO : EPOCH 3 - PROGRESS: at 20.78% examples, 324059 words/s, in_qsize 7, out_qsize 0\n",
            "2019-03-21 01:10:33,218 : INFO : EPOCH 3 - PROGRESS: at 23.27% examples, 323128 words/s, in_qsize 7, out_qsize 0\n",
            "2019-03-21 01:10:34,231 : INFO : EPOCH 3 - PROGRESS: at 25.75% examples, 322169 words/s, in_qsize 7, out_qsize 0\n",
            "2019-03-21 01:10:35,275 : INFO : EPOCH 3 - PROGRESS: at 28.37% examples, 322348 words/s, in_qsize 4, out_qsize 3\n",
            "2019-03-21 01:10:36,277 : INFO : EPOCH 3 - PROGRESS: at 31.03% examples, 323678 words/s, in_qsize 7, out_qsize 0\n",
            "2019-03-21 01:10:37,281 : INFO : EPOCH 3 - PROGRESS: at 33.60% examples, 323630 words/s, in_qsize 6, out_qsize 1\n",
            "2019-03-21 01:10:38,306 : INFO : EPOCH 3 - PROGRESS: at 36.17% examples, 323652 words/s, in_qsize 7, out_qsize 0\n",
            "2019-03-21 01:10:39,325 : INFO : EPOCH 3 - PROGRESS: at 38.68% examples, 323363 words/s, in_qsize 7, out_qsize 0\n",
            "2019-03-21 01:10:40,345 : INFO : EPOCH 3 - PROGRESS: at 41.31% examples, 323924 words/s, in_qsize 7, out_qsize 0\n",
            "2019-03-21 01:10:41,366 : INFO : EPOCH 3 - PROGRESS: at 43.75% examples, 323185 words/s, in_qsize 8, out_qsize 1\n",
            "2019-03-21 01:10:42,378 : INFO : EPOCH 3 - PROGRESS: at 46.34% examples, 323451 words/s, in_qsize 7, out_qsize 0\n",
            "2019-03-21 01:10:43,383 : INFO : EPOCH 3 - PROGRESS: at 48.77% examples, 323041 words/s, in_qsize 7, out_qsize 0\n",
            "2019-03-21 01:10:44,390 : INFO : EPOCH 3 - PROGRESS: at 51.30% examples, 323017 words/s, in_qsize 7, out_qsize 0\n",
            "2019-03-21 01:10:45,416 : INFO : EPOCH 3 - PROGRESS: at 53.83% examples, 322700 words/s, in_qsize 7, out_qsize 0\n",
            "2019-03-21 01:10:46,425 : INFO : EPOCH 3 - PROGRESS: at 56.27% examples, 322320 words/s, in_qsize 7, out_qsize 1\n",
            "2019-03-21 01:10:47,435 : INFO : EPOCH 3 - PROGRESS: at 58.68% examples, 321977 words/s, in_qsize 6, out_qsize 1\n",
            "2019-03-21 01:10:48,475 : INFO : EPOCH 3 - PROGRESS: at 61.18% examples, 321571 words/s, in_qsize 7, out_qsize 0\n",
            "2019-03-21 01:10:49,484 : INFO : EPOCH 3 - PROGRESS: at 63.72% examples, 321693 words/s, in_qsize 8, out_qsize 3\n",
            "2019-03-21 01:10:50,482 : INFO : EPOCH 3 - PROGRESS: at 66.28% examples, 322008 words/s, in_qsize 7, out_qsize 0\n",
            "2019-03-21 01:10:51,484 : INFO : EPOCH 3 - PROGRESS: at 68.98% examples, 322877 words/s, in_qsize 7, out_qsize 0\n",
            "2019-03-21 01:10:52,494 : INFO : EPOCH 3 - PROGRESS: at 71.43% examples, 322593 words/s, in_qsize 7, out_qsize 0\n",
            "2019-03-21 01:10:53,515 : INFO : EPOCH 3 - PROGRESS: at 74.01% examples, 322710 words/s, in_qsize 7, out_qsize 0\n",
            "2019-03-21 01:10:54,598 : INFO : EPOCH 3 - PROGRESS: at 76.66% examples, 322360 words/s, in_qsize 7, out_qsize 0\n",
            "2019-03-21 01:10:55,639 : INFO : EPOCH 3 - PROGRESS: at 79.29% examples, 322485 words/s, in_qsize 7, out_qsize 0\n",
            "2019-03-21 01:10:56,653 : INFO : EPOCH 3 - PROGRESS: at 81.87% examples, 322643 words/s, in_qsize 6, out_qsize 0\n",
            "2019-03-21 01:10:57,661 : INFO : EPOCH 3 - PROGRESS: at 84.40% examples, 322628 words/s, in_qsize 7, out_qsize 0\n",
            "2019-03-21 01:10:58,691 : INFO : EPOCH 3 - PROGRESS: at 86.92% examples, 322411 words/s, in_qsize 7, out_qsize 0\n",
            "2019-03-21 01:10:59,715 : INFO : EPOCH 3 - PROGRESS: at 89.48% examples, 322470 words/s, in_qsize 7, out_qsize 0\n",
            "2019-03-21 01:11:00,734 : INFO : EPOCH 3 - PROGRESS: at 91.92% examples, 322165 words/s, in_qsize 7, out_qsize 0\n",
            "2019-03-21 01:11:01,741 : INFO : EPOCH 3 - PROGRESS: at 94.38% examples, 321787 words/s, in_qsize 7, out_qsize 0\n",
            "2019-03-21 01:11:02,787 : INFO : EPOCH 3 - PROGRESS: at 96.96% examples, 321682 words/s, in_qsize 7, out_qsize 0\n",
            "2019-03-21 01:11:03,793 : INFO : EPOCH 3 - PROGRESS: at 99.49% examples, 321898 words/s, in_qsize 7, out_qsize 0\n",
            "2019-03-21 01:11:03,922 : INFO : worker thread finished; awaiting finish of 3 more threads\n",
            "2019-03-21 01:11:03,931 : INFO : worker thread finished; awaiting finish of 2 more threads\n",
            "2019-03-21 01:11:03,956 : INFO : worker thread finished; awaiting finish of 1 more threads\n",
            "2019-03-21 01:11:03,968 : INFO : worker thread finished; awaiting finish of 0 more threads\n",
            "2019-03-21 01:11:03,970 : INFO : EPOCH - 3 : training on 17798269 raw words (12870162 effective words) took 40.0s, 322093 effective words/s\n",
            "2019-03-21 01:11:05,003 : INFO : EPOCH 4 - PROGRESS: at 2.45% examples, 311099 words/s, in_qsize 7, out_qsize 0\n",
            "2019-03-21 01:11:06,044 : INFO : EPOCH 4 - PROGRESS: at 5.09% examples, 318511 words/s, in_qsize 7, out_qsize 0\n",
            "2019-03-21 01:11:07,050 : INFO : EPOCH 4 - PROGRESS: at 7.71% examples, 322180 words/s, in_qsize 7, out_qsize 0\n",
            "2019-03-21 01:11:08,083 : INFO : EPOCH 4 - PROGRESS: at 10.37% examples, 323806 words/s, in_qsize 7, out_qsize 0\n",
            "2019-03-21 01:11:09,145 : INFO : EPOCH 4 - PROGRESS: at 13.08% examples, 324409 words/s, in_qsize 7, out_qsize 0\n",
            "2019-03-21 01:11:10,148 : INFO : EPOCH 4 - PROGRESS: at 15.68% examples, 325555 words/s, in_qsize 7, out_qsize 0\n",
            "2019-03-21 01:11:11,153 : INFO : EPOCH 4 - PROGRESS: at 18.25% examples, 325242 words/s, in_qsize 7, out_qsize 0\n",
            "2019-03-21 01:11:12,157 : INFO : EPOCH 4 - PROGRESS: at 20.78% examples, 325017 words/s, in_qsize 7, out_qsize 0\n",
            "2019-03-21 01:11:13,168 : INFO : EPOCH 4 - PROGRESS: at 23.38% examples, 325445 words/s, in_qsize 7, out_qsize 0\n",
            "2019-03-21 01:11:14,180 : INFO : EPOCH 4 - PROGRESS: at 25.97% examples, 325711 words/s, in_qsize 7, out_qsize 0\n",
            "2019-03-21 01:11:15,186 : INFO : EPOCH 4 - PROGRESS: at 28.48% examples, 325446 words/s, in_qsize 7, out_qsize 0\n",
            "2019-03-21 01:11:16,200 : INFO : EPOCH 4 - PROGRESS: at 30.86% examples, 323218 words/s, in_qsize 7, out_qsize 0\n",
            "2019-03-21 01:11:17,247 : INFO : EPOCH 4 - PROGRESS: at 33.50% examples, 322686 words/s, in_qsize 7, out_qsize 0\n",
            "2019-03-21 01:11:18,258 : INFO : EPOCH 4 - PROGRESS: at 36.00% examples, 322589 words/s, in_qsize 7, out_qsize 0\n",
            "2019-03-21 01:11:19,288 : INFO : EPOCH 4 - PROGRESS: at 38.51% examples, 322126 words/s, in_qsize 7, out_qsize 0\n",
            "2019-03-21 01:11:20,314 : INFO : EPOCH 4 - PROGRESS: at 41.09% examples, 322219 words/s, in_qsize 8, out_qsize 1\n",
            "2019-03-21 01:11:21,331 : INFO : EPOCH 4 - PROGRESS: at 43.64% examples, 322468 words/s, in_qsize 7, out_qsize 0\n",
            "2019-03-21 01:11:22,340 : INFO : EPOCH 4 - PROGRESS: at 46.22% examples, 322809 words/s, in_qsize 7, out_qsize 0\n",
            "2019-03-21 01:11:23,350 : INFO : EPOCH 4 - PROGRESS: at 48.71% examples, 322757 words/s, in_qsize 6, out_qsize 1\n",
            "2019-03-21 01:11:24,365 : INFO : EPOCH 4 - PROGRESS: at 51.31% examples, 322988 words/s, in_qsize 7, out_qsize 0\n",
            "2019-03-21 01:11:25,381 : INFO : EPOCH 4 - PROGRESS: at 53.93% examples, 323504 words/s, in_qsize 7, out_qsize 0\n",
            "2019-03-21 01:11:26,417 : INFO : EPOCH 4 - PROGRESS: at 56.49% examples, 323389 words/s, in_qsize 7, out_qsize 2\n",
            "2019-03-21 01:11:27,437 : INFO : EPOCH 4 - PROGRESS: at 59.11% examples, 324084 words/s, in_qsize 7, out_qsize 0\n",
            "2019-03-21 01:11:28,441 : INFO : EPOCH 4 - PROGRESS: at 61.58% examples, 323786 words/s, in_qsize 7, out_qsize 0\n",
            "2019-03-21 01:11:29,502 : INFO : EPOCH 4 - PROGRESS: at 64.28% examples, 323921 words/s, in_qsize 7, out_qsize 0\n",
            "2019-03-21 01:11:30,508 : INFO : EPOCH 4 - PROGRESS: at 66.85% examples, 324150 words/s, in_qsize 7, out_qsize 0\n",
            "2019-03-21 01:11:31,552 : INFO : EPOCH 4 - PROGRESS: at 69.31% examples, 323399 words/s, in_qsize 7, out_qsize 0\n",
            "2019-03-21 01:11:32,589 : INFO : EPOCH 4 - PROGRESS: at 71.88% examples, 323295 words/s, in_qsize 6, out_qsize 1\n",
            "2019-03-21 01:11:33,592 : INFO : EPOCH 4 - PROGRESS: at 74.40% examples, 323324 words/s, in_qsize 7, out_qsize 0\n",
            "2019-03-21 01:11:34,615 : INFO : EPOCH 4 - PROGRESS: at 76.98% examples, 323356 words/s, in_qsize 8, out_qsize 0\n",
            "2019-03-21 01:11:35,620 : INFO : EPOCH 4 - PROGRESS: at 79.46% examples, 323131 words/s, in_qsize 7, out_qsize 0\n",
            "2019-03-21 01:11:36,672 : INFO : EPOCH 4 - PROGRESS: at 82.09% examples, 323101 words/s, in_qsize 7, out_qsize 0\n",
            "2019-03-21 01:11:37,702 : INFO : EPOCH 4 - PROGRESS: at 84.77% examples, 323505 words/s, in_qsize 7, out_qsize 0\n",
            "2019-03-21 01:11:38,721 : INFO : EPOCH 4 - PROGRESS: at 87.37% examples, 323582 words/s, in_qsize 7, out_qsize 0\n",
            "2019-03-21 01:11:39,738 : INFO : EPOCH 4 - PROGRESS: at 89.86% examples, 323467 words/s, in_qsize 7, out_qsize 0\n",
            "2019-03-21 01:11:40,761 : INFO : EPOCH 4 - PROGRESS: at 92.50% examples, 323695 words/s, in_qsize 7, out_qsize 0\n",
            "2019-03-21 01:11:41,791 : INFO : EPOCH 4 - PROGRESS: at 95.11% examples, 323658 words/s, in_qsize 7, out_qsize 0\n",
            "2019-03-21 01:11:42,808 : INFO : EPOCH 4 - PROGRESS: at 97.67% examples, 323750 words/s, in_qsize 7, out_qsize 0\n",
            "2019-03-21 01:11:43,681 : INFO : worker thread finished; awaiting finish of 3 more threads\n",
            "2019-03-21 01:11:43,684 : INFO : worker thread finished; awaiting finish of 2 more threads\n",
            "2019-03-21 01:11:43,690 : INFO : worker thread finished; awaiting finish of 1 more threads\n",
            "2019-03-21 01:11:43,694 : INFO : worker thread finished; awaiting finish of 0 more threads\n",
            "2019-03-21 01:11:43,698 : INFO : EPOCH - 4 : training on 17798269 raw words (12873161 effective words) took 39.7s, 324117 effective words/s\n",
            "2019-03-21 01:11:44,727 : INFO : EPOCH 5 - PROGRESS: at 2.34% examples, 298113 words/s, in_qsize 7, out_qsize 0\n",
            "2019-03-21 01:11:45,732 : INFO : EPOCH 5 - PROGRESS: at 4.81% examples, 307265 words/s, in_qsize 7, out_qsize 0\n",
            "2019-03-21 01:11:46,806 : INFO : EPOCH 5 - PROGRESS: at 7.42% examples, 307701 words/s, in_qsize 8, out_qsize 2\n",
            "2019-03-21 01:11:47,809 : INFO : EPOCH 5 - PROGRESS: at 10.03% examples, 313387 words/s, in_qsize 7, out_qsize 0\n",
            "2019-03-21 01:11:48,842 : INFO : EPOCH 5 - PROGRESS: at 12.63% examples, 315090 words/s, in_qsize 8, out_qsize 0\n",
            "2019-03-21 01:11:49,845 : INFO : EPOCH 5 - PROGRESS: at 15.18% examples, 316557 words/s, in_qsize 8, out_qsize 1\n",
            "2019-03-21 01:11:50,880 : INFO : EPOCH 5 - PROGRESS: at 17.80% examples, 317190 words/s, in_qsize 7, out_qsize 0\n",
            "2019-03-21 01:11:51,912 : INFO : EPOCH 5 - PROGRESS: at 20.39% examples, 317718 words/s, in_qsize 7, out_qsize 0\n",
            "2019-03-21 01:11:52,915 : INFO : EPOCH 5 - PROGRESS: at 22.98% examples, 319189 words/s, in_qsize 7, out_qsize 0\n",
            "2019-03-21 01:11:53,943 : INFO : EPOCH 5 - PROGRESS: at 25.57% examples, 319637 words/s, in_qsize 7, out_qsize 1\n",
            "2019-03-21 01:11:54,964 : INFO : EPOCH 5 - PROGRESS: at 28.20% examples, 320730 words/s, in_qsize 7, out_qsize 0\n",
            "2019-03-21 01:11:55,992 : INFO : EPOCH 5 - PROGRESS: at 30.80% examples, 320873 words/s, in_qsize 5, out_qsize 2\n",
            "2019-03-21 01:11:57,025 : INFO : EPOCH 5 - PROGRESS: at 33.50% examples, 321456 words/s, in_qsize 7, out_qsize 0\n",
            "2019-03-21 01:11:58,054 : INFO : EPOCH 5 - PROGRESS: at 36.06% examples, 321661 words/s, in_qsize 7, out_qsize 0\n",
            "2019-03-21 01:11:59,088 : INFO : EPOCH 5 - PROGRESS: at 38.57% examples, 321046 words/s, in_qsize 7, out_qsize 0\n",
            "2019-03-21 01:12:00,102 : INFO : EPOCH 5 - PROGRESS: at 41.14% examples, 321447 words/s, in_qsize 7, out_qsize 0\n",
            "2019-03-21 01:12:01,122 : INFO : EPOCH 5 - PROGRESS: at 43.57% examples, 320847 words/s, in_qsize 6, out_qsize 1\n",
            "2019-03-21 01:12:02,142 : INFO : EPOCH 5 - PROGRESS: at 46.11% examples, 320732 words/s, in_qsize 7, out_qsize 0\n",
            "2019-03-21 01:12:03,192 : INFO : EPOCH 5 - PROGRESS: at 48.60% examples, 320105 words/s, in_qsize 6, out_qsize 1\n",
            "2019-03-21 01:12:04,206 : INFO : EPOCH 5 - PROGRESS: at 51.13% examples, 320141 words/s, in_qsize 6, out_qsize 1\n",
            "2019-03-21 01:12:05,257 : INFO : EPOCH 5 - PROGRESS: at 53.83% examples, 320614 words/s, in_qsize 7, out_qsize 0\n",
            "2019-03-21 01:12:06,270 : INFO : EPOCH 5 - PROGRESS: at 56.38% examples, 320920 words/s, in_qsize 7, out_qsize 0\n",
            "2019-03-21 01:12:07,273 : INFO : EPOCH 5 - PROGRESS: at 59.00% examples, 321960 words/s, in_qsize 7, out_qsize 0\n",
            "2019-03-21 01:12:08,328 : INFO : EPOCH 5 - PROGRESS: at 61.58% examples, 321651 words/s, in_qsize 6, out_qsize 1\n",
            "2019-03-21 01:12:09,350 : INFO : EPOCH 5 - PROGRESS: at 64.16% examples, 321786 words/s, in_qsize 7, out_qsize 0\n",
            "2019-03-21 01:12:10,388 : INFO : EPOCH 5 - PROGRESS: at 66.80% examples, 321967 words/s, in_qsize 7, out_qsize 0\n",
            "2019-03-21 01:12:11,432 : INFO : EPOCH 5 - PROGRESS: at 69.42% examples, 322072 words/s, in_qsize 7, out_qsize 0\n",
            "2019-03-21 01:12:12,465 : INFO : EPOCH 5 - PROGRESS: at 71.99% examples, 322076 words/s, in_qsize 7, out_qsize 0\n",
            "2019-03-21 01:12:13,494 : INFO : EPOCH 5 - PROGRESS: at 74.63% examples, 322351 words/s, in_qsize 8, out_qsize 0\n",
            "2019-03-21 01:12:14,513 : INFO : EPOCH 5 - PROGRESS: at 77.16% examples, 322227 words/s, in_qsize 6, out_qsize 1\n",
            "2019-03-21 01:12:15,527 : INFO : EPOCH 5 - PROGRESS: at 79.63% examples, 321950 words/s, in_qsize 8, out_qsize 0\n",
            "2019-03-21 01:12:16,531 : INFO : EPOCH 5 - PROGRESS: at 82.04% examples, 321536 words/s, in_qsize 7, out_qsize 0\n",
            "2019-03-21 01:12:17,549 : INFO : EPOCH 5 - PROGRESS: at 84.56% examples, 321471 words/s, in_qsize 7, out_qsize 0\n",
            "2019-03-21 01:12:18,578 : INFO : EPOCH 5 - PROGRESS: at 87.14% examples, 321518 words/s, in_qsize 7, out_qsize 0\n",
            "2019-03-21 01:12:19,603 : INFO : EPOCH 5 - PROGRESS: at 89.74% examples, 321787 words/s, in_qsize 7, out_qsize 0\n",
            "2019-03-21 01:12:20,627 : INFO : EPOCH 5 - PROGRESS: at 92.33% examples, 321862 words/s, in_qsize 7, out_qsize 0\n",
            "2019-03-21 01:12:21,628 : INFO : EPOCH 5 - PROGRESS: at 95.00% examples, 322308 words/s, in_qsize 7, out_qsize 0\n",
            "2019-03-21 01:12:22,641 : INFO : EPOCH 5 - PROGRESS: at 97.51% examples, 322278 words/s, in_qsize 7, out_qsize 0\n",
            "2019-03-21 01:12:23,550 : INFO : worker thread finished; awaiting finish of 3 more threads\n",
            "2019-03-21 01:12:23,569 : INFO : worker thread finished; awaiting finish of 2 more threads\n",
            "2019-03-21 01:12:23,577 : INFO : worker thread finished; awaiting finish of 1 more threads\n",
            "2019-03-21 01:12:23,587 : INFO : worker thread finished; awaiting finish of 0 more threads\n",
            "2019-03-21 01:12:23,589 : INFO : EPOCH - 5 : training on 17798269 raw words (12871325 effective words) took 39.9s, 322758 effective words/s\n",
            "2019-03-21 01:12:23,591 : INFO : training on a 88991345 raw words (64361185 effective words) took 199.9s, 322005 effective words/s\n"
          ],
          "name": "stderr"
        },
        {
          "output_type": "execute_result",
          "data": {
            "text/plain": [
              "<gensim.models.word2vec.Word2Vec at 0x7f51dd56a0b8>"
            ]
          },
          "metadata": {
            "tags": []
          },
          "execution_count": 22
        }
      ]
    },
    {
      "metadata": {
        "id": "7RX3_OAazyfV",
        "colab_type": "code",
        "colab": {
          "base_uri": "https://localhost:8080/",
          "height": 102
        },
        "outputId": "8a5e81be-f734-4e90-84a0-c17958447f03"
      },
      "cell_type": "code",
      "source": [
        "# 학습이 완료 되면 필요없는 메모리를 unload 시킨다.\n",
        "model.init_sims(replace=True)\n",
        "\n",
        "model_name = '300features_40minwords_10text'\n",
        "# model_name = '300features_50minwords_20text'\n",
        "model.save(model_name)"
      ],
      "execution_count": 23,
      "outputs": [
        {
          "output_type": "stream",
          "text": [
            "2019-03-21 01:13:34,426 : INFO : precomputing L2-norms of word weight vectors\n",
            "2019-03-21 01:13:34,532 : INFO : saving Word2Vec object under 300features_40minwords_10text, separately None\n",
            "2019-03-21 01:13:34,534 : INFO : not storing attribute vectors_norm\n",
            "2019-03-21 01:13:34,536 : INFO : not storing attribute cum_table\n",
            "2019-03-21 01:13:34,955 : INFO : saved 300features_40minwords_10text\n"
          ],
          "name": "stderr"
        }
      ]
    },
    {
      "metadata": {
        "id": "ECUXtt3L0DmT",
        "colab_type": "code",
        "colab": {
          "base_uri": "https://localhost:8080/",
          "height": 34
        },
        "outputId": "283fedbd-d008-4b78-e433-2164b1b49879"
      },
      "cell_type": "code",
      "source": [
        "model.wv.doesnt_match('man woman child kitchen'.split())"
      ],
      "execution_count": 24,
      "outputs": [
        {
          "output_type": "execute_result",
          "data": {
            "text/plain": [
              "'kitchen'"
            ]
          },
          "metadata": {
            "tags": []
          },
          "execution_count": 24
        }
      ]
    },
    {
      "metadata": {
        "id": "JJe5mbjr0JDa",
        "colab_type": "code",
        "colab": {
          "base_uri": "https://localhost:8080/",
          "height": 51
        },
        "outputId": "838858b1-38ff-4e27-8eb3-c31c33782f83"
      },
      "cell_type": "code",
      "source": [
        "model.wv.doesnt_match(\"france england germany berlin\".split())\n"
      ],
      "execution_count": 25,
      "outputs": [
        {
          "output_type": "stream",
          "text": [
            "2019-03-21 01:14:47,848 : WARNING : vectors for words {'germany', 'france'} are not present in the model, ignoring these words\n"
          ],
          "name": "stderr"
        },
        {
          "output_type": "execute_result",
          "data": {
            "text/plain": [
              "'berlin'"
            ]
          },
          "metadata": {
            "tags": []
          },
          "execution_count": 25
        }
      ]
    },
    {
      "metadata": {
        "id": "8Snafopc0OuJ",
        "colab_type": "code",
        "colab": {
          "base_uri": "https://localhost:8080/",
          "height": 187
        },
        "outputId": "f3a74c27-e6cc-4ca7-e1b4-bba02d5b2104"
      },
      "cell_type": "code",
      "source": [
        "model.wv.most_similar(\"man\")"
      ],
      "execution_count": 26,
      "outputs": [
        {
          "output_type": "execute_result",
          "data": {
            "text/plain": [
              "[('woman', 0.6339884996414185),\n",
              " ('lad', 0.5292966365814209),\n",
              " ('ladi', 0.507643461227417),\n",
              " ('businessman', 0.5046811103820801),\n",
              " ('farmer', 0.4971870183944702),\n",
              " ('millionair', 0.4926856458187103),\n",
              " ('widow', 0.4657829999923706),\n",
              " ('men', 0.463693767786026),\n",
              " ('doctor', 0.46008381247520447),\n",
              " ('lawyer', 0.4528348445892334)]"
            ]
          },
          "metadata": {
            "tags": []
          },
          "execution_count": 26
        }
      ]
    },
    {
      "metadata": {
        "id": "NN_ECt4H0V_9",
        "colab_type": "code",
        "colab": {
          "base_uri": "https://localhost:8080/",
          "height": 187
        },
        "outputId": "03ece127-4537-4736-c8ba-16e379f93598"
      },
      "cell_type": "code",
      "source": [
        "model.wv.most_similar(\"queen\")"
      ],
      "execution_count": 27,
      "outputs": [
        {
          "output_type": "execute_result",
          "data": {
            "text/plain": [
              "[('princess', 0.6476675271987915),\n",
              " ('latifah', 0.580991268157959),\n",
              " ('goddess', 0.5664165019989014),\n",
              " ('stepmoth', 0.566413402557373),\n",
              " ('mistress', 0.5628594160079956),\n",
              " ('victoria', 0.5612838864326477),\n",
              " ('madam', 0.5576258301734924),\n",
              " ('regina', 0.5514251589775085),\n",
              " ('bride', 0.5455977916717529),\n",
              " ('dame', 0.5441324710845947)]"
            ]
          },
          "metadata": {
            "tags": []
          },
          "execution_count": 27
        }
      ]
    },
    {
      "metadata": {
        "id": "1WbVc0xe0YHk",
        "colab_type": "code",
        "colab": {
          "base_uri": "https://localhost:8080/",
          "height": 187
        },
        "outputId": "98d71e54-bb1f-4d49-971b-8f213d3dd734"
      },
      "cell_type": "code",
      "source": [
        "model.wv.most_similar(\"film\")\n"
      ],
      "execution_count": 28,
      "outputs": [
        {
          "output_type": "execute_result",
          "data": {
            "text/plain": [
              "[('movi', 0.851273775100708),\n",
              " ('flick', 0.611419141292572),\n",
              " ('documentari', 0.5783987045288086),\n",
              " ('pictur', 0.5655041933059692),\n",
              " ('cinema', 0.5301065444946289),\n",
              " ('genr', 0.4813758134841919),\n",
              " ('masterpiec', 0.48033344745635986),\n",
              " ('it', 0.4787106513977051),\n",
              " ('sequel', 0.47575390338897705),\n",
              " ('thriller', 0.4629574716091156)]"
            ]
          },
          "metadata": {
            "tags": []
          },
          "execution_count": 28
        }
      ]
    },
    {
      "metadata": {
        "id": "_3vxrXwF0a6c",
        "colab_type": "code",
        "colab": {
          "base_uri": "https://localhost:8080/",
          "height": 187
        },
        "outputId": "62769aa8-19cb-4621-8739-87d29bbe8185"
      },
      "cell_type": "code",
      "source": [
        "model.wv.most_similar(\"happi\") # stemming 처리 시\n"
      ],
      "execution_count": 29,
      "outputs": [
        {
          "output_type": "execute_result",
          "data": {
            "text/plain": [
              "[('unhappi', 0.4548434317111969),\n",
              " ('sad', 0.39091408252716064),\n",
              " ('satisfi', 0.3898582458496094),\n",
              " ('glad', 0.3880244493484497),\n",
              " ('happier', 0.3837875723838806),\n",
              " ('bitter', 0.37709566950798035),\n",
              " ('afraid', 0.3685723543167114),\n",
              " ('comfort', 0.36746370792388916),\n",
              " ('lucki', 0.36680322885513306),\n",
              " ('joy', 0.36348921060562134)]"
            ]
          },
          "metadata": {
            "tags": []
          },
          "execution_count": 29
        }
      ]
    },
    {
      "metadata": {
        "id": "v3I7sItJ0fjF",
        "colab_type": "code",
        "colab": {
          "base_uri": "https://localhost:8080/",
          "height": 187
        },
        "outputId": "68d0f494-4024-49a9-b13f-ab4824d155a5"
      },
      "cell_type": "code",
      "source": [
        "# 참고 https://stackoverflow.com/questions/43776572/visualise-word2vec-generated-from-gensim\n",
        "from sklearn.manifold import TSNE\n",
        "import matplotlib as mpl\n",
        "import matplotlib.pyplot as plt\n",
        "import gensim \n",
        "import gensim.models as g\n",
        "\n",
        "# 그래프에서 마이너스 폰트 깨지는 문제에 대한 대처\n",
        "mpl.rcParams['axes.unicode_minus'] = False\n",
        "\n",
        "model_name = '300features_40minwords_10text'\n",
        "model = g.Doc2Vec.load(model_name)\n",
        "\n",
        "vocab = list(model.wv.vocab)\n",
        "X = model[vocab]\n",
        "\n",
        "print(len(X))\n",
        "print(X[0][:10])\n",
        "tsne = TSNE(n_components=2)\n",
        "\n",
        "# 100개의 단어에 대해서만 시각화\n",
        "X_tsne = tsne.fit_transform(X[:100,:])\n",
        "# X_tsne = tsne.fit_transform(X)"
      ],
      "execution_count": 30,
      "outputs": [
        {
          "output_type": "stream",
          "text": [
            "2019-03-21 01:16:20,154 : INFO : loading Doc2Vec object from 300features_40minwords_10text\n",
            "2019-03-21 01:16:20,402 : INFO : loading wv recursively from 300features_40minwords_10text.wv.* with mmap=None\n",
            "2019-03-21 01:16:20,406 : INFO : setting ignored attribute vectors_norm to None\n",
            "2019-03-21 01:16:20,407 : INFO : loading vocabulary recursively from 300features_40minwords_10text.vocabulary.* with mmap=None\n",
            "2019-03-21 01:16:20,410 : INFO : loading trainables recursively from 300features_40minwords_10text.trainables.* with mmap=None\n",
            "2019-03-21 01:16:20,412 : INFO : setting ignored attribute cum_table to None\n",
            "2019-03-21 01:16:20,413 : INFO : loaded 300features_40minwords_10text\n"
          ],
          "name": "stderr"
        },
        {
          "output_type": "stream",
          "text": [
            "11986\n",
            "[-0.05006994 -0.08212035 -0.02762312 -0.04408143  0.02328859  0.07902563\n",
            " -0.02770486 -0.08281453 -0.07286561  0.02250257]\n"
          ],
          "name": "stdout"
        }
      ]
    },
    {
      "metadata": {
        "id": "XAkxy-Bs0k62",
        "colab_type": "code",
        "colab": {
          "base_uri": "https://localhost:8080/",
          "height": 34
        },
        "outputId": "c790dfd0-e74a-4e95-ecbc-87d4f2cc4d11"
      },
      "cell_type": "code",
      "source": [
        "df = pd.DataFrame(X_tsne, index=vocab[:100], columns=['x', 'y'])\n",
        "df.shape"
      ],
      "execution_count": 31,
      "outputs": [
        {
          "output_type": "execute_result",
          "data": {
            "text/plain": [
              "(100, 2)"
            ]
          },
          "metadata": {
            "tags": []
          },
          "execution_count": 31
        }
      ]
    },
    {
      "metadata": {
        "id": "MVTRrXIG0na9",
        "colab_type": "code",
        "colab": {
          "base_uri": "https://localhost:8080/",
          "height": 359
        },
        "outputId": "01a3bc25-93a4-4aae-97ce-7e683baecbab"
      },
      "cell_type": "code",
      "source": [
        "df.head(10)"
      ],
      "execution_count": 32,
      "outputs": [
        {
          "output_type": "execute_result",
          "data": {
            "text/html": [
              "<div>\n",
              "<style scoped>\n",
              "    .dataframe tbody tr th:only-of-type {\n",
              "        vertical-align: middle;\n",
              "    }\n",
              "\n",
              "    .dataframe tbody tr th {\n",
              "        vertical-align: top;\n",
              "    }\n",
              "\n",
              "    .dataframe thead th {\n",
              "        text-align: right;\n",
              "    }\n",
              "</style>\n",
              "<table border=\"1\" class=\"dataframe\">\n",
              "  <thead>\n",
              "    <tr style=\"text-align: right;\">\n",
              "      <th></th>\n",
              "      <th>x</th>\n",
              "      <th>y</th>\n",
              "    </tr>\n",
              "  </thead>\n",
              "  <tbody>\n",
              "    <tr>\n",
              "      <th>with</th>\n",
              "      <td>4.713111</td>\n",
              "      <td>-3.466748</td>\n",
              "    </tr>\n",
              "    <tr>\n",
              "      <th>all</th>\n",
              "      <td>5.078663</td>\n",
              "      <td>0.990092</td>\n",
              "    </tr>\n",
              "    <tr>\n",
              "      <th>this</th>\n",
              "      <td>2.346840</td>\n",
              "      <td>0.501852</td>\n",
              "    </tr>\n",
              "    <tr>\n",
              "      <th>stuff</th>\n",
              "      <td>0.726619</td>\n",
              "      <td>4.808380</td>\n",
              "    </tr>\n",
              "    <tr>\n",
              "      <th>go</th>\n",
              "      <td>-2.568001</td>\n",
              "      <td>-1.618535</td>\n",
              "    </tr>\n",
              "    <tr>\n",
              "      <th>down</th>\n",
              "      <td>3.208098</td>\n",
              "      <td>-6.651840</td>\n",
              "    </tr>\n",
              "    <tr>\n",
              "      <th>at</th>\n",
              "      <td>3.195810</td>\n",
              "      <td>-4.770460</td>\n",
              "    </tr>\n",
              "    <tr>\n",
              "      <th>the</th>\n",
              "      <td>6.178428</td>\n",
              "      <td>-0.193262</td>\n",
              "    </tr>\n",
              "    <tr>\n",
              "      <th>moment</th>\n",
              "      <td>7.915040</td>\n",
              "      <td>3.561790</td>\n",
              "    </tr>\n",
              "    <tr>\n",
              "      <th>mj</th>\n",
              "      <td>1.203886</td>\n",
              "      <td>10.112746</td>\n",
              "    </tr>\n",
              "  </tbody>\n",
              "</table>\n",
              "</div>"
            ],
            "text/plain": [
              "               x          y\n",
              "with    4.713111  -3.466748\n",
              "all     5.078663   0.990092\n",
              "this    2.346840   0.501852\n",
              "stuff   0.726619   4.808380\n",
              "go     -2.568001  -1.618535\n",
              "down    3.208098  -6.651840\n",
              "at      3.195810  -4.770460\n",
              "the     6.178428  -0.193262\n",
              "moment  7.915040   3.561790\n",
              "mj      1.203886  10.112746"
            ]
          },
          "metadata": {
            "tags": []
          },
          "execution_count": 32
        }
      ]
    },
    {
      "metadata": {
        "id": "RxYom2by0qMC",
        "colab_type": "code",
        "colab": {
          "base_uri": "https://localhost:8080/",
          "height": 1155
        },
        "outputId": "cf5dcdab-65e2-4f36-a27d-b81496d6f200"
      },
      "cell_type": "code",
      "source": [
        "fig = plt.figure()\n",
        "fig.set_size_inches(40, 20)\n",
        "ax = fig.add_subplot(1, 1, 1)\n",
        "\n",
        "ax.scatter(df['x'], df['y'])\n",
        "\n",
        "for word, pos in df.iterrows():\n",
        "    ax.annotate(word, pos, fontsize=30)\n",
        "plt.show()"
      ],
      "execution_count": 33,
      "outputs": [
        {
          "output_type": "display_data",
          "data": {
            "image/png": "[encoded data removed]",
            "text/plain": [
              "<Figure size 2880x1440 with 1 Axes>"
            ]
          },
          "metadata": {
            "tags": []
          }
        }
      ]
    },
    {
      "metadata": {
        "id": "a3Nkbm0i1M-b",
        "colab_type": "code",
        "colab": {}
      },
      "cell_type": "code",
      "source": [
        "import numpy as np\n",
        "\n",
        "def makeFeatureVec(words, model, num_features):\n",
        "    \"\"\"\n",
        "    주어진 문장에서 단어 벡터의 평균을 구하는 함수\n",
        "    \"\"\"\n",
        "    # 속도를 위해 0으로 채운 배열로 초기화 한다.\n",
        "    featureVec = np.zeros((num_features,),dtype=\"float32\")\n",
        "\n",
        "    nwords = 0.\n",
        "    # Index2word는 모델의 사전에 있는 단어명을 담은 리스트이다.\n",
        "    # 속도를 위해 set 형태로 초기화 한다.\n",
        "    index2word_set = set(model.wv.index2word)\n",
        "    # 루프를 돌며 모델 사전에 포함이 되는 단어라면 피처에 추가한다.\n",
        "    for word in words:\n",
        "        if word in index2word_set:\n",
        "            nwords = nwords + 1.\n",
        "            featureVec = np.add(featureVec,model[word])\n",
        "    # 결과를 단어수로 나누어 평균을 구한다.\n",
        "    featureVec = np.divide(featureVec,nwords)\n",
        "    return featureVec"
      ],
      "execution_count": 0,
      "outputs": []
    },
    {
      "metadata": {
        "id": "B-VAlUAC1Om-",
        "colab_type": "code",
        "colab": {}
      },
      "cell_type": "code",
      "source": [
        "def getAvgFeatureVecs(reviews, model, num_features):\n",
        "    # 리뷰 단어 목록의 각각에 대한 평균 feature 벡터를 계산하고 \n",
        "    # 2D numpy 배열을 반환한다.\n",
        "    \n",
        "    # 카운터를 초기화 한다.\n",
        "    counter = 0.\n",
        "    # 속도를 위해 2D 넘파이 배열을 미리 할당한다.\n",
        "    reviewFeatureVecs = np.zeros(\n",
        "        (len(reviews),num_features),dtype=\"float32\")\n",
        "    \n",
        "    for review in reviews:\n",
        "       # 매 1000개 리뷰마다 상태를 출력\n",
        "       if counter%1000. == 0.:\n",
        "           print(\"Review %d of %d\" % (counter, len(reviews)))\n",
        "       # 평균 피처 벡터를 만들기 위해 위에서 정의한 함수를 호출한다.\n",
        "       reviewFeatureVecs[int(counter)] = makeFeatureVec(review, model, \\\n",
        "           num_features)\n",
        "       # 카운터를 증가시킨다.\n",
        "       counter = counter + 1.\n",
        "    return reviewFeatureVecs"
      ],
      "execution_count": 0,
      "outputs": []
    },
    {
      "metadata": {
        "id": "XvMXAVVn1RJH",
        "colab_type": "code",
        "colab": {}
      },
      "cell_type": "code",
      "source": [
        "\n",
        "# 멀티스레드로 4개의 워커를 사용해 처리한다.\n",
        "def getCleanReviews(reviews):\n",
        "    clean_reviews = []\n",
        "    clean_reviews = KaggleWord2VecUtility.apply_by_multiprocessing(\\\n",
        "        reviews[\"review\"], KaggleWord2VecUtility.review_to_wordlist,\\\n",
        "        workers=4)\n",
        "    return clean_reviews"
      ],
      "execution_count": 0,
      "outputs": []
    },
    {
      "metadata": {
        "id": "1-7WGfeM1UTt",
        "colab_type": "code",
        "colab": {
          "base_uri": "https://localhost:8080/",
          "height": 476
        },
        "outputId": "c9ebc6da-4a51-4603-e328-d19ed7190842"
      },
      "cell_type": "code",
      "source": [
        "%time trainDataVecs = getAvgFeatureVecs(\\\n",
        "    getCleanReviews(train), model, num_features )"
      ],
      "execution_count": 37,
      "outputs": [
        {
          "output_type": "stream",
          "text": [
            "Review 0 of 25000\n",
            "Review 1000 of 25000\n",
            "Review 2000 of 25000\n",
            "Review 3000 of 25000\n",
            "Review 4000 of 25000\n",
            "Review 5000 of 25000\n",
            "Review 6000 of 25000\n",
            "Review 7000 of 25000\n",
            "Review 8000 of 25000\n",
            "Review 9000 of 25000\n",
            "Review 10000 of 25000\n",
            "Review 11000 of 25000\n",
            "Review 12000 of 25000\n",
            "Review 13000 of 25000\n",
            "Review 14000 of 25000\n",
            "Review 15000 of 25000\n",
            "Review 16000 of 25000\n",
            "Review 17000 of 25000\n",
            "Review 18000 of 25000\n",
            "Review 19000 of 25000\n",
            "Review 20000 of 25000\n",
            "Review 21000 of 25000\n",
            "Review 22000 of 25000\n",
            "Review 23000 of 25000\n",
            "Review 24000 of 25000\n",
            "CPU times: user 1min 3s, sys: 1.26 s, total: 1min 4s\n",
            "Wall time: 2min 12s\n"
          ],
          "name": "stdout"
        }
      ]
    },
    {
      "metadata": {
        "id": "XWXG94Si3qh6",
        "colab_type": "code",
        "colab": {
          "base_uri": "https://localhost:8080/",
          "height": 476
        },
        "outputId": "f362480f-5348-4959-c2de-3234e368f377"
      },
      "cell_type": "code",
      "source": [
        "%time testDataVecs = getAvgFeatureVecs(\\\n",
        "        getCleanReviews(test), model, num_features )"
      ],
      "execution_count": 44,
      "outputs": [
        {
          "output_type": "stream",
          "text": [
            "Review 0 of 25000\n",
            "Review 1000 of 25000\n",
            "Review 2000 of 25000\n",
            "Review 3000 of 25000\n",
            "Review 4000 of 25000\n",
            "Review 5000 of 25000\n",
            "Review 6000 of 25000\n",
            "Review 7000 of 25000\n",
            "Review 8000 of 25000\n",
            "Review 9000 of 25000\n",
            "Review 10000 of 25000\n",
            "Review 11000 of 25000\n",
            "Review 12000 of 25000\n",
            "Review 13000 of 25000\n",
            "Review 14000 of 25000\n",
            "Review 15000 of 25000\n",
            "Review 16000 of 25000\n",
            "Review 17000 of 25000\n",
            "Review 18000 of 25000\n",
            "Review 19000 of 25000\n",
            "Review 20000 of 25000\n",
            "Review 21000 of 25000\n",
            "Review 22000 of 25000\n",
            "Review 23000 of 25000\n",
            "Review 24000 of 25000\n",
            "CPU times: user 1min 2s, sys: 1.02 s, total: 1min 3s\n",
            "Wall time: 2min 9s\n"
          ],
          "name": "stdout"
        }
      ]
    },
    {
      "metadata": {
        "id": "fw4LAevd15P_",
        "colab_type": "code",
        "colab": {}
      },
      "cell_type": "code",
      "source": [
        "from sklearn.ensemble import RandomForestClassifier"
      ],
      "execution_count": 0,
      "outputs": []
    },
    {
      "metadata": {
        "id": "y7i2lAr3161O",
        "colab_type": "code",
        "colab": {}
      },
      "cell_type": "code",
      "source": [
        "forest = RandomForestClassifier(\n",
        "    n_estimators = 100, n_jobs = -1, random_state=2018)"
      ],
      "execution_count": 0,
      "outputs": []
    },
    {
      "metadata": {
        "id": "6oWZKArD1-qR",
        "colab_type": "code",
        "colab": {
          "base_uri": "https://localhost:8080/",
          "height": 51
        },
        "outputId": "d89becc3-60e4-414b-be2e-41b2acc14bfb"
      },
      "cell_type": "code",
      "source": [
        "%time forest = forest.fit( trainDataVecs, train[\"sentiment\"] )"
      ],
      "execution_count": 40,
      "outputs": [
        {
          "output_type": "stream",
          "text": [
            "CPU times: user 1min 6s, sys: 30.4 ms, total: 1min 6s\n",
            "Wall time: 33.6 s\n"
          ],
          "name": "stdout"
        }
      ]
    },
    {
      "metadata": {
        "id": "3txwr6zu2N-y",
        "colab_type": "code",
        "colab": {
          "base_uri": "https://localhost:8080/",
          "height": 51
        },
        "outputId": "45ef832f-6ae8-4412-9c7f-19e9f5301ea9"
      },
      "cell_type": "code",
      "source": [
        "from sklearn.model_selection import cross_val_score\n",
        "%time score = np.mean(cross_val_score(\\\n",
        "    forest, trainDataVecs, \\\n",
        "    train['sentiment'], cv=10, scoring='roc_auc'))"
      ],
      "execution_count": 41,
      "outputs": [
        {
          "output_type": "stream",
          "text": [
            "CPU times: user 6.54 s, sys: 874 ms, total: 7.41 s\n",
            "Wall time: 5min 8s\n"
          ],
          "name": "stdout"
        }
      ]
    },
    {
      "metadata": {
        "id": "7IjLUcb53d0e",
        "colab_type": "code",
        "colab": {
          "base_uri": "https://localhost:8080/",
          "height": 34
        },
        "outputId": "dc5339f5-99e4-4291-cf20-5a1bb9840ae4"
      },
      "cell_type": "code",
      "source": [
        "score"
      ],
      "execution_count": 42,
      "outputs": [
        {
          "output_type": "execute_result",
          "data": {
            "text/plain": [
              "0.9070295999999999"
            ]
          },
          "metadata": {
            "tags": []
          },
          "execution_count": 42
        }
      ]
    },
    {
      "metadata": {
        "id": "MCUzTdzk3hi5",
        "colab_type": "code",
        "colab": {}
      },
      "cell_type": "code",
      "source": [
        "result = forest.predict( testDataVecs )\n"
      ],
      "execution_count": 0,
      "outputs": []
    },
    {
      "metadata": {
        "id": "9NQRrhrO4QTX",
        "colab_type": "code",
        "colab": {}
      },
      "cell_type": "code",
      "source": [
        "output = pd.DataFrame( data={\"id\":test[\"id\"], \"sentiment\":result} )\n",
        "output.to_csv('./Word2Vec_AverageVectors_{0:.5f}.csv'.format(score), \n",
        "              index=False, quoting=3 )"
      ],
      "execution_count": 0,
      "outputs": []
    },
    {
      "metadata": {
        "id": "FmnN3HN04dFc",
        "colab_type": "code",
        "colab": {
          "base_uri": "https://localhost:8080/",
          "height": 85
        },
        "outputId": "94771152-b261-4a31-9d1d-6ed0703469c8"
      },
      "cell_type": "code",
      "source": [
        "output_sentiment = output['sentiment'].value_counts()\n",
        "print(output_sentiment[0] - output_sentiment[1])\n",
        "output_sentiment"
      ],
      "execution_count": 47,
      "outputs": [
        {
          "output_type": "stream",
          "text": [
            "6\n"
          ],
          "name": "stdout"
        },
        {
          "output_type": "execute_result",
          "data": {
            "text/plain": [
              "0    12503\n",
              "1    12497\n",
              "Name: sentiment, dtype: int64"
            ]
          },
          "metadata": {
            "tags": []
          },
          "execution_count": 47
        }
      ]
    },
    {
      "metadata": {
        "id": "tYXiiq4Q4lhk",
        "colab_type": "code",
        "colab": {
          "base_uri": "https://localhost:8080/",
          "height": 351
        },
        "outputId": "dd13bc38-5673-44c8-c5e5-b424083b54d8"
      },
      "cell_type": "code",
      "source": [
        "import seaborn as sns \n",
        "%matplotlib inline\n",
        "\n",
        "fig, axes = plt.subplots(ncols=2)\n",
        "fig.set_size_inches(12,5)\n",
        "sns.countplot(train['sentiment'], ax=axes[0])\n",
        "sns.countplot(output['sentiment'], ax=axes[1])"
      ],
      "execution_count": 48,
      "outputs": [
        {
          "output_type": "execute_result",
          "data": {
            "text/plain": [
              "<matplotlib.axes._subplots.AxesSubplot at 0x7f51c21eaba8>"
            ]
          },
          "metadata": {
            "tags": []
          },
          "execution_count": 48
        },
        {
          "output_type": "display_data",
          "data": {
            "image/png": "[encoded data removed]",
            "text/plain": [
              "<Figure size 864x360 with 2 Axes>"
            ]
          },
          "metadata": {
            "tags": []
          }
        }
      ]
    }
  ]
}