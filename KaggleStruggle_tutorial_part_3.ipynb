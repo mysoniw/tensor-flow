{
  "nbformat": 4,
  "nbformat_minor": 0,
  "metadata": {
    "colab": {
      "name": "KaggleStruggle_tutorial_part_3.ipynb",
      "version": "0.3.2",
      "provenance": [],
      "include_colab_link": true
    },
    "kernelspec": {
      "name": "python3",
      "display_name": "Python 3"
    },
    "accelerator": "GPU"
  },
  "cells": [
    {
      "cell_type": "markdown",
      "metadata": {
        "id": "view-in-github",
        "colab_type": "text"
      },
      "source": [
        "<a href=\"https://colab.research.google.com/github/mysoniw/tensor-flow/blob/master/KaggleStruggle_tutorial_part_3.ipynb\" target=\"_parent\"><img src=\"https://colab.research.google.com/assets/colab-badge.svg\" alt=\"Open In Colab\"/></a>"
      ]
    },
    {
      "metadata": {
        "id": "_RhDSL80SY71",
        "colab_type": "text"
      },
      "cell_type": "markdown",
      "source": [
        "## Bag of Words Meets Bags of Popcorn | Kaggle\n",
        "\n",
        "# 튜토리얼 파트 3, 4\n",
        "- DeepLearningMovies/KaggleWord2VecUtility.py at master · wendykan/DeepLearningMovies\n",
        "- 캐글에 링크 되어 있는 github 튜토리얼을 참고하여 만들었으며 파이썬2로 되어있는 소스를 파이썬3에 맞게 일부 수정하였다.\n",
        "\n",
        "### 첫 번째 시도(average feature vectors)\n",
        "- 튜토리얼2의 코드로 벡터의 평균을 구한다.\n",
        "\n",
        "### 두 번째 시도(K-means)\n",
        "- Word2Vec은 의미가 관련있는 단어들의 클러스터를 생성하기 때문에 클러스터 내의 단어 유사성을 이용하는 것이다.\n",
        "- 이런식으로 벡터를 그룹화 하는 것을 \"vector quantization(벡터 양자화)\"라고 한다.\n",
        "- 이를 위해서는 K-means와 같은 클러스터링 알고리즘을 사용하여 클러스터라는 단어의 중심을 찾아야 한다.\n",
        "- 비지도학습인 K-means를 통해 클러스터링을 하고 지도학습인 랜덤포레스트로 리뷰가 추천인지 아닌지를 예측한다."
      ]
    },
    {
      "metadata": {
        "id": "DSqs-vzk-wJb",
        "colab_type": "code",
        "colab": {}
      },
      "cell_type": "code",
      "source": [
        "import pandas as pd\n",
        "import numpy as np\n",
        "from gensim.models import Word2Vec\n",
        "from sklearn.cluster import KMeans\n",
        "from sklearn.ensemble import RandomForestClassifier\n",
        "\n",
        "from bs4 import BeautifulSoup\n",
        "import re\n",
        "import time\n",
        "\n",
        "from nltk.corpus import stopwords\n",
        "import nltk.data\n",
        "\n",
        "import matplotlib.pyplot as plt\n",
        "import seaborn as sns\n",
        "%matplotlib inline"
      ],
      "execution_count": 0,
      "outputs": []
    },
    {
      "metadata": {
        "id": "c17_vHsFSvnG",
        "colab_type": "code",
        "colab": {
          "base_uri": "https://localhost:8080/",
          "height": 34
        },
        "outputId": "efa251b6-a613-4952-d2de-379b5c68d05d"
      },
      "cell_type": "code",
      "source": [
        "model = Word2Vec.load('300features_40minwords_10text')\n",
        "model"
      ],
      "execution_count": 2,
      "outputs": [
        {
          "output_type": "execute_result",
          "data": {
            "text/plain": [
              "<gensim.models.word2vec.Word2Vec at 0x7f679921e748>"
            ]
          },
          "metadata": {
            "tags": []
          },
          "execution_count": 2
        }
      ]
    },
    {
      "metadata": {
        "id": "VHgdGYPcTCPY",
        "colab_type": "text"
      },
      "cell_type": "markdown",
      "source": [
        "\n",
        "- 숫자로 단어를 표현\n",
        "- Word2Vec 모델은 어휘의 각 단어에 대한 feature 벡터로 구성되며 \n",
        "- 'syn0'이라는 넘파이 배열로 저장된다. >> vectors 로 변경\n",
        "- syn0의 행 수는 모델 어휘의 단어 수\n",
        "- 컬럼 수는 2 부에서 설정 한 피처 벡터의 크기\n"
      ]
    },
    {
      "metadata": {
        "id": "n_DD4e2aSzM3",
        "colab_type": "code",
        "colab": {
          "base_uri": "https://localhost:8080/",
          "height": 34
        },
        "outputId": "1dd30216-ddbe-4ec8-cfcc-a2a9c6015f6b"
      },
      "cell_type": "code",
      "source": [
        "type(model.wv.vectors)"
      ],
      "execution_count": 6,
      "outputs": [
        {
          "output_type": "execute_result",
          "data": {
            "text/plain": [
              "numpy.ndarray"
            ]
          },
          "metadata": {
            "tags": []
          },
          "execution_count": 6
        }
      ]
    },
    {
      "metadata": {
        "id": "o9Fy3iLQTcpc",
        "colab_type": "text"
      },
      "cell_type": "markdown",
      "source": [
        "- syn0의 행 수는 모델 어휘의 단어 수\n",
        "- 열 수는 2부에서 설정한 특징 벡터의 크기"
      ]
    },
    {
      "metadata": {
        "id": "KGSZaXC8TR7S",
        "colab_type": "code",
        "colab": {
          "base_uri": "https://localhost:8080/",
          "height": 34
        },
        "outputId": "6c97c7ed-3328-4b2b-d1d6-0cf69d061ade"
      },
      "cell_type": "code",
      "source": [
        "model.wv.vectors.shape"
      ],
      "execution_count": 7,
      "outputs": [
        {
          "output_type": "execute_result",
          "data": {
            "text/plain": [
              "(11986, 300)"
            ]
          },
          "metadata": {
            "tags": []
          },
          "execution_count": 7
        }
      ]
    },
    {
      "metadata": {
        "id": "FDNAZAwOTmCd",
        "colab_type": "code",
        "colab": {
          "base_uri": "https://localhost:8080/",
          "height": 68
        },
        "outputId": "a189f148-c22e-4cfd-989b-0dc8cf044d7a"
      },
      "cell_type": "code",
      "source": [
        "model.wv['flower'][:10]"
      ],
      "execution_count": 8,
      "outputs": [
        {
          "output_type": "execute_result",
          "data": {
            "text/plain": [
              "array([-0.16098605, -0.00173702, -0.03379251, -0.03644638,  0.06086444,\n",
              "       -0.01161141,  0.04420963,  0.062076  , -0.04234033, -0.00185313],\n",
              "      dtype=float32)"
            ]
          },
          "metadata": {
            "tags": []
          },
          "execution_count": 8
        }
      ]
    },
    {
      "metadata": {
        "id": "MTbUuYTnTqa-",
        "colab_type": "text"
      },
      "cell_type": "markdown",
      "source": [
        "### K-means (K평균)클러스터링으로 데이터 묶기\n",
        "\n",
        "- K-평균 알고리즘 - 위키백과, 우리 모두의 백과사전\n",
        "- 클러스터링은 비지도 학습 기법\n",
        "- 클러스터링은 유사성 등 개념에 기초해 몇몇 그룹으로 분류하는 기법\n",
        "- 클러스터링의 목적은 샘플(실수로 구성된 n차원의 벡터)을 내부적으로는 비슷하지만 외부적으로 공통 분모가 없는 여러 그룹으로 묶는 것\n",
        "- 특정 차원의 범위가 다른 차원과 차이가 크면 클러스터링 하기 전에 스케일을 조정해야 한다.\n",
        "  1. 최초 센트로이드(centroid)(중심점)로 k개의 벡터를 무작위로 선정한다.\n",
        "  2. 각 샘플을 그 위치에서 가장 가까운 센트로이드에 할당한다.\n",
        "  3. 센트로이드의 위치를 재계산한다.\n",
        "  4. 센트로이드가 더 이상 움직이지 않을 때까지 2와 3을 반복한다.\n",
        "  \n",
        "  참고 : [책] 모두의 데이터 과학(with 파이썬)"
      ]
    },
    {
      "metadata": {
        "id": "K7tZ0yq9UHrq",
        "colab_type": "code",
        "colab": {
          "base_uri": "https://localhost:8080/",
          "height": 88
        },
        "outputId": "161895cf-6715-4441-9f81-c7386fddae13"
      },
      "cell_type": "code",
      "source": [
        "# 단어 벡터에서 k-means를 실행하고 일부 클러스터를 찍어본다.\n",
        "start = time.time() # 시작시간\n",
        "\n",
        "# 클러스터의 크기 \"k\"를 어휘 크기의 1/5 이나 평균 5단어로 설정한다.\n",
        "word_vectors = model.wv.vectors.shape # 어휘의 feature vector\n",
        "num_clusters = word_vectors.shape[0] / 5\n",
        "num_clusters = int(num_clusters)\n",
        "\n",
        "# K means 를 정의하고 학습시킨다.\n",
        "kmeans_clustering = KMeans( n_clusters = num_clusters )\n",
        "idx = kmeans_clustering.fit_predict( word_vectors )\n",
        "\n",
        "# 끝난시간에서 시작시간을 빼서 걸린 시간을 구한다.\n",
        "end = time.time()\n",
        "elapsed = end - start\n",
        "print(\"Time taken for K Means clustering: \", elapsed, \"seconds.\")"
      ],
      "execution_count": 9,
      "outputs": [
        {
          "output_type": "stream",
          "text": [
            "/usr/local/lib/python3.6/dist-packages/ipykernel_launcher.py:4: DeprecationWarning: Call to deprecated `syn0` (Attribute will be removed in 4.0.0, use self.wv.vectors instead).\n",
            "  after removing the cwd from sys.path.\n"
          ],
          "name": "stderr"
        },
        {
          "output_type": "stream",
          "text": [
            "Time taken for K Means clustering:  382.9713125228882 seconds.\n"
          ],
          "name": "stdout"
        }
      ]
    },
    {
      "metadata": {
        "id": "xc2unJ2rV4f3",
        "colab_type": "code",
        "colab": {
          "base_uri": "https://localhost:8080/",
          "height": 527
        },
        "outputId": "7815c9e3-d3e8-4fe4-98af-8ca7c748bad0"
      },
      "cell_type": "code",
      "source": [
        "# 각 어휘 단어를 클러스터 번호에 매핑되게 word/Index 사전을 만든다.\n",
        "idx = list(idx)\n",
        "names = model.wv.index2word\n",
        "word_centroid_map = {names[i]: idx[i] for i in range(len(names))}\n",
        "#     word_centroid_map = dict(zip( model.wv.index2word, idx ))\n",
        "\n",
        "# 첫번째 클러스터의 처음 10개를 출력\n",
        "for cluster in range(0,10):\n",
        "    # 클러스터 번호를 출력\n",
        "    print(\"\\nCluster {}\".format(cluster))\n",
        "    \n",
        "    # 클러스터번호와 클러스터에 있는 단어를 찍는다.\n",
        "    words = []\n",
        "    for i in range(0,len(list(word_centroid_map.values()))):\n",
        "        if( list(word_centroid_map.values())[i] == cluster ):\n",
        "            words.append(list(word_centroid_map.keys())[i])\n",
        "    print(words)"
      ],
      "execution_count": 10,
      "outputs": [
        {
          "output_type": "stream",
          "text": [
            "\n",
            "Cluster 0\n",
            "['auction']\n",
            "\n",
            "Cluster 1\n",
            "['bronson', 'laughton', 'grodin', 'bickford', 'durn', 'boyer', 'winning']\n",
            "\n",
            "Cluster 2\n",
            "['comprehens', 'idioci', 'tedium', 'ineptitud']\n",
            "\n",
            "Cluster 3\n",
            "['ice', 'swim', 'heat', 'snow', 'grass', 'balloon', 'carpet', 'powder', 'bueno']\n",
            "\n",
            "Cluster 4\n",
            "['alicia', 'silverston']\n",
            "\n",
            "Cluster 5\n",
            "['abli', 'nada', 'crafti', 'virtuous', 'hassl', 'merk', 'macgregor']\n",
            "\n",
            "Cluster 6\n",
            "['sear']\n",
            "\n",
            "Cluster 7\n",
            "['exot', 'futurist', 'renaiss', 'retro', 'architectur', 'scenic']\n",
            "\n",
            "Cluster 8\n",
            "['kelli', 'porter', 'crosbi', 'grayson', 'jerom', 'rodger', 'iturbi', 'backup', 'kern', 'operetta']\n",
            "\n",
            "Cluster 9\n",
            "['torment', 'helpless', 'persist', 'envi', 'cling']\n"
          ],
          "name": "stdout"
        }
      ]
    },
    {
      "metadata": {
        "id": "kJjbvN6nWiff",
        "colab_type": "code",
        "colab": {
          "base_uri": "https://localhost:8080/",
          "height": 289
        },
        "outputId": "e6bcad29-e4fb-44d4-d03b-a6bf908068e3"
      },
      "cell_type": "code",
      "source": [
        "!wget https://github.com/corazzon/KaggleStruggle/raw/master/word2vec-nlp-tutorial/data/labeledTrainData.tsv"
      ],
      "execution_count": 14,
      "outputs": [
        {
          "output_type": "stream",
          "text": [
            "--2019-03-21 03:47:12--  https://github.com/corazzon/KaggleStruggle/raw/master/word2vec-nlp-tutorial/data/labeledTrainData.tsv\n",
            "Resolving github.com (github.com)... 192.30.253.112, 192.30.253.113\n",
            "Connecting to github.com (github.com)|192.30.253.112|:443... connected.\n",
            "HTTP request sent, awaiting response... 302 Found\n",
            "Location: https://raw.githubusercontent.com/corazzon/KaggleStruggle/master/word2vec-nlp-tutorial/data/labeledTrainData.tsv [following]\n",
            "--2019-03-21 03:47:13--  https://raw.githubusercontent.com/corazzon/KaggleStruggle/master/word2vec-nlp-tutorial/data/labeledTrainData.tsv\n",
            "Resolving raw.githubusercontent.com (raw.githubusercontent.com)... 151.101.0.133, 151.101.64.133, 151.101.128.133, ...\n",
            "Connecting to raw.githubusercontent.com (raw.githubusercontent.com)|151.101.0.133|:443... connected.\n",
            "HTTP request sent, awaiting response... 200 OK\n",
            "Length: 33556379 (32M) [text/plain]\n",
            "Saving to: ‘labeledTrainData.tsv’\n",
            "\n",
            "labeledTrainData.ts 100%[===================>]  32.00M   116MB/s    in 0.3s    \n",
            "\n",
            "2019-03-21 03:47:13 (116 MB/s) - ‘labeledTrainData.tsv’ saved [33556379/33556379]\n",
            "\n"
          ],
          "name": "stdout"
        }
      ]
    },
    {
      "metadata": {
        "id": "xY2ZO3q8WpaJ",
        "colab_type": "code",
        "colab": {
          "base_uri": "https://localhost:8080/",
          "height": 289
        },
        "outputId": "6735b05d-74f1-4785-8533-32b13feac8c5"
      },
      "cell_type": "code",
      "source": [
        "!wget https://github.com/corazzon/KaggleStruggle/raw/master/word2vec-nlp-tutorial/data/testData.tsv"
      ],
      "execution_count": 12,
      "outputs": [
        {
          "output_type": "stream",
          "text": [
            "--2019-03-21 03:46:22--  https://github.com/corazzon/KaggleStruggle/raw/master/word2vec-nlp-tutorial/data/testData.tsv\n",
            "Resolving github.com (github.com)... 192.30.253.113, 192.30.253.112\n",
            "Connecting to github.com (github.com)|192.30.253.113|:443... connected.\n",
            "HTTP request sent, awaiting response... 302 Found\n",
            "Location: https://raw.githubusercontent.com/corazzon/KaggleStruggle/master/word2vec-nlp-tutorial/data/testData.tsv [following]\n",
            "--2019-03-21 03:46:22--  https://raw.githubusercontent.com/corazzon/KaggleStruggle/master/word2vec-nlp-tutorial/data/testData.tsv\n",
            "Resolving raw.githubusercontent.com (raw.githubusercontent.com)... 151.101.0.133, 151.101.64.133, 151.101.128.133, ...\n",
            "Connecting to raw.githubusercontent.com (raw.githubusercontent.com)|151.101.0.133|:443... connected.\n",
            "HTTP request sent, awaiting response... 200 OK\n",
            "Length: 32724746 (31M) [text/plain]\n",
            "Saving to: ‘testData.tsv’\n",
            "\n",
            "testData.tsv        100%[===================>]  31.21M   132MB/s    in 0.2s    \n",
            "\n",
            "2019-03-21 03:46:23 (132 MB/s) - ‘testData.tsv’ saved [32724746/32724746]\n",
            "\n"
          ],
          "name": "stdout"
        }
      ]
    },
    {
      "metadata": {
        "id": "6VwKmRJHWqwY",
        "colab_type": "code",
        "colab": {
          "base_uri": "https://localhost:8080/",
          "height": 289
        },
        "outputId": "1221c183-a67e-4e83-8d94-9c6ae27c587a"
      },
      "cell_type": "code",
      "source": [
        "!wget https://github.com/corazzon/KaggleStruggle/raw/master/word2vec-nlp-tutorial/data/unlabeledTrainData.tsv"
      ],
      "execution_count": 17,
      "outputs": [
        {
          "output_type": "stream",
          "text": [
            "--2019-03-21 03:49:39--  https://github.com/corazzon/KaggleStruggle/raw/master/word2vec-nlp-tutorial/data/unlabeledTrainData.tsv\n",
            "Resolving github.com (github.com)... 192.30.253.113, 192.30.253.112\n",
            "Connecting to github.com (github.com)|192.30.253.113|:443... connected.\n",
            "HTTP request sent, awaiting response... 302 Found\n",
            "Location: https://raw.githubusercontent.com/corazzon/KaggleStruggle/master/word2vec-nlp-tutorial/data/unlabeledTrainData.tsv [following]\n",
            "--2019-03-21 03:49:39--  https://raw.githubusercontent.com/corazzon/KaggleStruggle/master/word2vec-nlp-tutorial/data/unlabeledTrainData.tsv\n",
            "Resolving raw.githubusercontent.com (raw.githubusercontent.com)... 151.101.0.133, 151.101.64.133, 151.101.128.133, ...\n",
            "Connecting to raw.githubusercontent.com (raw.githubusercontent.com)|151.101.0.133|:443... connected.\n",
            "HTTP request sent, awaiting response... 200 OK\n",
            "Length: 67281491 (64M) [text/plain]\n",
            "Saving to: ‘unlabeledTrainData.tsv’\n",
            "\n",
            "unlabeledTrainData. 100%[===================>]  64.16M   148MB/s    in 0.4s    \n",
            "\n",
            "2019-03-21 03:49:40 (148 MB/s) - ‘unlabeledTrainData.tsv’ saved [67281491/67281491]\n",
            "\n"
          ],
          "name": "stdout"
        }
      ]
    },
    {
      "metadata": {
        "id": "5NWXM6ADXu9q",
        "colab_type": "code",
        "colab": {
          "base_uri": "https://localhost:8080/",
          "height": 289
        },
        "outputId": "2ab486db-cfee-4d47-80ba-a9c02fa522b3"
      },
      "cell_type": "code",
      "source": [
        "!wget https://github.com/corazzon/KaggleStruggle/raw/master/word2vec-nlp-tutorial/KaggleWord2VecUtility.py"
      ],
      "execution_count": 19,
      "outputs": [
        {
          "output_type": "stream",
          "text": [
            "--2019-03-21 03:50:19--  https://github.com/corazzon/KaggleStruggle/raw/master/word2vec-nlp-tutorial/KaggleWord2VecUtility.py\n",
            "Resolving github.com (github.com)... 192.30.253.112, 192.30.253.113\n",
            "Connecting to github.com (github.com)|192.30.253.112|:443... connected.\n",
            "HTTP request sent, awaiting response... 302 Found\n",
            "Location: https://raw.githubusercontent.com/corazzon/KaggleStruggle/master/word2vec-nlp-tutorial/KaggleWord2VecUtility.py [following]\n",
            "--2019-03-21 03:50:19--  https://raw.githubusercontent.com/corazzon/KaggleStruggle/master/word2vec-nlp-tutorial/KaggleWord2VecUtility.py\n",
            "Resolving raw.githubusercontent.com (raw.githubusercontent.com)... 151.101.0.133, 151.101.64.133, 151.101.128.133, ...\n",
            "Connecting to raw.githubusercontent.com (raw.githubusercontent.com)|151.101.0.133|:443... connected.\n",
            "HTTP request sent, awaiting response... 200 OK\n",
            "Length: 3250 (3.2K) [text/plain]\n",
            "Saving to: ‘KaggleWord2VecUtility.py’\n",
            "\n",
            "\rKaggleWord2VecUtili   0%[                    ]       0  --.-KB/s               \rKaggleWord2VecUtili 100%[===================>]   3.17K  --.-KB/s    in 0s      \n",
            "\n",
            "2019-03-21 03:50:19 (62.1 MB/s) - ‘KaggleWord2VecUtility.py’ saved [3250/3250]\n",
            "\n"
          ],
          "name": "stdout"
        }
      ]
    },
    {
      "metadata": {
        "id": "AzKvTvL3WGQJ",
        "colab_type": "code",
        "colab": {}
      },
      "cell_type": "code",
      "source": [
        "\n",
        "\"\"\"\n",
        "판다스로 데이터프레임 형태의 데이터로 읽어온다.\n",
        "QUOTE_MINIMAL (0), QUOTE_ALL (1), \n",
        "QUOTE_NONNUMERIC (2) or QUOTE_NONE (3).\n",
        "\n",
        "그리고 이전 튜토리얼에서 했던 것처럼 clean_train_reviews 와 \n",
        "clean_test_reviews 로 텍스트를 정제한다.\n",
        "\"\"\"\n",
        "train = pd.read_csv('./labeledTrainData.tsv', \n",
        "                    header=0, delimiter=\"\\t\", quoting=3)\n",
        "test = pd.read_csv('./testData.tsv', \n",
        "                   header=0, delimiter=\"\\t\", quoting=3)\n",
        "# unlabeled_train = pd.read_csv( './unlabeledTrainData.tsv', header=0,  delimiter=\"\\t\", quoting=3 )"
      ],
      "execution_count": 0,
      "outputs": []
    },
    {
      "metadata": {
        "id": "gRrZSc2iXx8O",
        "colab_type": "code",
        "colab": {}
      },
      "cell_type": "code",
      "source": [
        "from KaggleWord2VecUtility import KaggleWord2VecUtility\n"
      ],
      "execution_count": 0,
      "outputs": []
    },
    {
      "metadata": {
        "id": "f8ZkyaLbX8ip",
        "colab_type": "code",
        "colab": {
          "base_uri": "https://localhost:8080/",
          "height": 51
        },
        "outputId": "28288245-2d44-4444-980f-9e9c04b36909"
      },
      "cell_type": "code",
      "source": [
        "!pip install nltk"
      ],
      "execution_count": 22,
      "outputs": [
        {
          "output_type": "stream",
          "text": [
            "Requirement already satisfied: nltk in /usr/local/lib/python3.6/dist-packages (3.2.5)\n",
            "Requirement already satisfied: six in /usr/local/lib/python3.6/dist-packages (from nltk) (1.11.0)\n"
          ],
          "name": "stdout"
        }
      ]
    },
    {
      "metadata": {
        "id": "gogaOBMnYEMU",
        "colab_type": "code",
        "colab": {
          "base_uri": "https://localhost:8080/",
          "height": 68
        },
        "outputId": "846cb747-1fd6-493d-9f49-d5ec74d3d440"
      },
      "cell_type": "code",
      "source": [
        "nltk.download('stopwords')"
      ],
      "execution_count": 23,
      "outputs": [
        {
          "output_type": "stream",
          "text": [
            "[nltk_data] Downloading package stopwords to /root/nltk_data...\n",
            "[nltk_data]   Unzipping corpora/stopwords.zip.\n"
          ],
          "name": "stdout"
        },
        {
          "output_type": "execute_result",
          "data": {
            "text/plain": [
              "True"
            ]
          },
          "metadata": {
            "tags": []
          },
          "execution_count": 23
        }
      ]
    },
    {
      "metadata": {
        "id": "823TLl6KX1Or",
        "colab_type": "code",
        "colab": {}
      },
      "cell_type": "code",
      "source": [
        "# 학습 리뷰를 정제한다.\n",
        "clean_train_reviews = []\n",
        "for review in train[\"review\"]:\n",
        "    clean_train_reviews.append(\n",
        "        KaggleWord2VecUtility.review_to_wordlist( review, \\\n",
        "        remove_stopwords=True ))"
      ],
      "execution_count": 0,
      "outputs": []
    },
    {
      "metadata": {
        "id": "vSP5naIYYVrD",
        "colab_type": "code",
        "colab": {}
      },
      "cell_type": "code",
      "source": [
        "# 테스트 리뷰를 정제한다.\n",
        "clean_test_reviews = []\n",
        "for review in test[\"review\"]:\n",
        "    clean_test_reviews.append(\n",
        "        KaggleWord2VecUtility.review_to_wordlist( review, \\\n",
        "        remove_stopwords=True ))"
      ],
      "execution_count": 0,
      "outputs": []
    },
    {
      "metadata": {
        "id": "arHEimWJYfMP",
        "colab_type": "code",
        "colab": {
          "base_uri": "https://localhost:8080/",
          "height": 102
        },
        "outputId": "8e420f3f-c4eb-4877-ecf8-47b5934c57e6"
      },
      "cell_type": "code",
      "source": [
        "# bags of centroids 생성\n",
        "# 속도를 위해 centroid 학습 세트 bag을 미리 할당 한다.\n",
        "train_centroids = np.zeros((train[\"review\"].size, num_clusters), \\\n",
        "    dtype=\"float32\" )\n",
        "\n",
        "train_centroids[:5]"
      ],
      "execution_count": 26,
      "outputs": [
        {
          "output_type": "execute_result",
          "data": {
            "text/plain": [
              "array([[0., 0., 0., ..., 0., 0., 0.],\n",
              "       [0., 0., 0., ..., 0., 0., 0.],\n",
              "       [0., 0., 0., ..., 0., 0., 0.],\n",
              "       [0., 0., 0., ..., 0., 0., 0.],\n",
              "       [0., 0., 0., ..., 0., 0., 0.]], dtype=float32)"
            ]
          },
          "metadata": {
            "tags": []
          },
          "execution_count": 26
        }
      ]
    },
    {
      "metadata": {
        "id": "K9LcmwcGY14D",
        "colab_type": "code",
        "colab": {}
      },
      "cell_type": "code",
      "source": [
        "# centroid 는 두 클러스터의 중심점을 정의 한 다음 중심점의 거리를 측정한 것\n",
        "def create_bag_of_centroids( wordlist, word_centroid_map ):\n",
        "    \n",
        "    # 클러스터의 수는 word / centroid map에서 가장 높은 클러스트 인덱스와 같다.\n",
        "    num_centroids = max( word_centroid_map.values() ) + 1\n",
        "    \n",
        "    # 속도를 위해 bag of centroids vector를 미리 할당한다.\n",
        "    bag_of_centroids = np.zeros( num_centroids, dtype=\"float32\" )\n",
        "    \n",
        "    # 루프를 돌며 단어가 word_centroid_map에 있다면\n",
        "    # 해당되는 클러스터의 수를 하나씩 증가시켜 준다.\n",
        "    for word in wordlist:\n",
        "        if word in word_centroid_map:\n",
        "            index = word_centroid_map[word]\n",
        "            bag_of_centroids[index] += 1\n",
        "    \n",
        "    # bag of centroids를 반환한다.\n",
        "    return bag_of_centroids"
      ],
      "execution_count": 0,
      "outputs": []
    },
    {
      "metadata": {
        "id": "iqRUBlHaY5gc",
        "colab_type": "code",
        "colab": {
          "base_uri": "https://localhost:8080/",
          "height": 68
        },
        "outputId": "0baf6968-c016-4a2b-e5b7-2ddfba197f02"
      },
      "cell_type": "code",
      "source": [
        "# 학습 리뷰를 bags of centroids 로 변환한다.\n",
        "counter = 0\n",
        "for review in clean_train_reviews:\n",
        "    train_centroids[counter] = create_bag_of_centroids( review, \\\n",
        "        word_centroid_map )\n",
        "    counter += 1\n",
        "\n",
        "# 테스트 리뷰도 같은 방법으로 반복해 준다.\n",
        "test_centroids = np.zeros(( test[\"review\"].size, num_clusters), \\\n",
        "    dtype=\"float32\" )\n",
        "\n",
        "counter = 0\n",
        "for review in clean_test_reviews:\n",
        "    test_centroids[counter] = create_bag_of_centroids( review, \\\n",
        "        word_centroid_map )\n",
        "    counter += 1\n",
        "\n",
        "\n",
        "# 랜덤포레스트를 사용하여 학습시키고 예측\n",
        "forest = RandomForestClassifier(n_estimators = 100)\n",
        "\n",
        "# train 데이터의 레이블을 통해 학습시키고 예측한다.\n",
        "# 시간이 좀 소요되기 때문에 %time을 통해 걸린 시간을 찍도록 함\n",
        "print(\"Fitting a random forest to labeled training data...\")\n",
        "%time forest = forest.fit(train_centroids, train[\"sentiment\"])"
      ],
      "execution_count": 28,
      "outputs": [
        {
          "output_type": "stream",
          "text": [
            "Fitting a random forest to labeled training data...\n",
            "CPU times: user 40.4 s, sys: 78.9 ms, total: 40.4 s\n",
            "Wall time: 40.5 s\n"
          ],
          "name": "stdout"
        }
      ]
    },
    {
      "metadata": {
        "id": "_yeJ_rKnZUD2",
        "colab_type": "code",
        "colab": {
          "base_uri": "https://localhost:8080/",
          "height": 51
        },
        "outputId": "932f3327-d51f-4f02-acb2-80368bce4e17"
      },
      "cell_type": "code",
      "source": [
        "from sklearn.model_selection import cross_val_score\n",
        "%time score = np.mean(cross_val_score(\\\n",
        "    forest, train_centroids, train['sentiment'], cv=10,\\\n",
        "    scoring='roc_auc'))"
      ],
      "execution_count": 29,
      "outputs": [
        {
          "output_type": "stream",
          "text": [
            "CPU times: user 6min 1s, sys: 341 ms, total: 6min 2s\n",
            "Wall time: 6min 2s\n"
          ],
          "name": "stdout"
        }
      ]
    },
    {
      "metadata": {
        "id": "pPEp8g2ma0yM",
        "colab_type": "code",
        "colab": {
          "base_uri": "https://localhost:8080/",
          "height": 51
        },
        "outputId": "ebcd7b3b-ceb7-425a-9e26-493a3daba41c"
      },
      "cell_type": "code",
      "source": [
        "%time result = forest.predict(test_centroids)"
      ],
      "execution_count": 30,
      "outputs": [
        {
          "output_type": "stream",
          "text": [
            "CPU times: user 2.41 s, sys: 3.65 ms, total: 2.42 s\n",
            "Wall time: 2.43 s\n"
          ],
          "name": "stdout"
        }
      ]
    },
    {
      "metadata": {
        "id": "oscjS7h6a3pl",
        "colab_type": "code",
        "colab": {
          "base_uri": "https://localhost:8080/",
          "height": 34
        },
        "outputId": "2357971e-bdae-4314-f64d-b8f8e2f97b58"
      },
      "cell_type": "code",
      "source": [
        "score"
      ],
      "execution_count": 31,
      "outputs": [
        {
          "output_type": "execute_result",
          "data": {
            "text/plain": [
              "0.91845136"
            ]
          },
          "metadata": {
            "tags": []
          },
          "execution_count": 31
        }
      ]
    },
    {
      "metadata": {
        "id": "OPvtj2b-a7EF",
        "colab_type": "code",
        "colab": {}
      },
      "cell_type": "code",
      "source": [
        "output = pd.DataFrame(data={\"id\":test[\"id\"], \"sentiment\":result})"
      ],
      "execution_count": 0,
      "outputs": []
    },
    {
      "metadata": {
        "id": "J_sWqf8ua98M",
        "colab_type": "code",
        "colab": {}
      },
      "cell_type": "code",
      "source": [
        "output.to_csv(\"./submit_BagOfCentroids_{0:.5f}.csv\".format(score), index=False, quoting=3)"
      ],
      "execution_count": 0,
      "outputs": []
    },
    {
      "metadata": {
        "id": "Re1zm7CqbJp8",
        "colab_type": "code",
        "colab": {
          "base_uri": "https://localhost:8080/",
          "height": 385
        },
        "outputId": "360366e5-486c-4d76-f50a-d937c11dd3a1"
      },
      "cell_type": "code",
      "source": [
        "fig, axes = plt.subplots(ncols=2)\n",
        "fig.set_size_inches(12,5)\n",
        "sns.countplot(train['sentiment'], ax=axes[0])\n",
        "sns.countplot(output['sentiment'], ax=axes[1])"
      ],
      "execution_count": 37,
      "outputs": [
        {
          "output_type": "stream",
          "text": [
            "/usr/local/lib/python3.6/dist-packages/seaborn/categorical.py:1428: FutureWarning: remove_na is deprecated and is a private function. Do not use.\n",
            "  stat_data = remove_na(group_data)\n"
          ],
          "name": "stderr"
        },
        {
          "output_type": "execute_result",
          "data": {
            "text/plain": [
              "<matplotlib.axes._subplots.AxesSubplot at 0x7f6780e1a2b0>"
            ]
          },
          "metadata": {
            "tags": []
          },
          "execution_count": 37
        },
        {
          "output_type": "display_data",
          "data": {
            "image/png": "[encoded data removed]",
            "text/plain": [
              "<Figure size 864x360 with 2 Axes>"
            ]
          },
          "metadata": {
            "tags": []
          }
        }
      ]
    },
    {
      "metadata": {
        "id": "vzQyHlnsbxJo",
        "colab_type": "code",
        "colab": {
          "base_uri": "https://localhost:8080/",
          "height": 85
        },
        "outputId": "1e689c85-c096-404f-aa4e-38f098cb62ed"
      },
      "cell_type": "code",
      "source": [
        "output_sentiment = output['sentiment'].value_counts()\n",
        "print(output_sentiment[0] - output_sentiment[1])\n",
        "output_sentiment"
      ],
      "execution_count": 38,
      "outputs": [
        {
          "output_type": "stream",
          "text": [
            "474\n"
          ],
          "name": "stdout"
        },
        {
          "output_type": "execute_result",
          "data": {
            "text/plain": [
              "0    12737\n",
              "1    12263\n",
              "Name: sentiment, dtype: int64"
            ]
          },
          "metadata": {
            "tags": []
          },
          "execution_count": 38
        }
      ]
    }
  ]
}