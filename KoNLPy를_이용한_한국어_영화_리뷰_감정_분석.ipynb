{
  "nbformat": 4,
  "nbformat_minor": 0,
  "metadata": {
    "colab": {
      "name": "KoNLPy를 이용한 한국어 영화 리뷰 감정 분석.ipynb",
      "version": "0.3.2",
      "provenance": [],
      "collapsed_sections": [],
      "include_colab_link": true
    },
    "kernelspec": {
      "name": "python3",
      "display_name": "Python 3"
    },
    "accelerator": "GPU"
  },
  "cells": [
    {
      "cell_type": "markdown",
      "metadata": {
        "id": "view-in-github",
        "colab_type": "text"
      },
      "source": [
        "<a href=\"https://colab.research.google.com/github/mysoniw/tensor-flow/blob/master/KoNLPy%EB%A5%BC_%EC%9D%B4%EC%9A%A9%ED%95%9C_%ED%95%9C%EA%B5%AD%EC%96%B4_%EC%98%81%ED%99%94_%EB%A6%AC%EB%B7%B0_%EA%B0%90%EC%A0%95_%EB%B6%84%EC%84%9D.ipynb\" target=\"_parent\"><img src=\"https://colab.research.google.com/assets/colab-badge.svg\" alt=\"Open In Colab\"/></a>"
      ]
    },
    {
      "metadata": {
        "id": "RbTUWXptN6rv",
        "colab_type": "code",
        "colab": {
          "base_uri": "https://localhost:8080/",
          "height": 207
        },
        "outputId": "49a00dcd-475a-4451-e1b6-e650ddbe260f"
      },
      "cell_type": "code",
      "source": [
        "!cat ./ratings_test.txt | head -n 10"
      ],
      "execution_count": 3,
      "outputs": [
        {
          "output_type": "stream",
          "text": [
            "id\tdocument\tlabel\n",
            "6270596\t굳 ㅋ\t1\n",
            "9274899\tGDNTOPCLASSINTHECLUB\t0\n",
            "8544678\t뭐야 이 평점들은.... 나쁘진 않지만 10점 짜리는 더더욱 아니잖아\t0\n",
            "6825595\t지루하지는 않은데 완전 막장임... 돈주고 보기에는....\t0\n",
            "6723715\t3D만 아니었어도 별 다섯 개 줬을텐데.. 왜 3D로 나와서 제 심기를 불편하게 하죠??\t0\n",
            "7898805\t음악이 주가 된, 최고의 음악영화\t1\n",
            "6315043\t진정한 쓰레기\t0\n",
            "6097171\t마치 미국애니에서 튀어나온듯한 창의력없는 로봇디자인부터가,고개를 젖게한다\t0\n",
            "8932678\t갈수록 개판되가는 중국영화 유치하고 내용없음 폼잡다 끝남 말도안되는 무기에 유치한cg남무 아 그립다 동사서독같은 영화가 이건 3류아류작이다\t0\n"
          ],
          "name": "stdout"
        }
      ]
    },
    {
      "metadata": {
        "id": "79qctYGhPM3n",
        "colab_type": "code",
        "colab": {
          "base_uri": "https://localhost:8080/",
          "height": 187
        },
        "outputId": "319c5f63-d1d4-4cc9-c54d-3279ce6a72f5"
      },
      "cell_type": "code",
      "source": [
        "!cat ./ratings_test.txt | tail -n 10"
      ],
      "execution_count": 4,
      "outputs": [
        {
          "output_type": "stream",
          "text": [
            "9757200\t제발 국뽕김치영화좀 그만 만들어라...\t0\n",
            "9653062\t재밌는데....?평점이왜?\t1\n",
            "1077821\t내일 토요일밤 MBC에서 영화 해준다.... 봐야지... 기대\t1\n",
            "5494272\t액션영화로 기대하지말고 스릴러영화라 생각하고 보면 괜찮은 영화인듯^^\t1\n",
            "5567676\t정말 너무 재밌음 ㅋ\t1\n",
            "4608761\t오랜만에 평점 로긴했네ㅋㅋ 킹왕짱 쌈뽕한 영화를 만났습니다 강렬하게 육쾌함\t1\n",
            "5308387\t의지 박약들이나 하는거다 탈영은 일단 주인공 김대희 닮았고 이등병 찐따 OOOO\t0\n",
            "9072549\t그림도 좋고 완성도도 높았지만... 보는 내내 불안하게 만든다\t0\n",
            "5802125\t절대 봐서는 안 될 영화.. 재미도 없고 기분만 잡치고.. 한 세트장에서 다 해먹네\t0\n",
            "6070594\t마무리는 또 왜이래\t0\n"
          ],
          "name": "stdout"
        }
      ]
    },
    {
      "metadata": {
        "id": "EFre8HxPPQ1X",
        "colab_type": "code",
        "colab": {}
      },
      "cell_type": "code",
      "source": [
        "def read_data(filename):\n",
        "    with open(filename, 'r') as f:\n",
        "        data = [line.split('\\t') for line in f.read().splitlines()]\n",
        "        # txt 파일의 헤더(id document label)는 제외하기\n",
        "        data = data[1:]\n",
        "    return data\n",
        "\n",
        "train_data = read_data('./ratings_train.txt')\n",
        "test_data = read_data('./ratings_test.txt')"
      ],
      "execution_count": 0,
      "outputs": []
    },
    {
      "metadata": {
        "id": "i8pDd_1tVfPQ",
        "colab_type": "code",
        "colab": {}
      },
      "cell_type": "code",
      "source": [
        ""
      ],
      "execution_count": 0,
      "outputs": []
    },
    {
      "metadata": {
        "id": "lKczaP0nPcWY",
        "colab_type": "code",
        "colab": {
          "base_uri": "https://localhost:8080/",
          "height": 85
        },
        "outputId": "1a79051b-ecce-4e08-e5e6-aaf0d68d8e46"
      },
      "cell_type": "code",
      "source": [
        "print(len(train_data))\n",
        "print(len(train_data[0]))\n",
        "print(len(test_data))\n",
        "print(len(test_data[0]))"
      ],
      "execution_count": 3,
      "outputs": [
        {
          "output_type": "stream",
          "text": [
            "150000\n",
            "3\n",
            "50000\n",
            "3\n"
          ],
          "name": "stdout"
        }
      ]
    },
    {
      "metadata": {
        "id": "iCHI31emVgNj",
        "colab_type": "code",
        "colab": {}
      },
      "cell_type": "code",
      "source": [
        ""
      ],
      "execution_count": 0,
      "outputs": []
    },
    {
      "metadata": {
        "id": "pmGpoDi5PnC6",
        "colab_type": "code",
        "colab": {
          "base_uri": "https://localhost:8080/",
          "height": 241
        },
        "outputId": "93957075-2fae-417c-f5c2-f3e003540836"
      },
      "cell_type": "code",
      "source": [
        "!pip install konlpy"
      ],
      "execution_count": 4,
      "outputs": [
        {
          "output_type": "stream",
          "text": [
            "Collecting konlpy\n",
            "\u001b[?25l  Downloading https://files.pythonhosted.org/packages/e5/3d/4e983cd98d87b50b2ab0387d73fa946f745aa8164e8888a714d5129f9765/konlpy-0.5.1-py2.py3-none-any.whl (19.4MB)\n",
            "\u001b[K    100% |████████████████████████████████| 19.4MB 2.5MB/s \n",
            "\u001b[?25hCollecting JPype1>=0.5.7 (from konlpy)\n",
            "\u001b[?25l  Downloading https://files.pythonhosted.org/packages/c4/4b/60a3e63d51714d4d7ef1b1efdf84315d118a0a80a5b085bb52a7e2428cdc/JPype1-0.6.3.tar.gz (168kB)\n",
            "\u001b[K    100% |████████████████████████████████| 174kB 32.5MB/s \n",
            "\u001b[?25hBuilding wheels for collected packages: JPype1\n",
            "  Building wheel for JPype1 (setup.py) ... \u001b[?25ldone\n",
            "\u001b[?25h  Stored in directory: /root/.cache/pip/wheels/0e/2b/e8/c0b818ac4b3d35104d35e48cdc7afe27fc06ea277feed2831a\n",
            "Successfully built JPype1\n",
            "Installing collected packages: JPype1, konlpy\n",
            "Successfully installed JPype1-0.6.3 konlpy-0.5.1\n"
          ],
          "name": "stdout"
        }
      ]
    },
    {
      "metadata": {
        "id": "1YjyoRdaVhDS",
        "colab_type": "code",
        "colab": {}
      },
      "cell_type": "code",
      "source": [
        ""
      ],
      "execution_count": 0,
      "outputs": []
    },
    {
      "metadata": {
        "id": "e4sQgaRkPs6L",
        "colab_type": "code",
        "colab": {
          "base_uri": "https://localhost:8080/",
          "height": 34
        },
        "outputId": "fec56d25-52d0-4789-a73a-a8a9385444ee"
      },
      "cell_type": "code",
      "source": [
        "import konlpy\n",
        "\n",
        "konlpy.__version__"
      ],
      "execution_count": 5,
      "outputs": [
        {
          "output_type": "execute_result",
          "data": {
            "text/plain": [
              "'0.5.1'"
            ]
          },
          "metadata": {
            "tags": []
          },
          "execution_count": 5
        }
      ]
    },
    {
      "metadata": {
        "id": "e0bnauSuVx0D",
        "colab_type": "code",
        "colab": {}
      },
      "cell_type": "code",
      "source": [
        ""
      ],
      "execution_count": 0,
      "outputs": []
    },
    {
      "metadata": {
        "id": "4c4xv_CiP7u8",
        "colab_type": "code",
        "colab": {}
      },
      "cell_type": "code",
      "source": [
        "from konlpy.tag import Okt"
      ],
      "execution_count": 0,
      "outputs": []
    },
    {
      "metadata": {
        "id": "bciUmVJbVy9j",
        "colab_type": "code",
        "colab": {}
      },
      "cell_type": "code",
      "source": [
        ""
      ],
      "execution_count": 0,
      "outputs": []
    },
    {
      "metadata": {
        "id": "peqKuMbWP-dv",
        "colab_type": "code",
        "colab": {
          "base_uri": "https://localhost:8080/",
          "height": 54
        },
        "outputId": "9722d4b4-7110-4912-8518-8ba3ab189465"
      },
      "cell_type": "code",
      "source": [
        "okt = Okt()\n",
        "print(okt.pos(u'이 밤 그날의 반딧불을 당신의 창 가까이 보낼게요'))"
      ],
      "execution_count": 7,
      "outputs": [
        {
          "output_type": "stream",
          "text": [
            "[('이', 'Noun'), ('밤', 'Noun'), ('그날', 'Noun'), ('의', 'Josa'), ('반딧불', 'Noun'), ('을', 'Josa'), ('당신', 'Noun'), ('의', 'Josa'), ('창', 'Noun'), ('가까이', 'Noun'), ('보낼게요', 'Verb')]\n"
          ],
          "name": "stdout"
        }
      ]
    },
    {
      "metadata": {
        "id": "ehxi_SzaVz1j",
        "colab_type": "code",
        "colab": {}
      },
      "cell_type": "code",
      "source": [
        ""
      ],
      "execution_count": 0,
      "outputs": []
    },
    {
      "metadata": {
        "id": "s65jTCclS58n",
        "colab_type": "text"
      },
      "cell_type": "markdown",
      "source": [
        "- json 분석"
      ]
    },
    {
      "metadata": {
        "id": "ADIY4aNhQBnt",
        "colab_type": "code",
        "colab": {}
      },
      "cell_type": "code",
      "source": [
        "import json\n",
        "import os\n",
        "from pprint import pprint"
      ],
      "execution_count": 0,
      "outputs": []
    },
    {
      "metadata": {
        "id": "4rdHEzzcV1r0",
        "colab_type": "code",
        "colab": {}
      },
      "cell_type": "code",
      "source": [
        ""
      ],
      "execution_count": 0,
      "outputs": []
    },
    {
      "metadata": {
        "id": "Jplf1uTXSzFh",
        "colab_type": "text"
      },
      "cell_type": "markdown",
      "source": [
        "정규화 스템은 근어로 표시"
      ]
    },
    {
      "metadata": {
        "id": "mMCAueq9QHfv",
        "colab_type": "code",
        "colab": {}
      },
      "cell_type": "code",
      "source": [
        "def tokenize(doc):\n",
        "    # norm은 정규화, stem은 근어로 표시하기를 나타냄\n",
        "    return ['/'.join(t) for t in okt.pos(doc, norm=True, stem=True)]\n"
      ],
      "execution_count": 0,
      "outputs": []
    },
    {
      "metadata": {
        "id": "yyOgqS8qV2vU",
        "colab_type": "code",
        "colab": {}
      },
      "cell_type": "code",
      "source": [
        ""
      ],
      "execution_count": 0,
      "outputs": []
    },
    {
      "metadata": {
        "id": "JBcIS6QeShGu",
        "colab_type": "text"
      },
      "cell_type": "markdown",
      "source": [
        "형태소 분석을 통해 품사를 태깅해주는 작업"
      ]
    },
    {
      "metadata": {
        "id": "5ETBjmdbQLR_",
        "colab_type": "code",
        "colab": {
          "base_uri": "https://localhost:8080/",
          "height": 136
        },
        "outputId": "19fba87e-2481-4f19-b321-77e7cceedf6a"
      },
      "cell_type": "code",
      "source": [
        "if os.path.isfile('./train_docs.json'):\n",
        "    with open('./train_docs.json') as f:\n",
        "        train_docs = json.load(f)\n",
        "    with open('./test_docs.json') as f:\n",
        "        test_docs = json.load(f)\n",
        "else:\n",
        "    train_docs = [(tokenize(row[1]), row[2]) for row in train_data]\n",
        "    test_docs = [(tokenize(row[1]), row[2]) for row in test_data]\n",
        "    # JSON 파일로 저장\n",
        "    with open('./train_docs.json', 'w', encoding=\"utf-8\") as make_file:\n",
        "        json.dump(train_docs, make_file, ensure_ascii=False, indent=\"\\t\")\n",
        "    with open('./test_docs.json', 'w', encoding=\"utf-8\") as make_file:\n",
        "        json.dump(test_docs, make_file, ensure_ascii=False, indent=\"\\t\")\n",
        "\n",
        "# 예쁘게(?) 출력하기 위해서 pprint 라이브러리 사용\n",
        "pprint(train_docs[0])\n"
      ],
      "execution_count": 10,
      "outputs": [
        {
          "output_type": "stream",
          "text": [
            "(['아/Exclamation',\n",
            "  '더빙/Noun',\n",
            "  '../Punctuation',\n",
            "  '진짜/Noun',\n",
            "  '짜증나다/Adjective',\n",
            "  '목소리/Noun'],\n",
            " '0')\n"
          ],
          "name": "stdout"
        }
      ]
    },
    {
      "metadata": {
        "id": "5iLc2fZWaMXl",
        "colab_type": "text"
      },
      "cell_type": "markdown",
      "source": [
        "#  length of tokens\n"
      ]
    },
    {
      "metadata": {
        "id": "obpbHi1uV3sR",
        "colab_type": "code",
        "colab": {
          "base_uri": "https://localhost:8080/",
          "height": 34
        },
        "outputId": "02e43758-4400-456c-ecfb-8695ab0c0e73"
      },
      "cell_type": "code",
      "source": [
        "tokens = [t for d in train_docs for t in d[0]]\n",
        "print(len(tokens))"
      ],
      "execution_count": 11,
      "outputs": [
        {
          "output_type": "stream",
          "text": [
            "2159921\n"
          ],
          "name": "stdout"
        }
      ]
    },
    {
      "metadata": {
        "id": "lPEAPs_KaZ0R",
        "colab_type": "text"
      },
      "cell_type": "markdown",
      "source": [
        "이제 이 데이터를 nltk 라이브러리를 통해서 전처리를 해볼텐데요, Text 클래스는 문서를 편리하게 탐색할 수 있는 다양한 기능을 제공합니다.\n",
        "여기에서는 vocab().most_common 메서드를 이용해서 데이터에서 가장 자주 사용되는 단어를 가져올 때 사용하겠습니다."
      ]
    },
    {
      "metadata": {
        "id": "ulf98DmsaLoW",
        "colab_type": "code",
        "colab": {
          "base_uri": "https://localhost:8080/",
          "height": 34
        },
        "outputId": "6b2a43f3-3750-492b-a1da-383e1d30e1ae"
      },
      "cell_type": "code",
      "source": [
        "import nltk\n",
        "text = nltk.Text(tokens, name='NMSC')\n",
        "print(text)"
      ],
      "execution_count": 75,
      "outputs": [
        {
          "output_type": "stream",
          "text": [
            "<Text: NMSC>\n"
          ],
          "name": "stdout"
        }
      ]
    },
    {
      "metadata": {
        "id": "Kc6F2UVMmxSH",
        "colab_type": "code",
        "colab": {}
      },
      "cell_type": "code",
      "source": [
        ""
      ],
      "execution_count": 0,
      "outputs": []
    },
    {
      "metadata": {
        "id": "32odzjcYag1o",
        "colab_type": "code",
        "colab": {
          "base_uri": "https://localhost:8080/",
          "height": 221
        },
        "outputId": "99a0f2f5-1948-43cb-8bc0-06fa2aff62e4"
      },
      "cell_type": "code",
      "source": [
        "# 전체 토큰의 개수\n",
        "print(len(text.tokens))\n",
        "\n",
        "# 중복을 제외한 토큰의 개수\n",
        "print(len(set(text.tokens)))            \n",
        "\n",
        "# 출현 빈도가 높은 상위 토큰 10개\n",
        "pprint(text.vocab().most_common(10))"
      ],
      "execution_count": 76,
      "outputs": [
        {
          "output_type": "stream",
          "text": [
            "2159921\n",
            "49895\n",
            "[('./Punctuation', 67778),\n",
            " ('영화/Noun', 50818),\n",
            " ('하다/Verb', 41209),\n",
            " ('이/Josa', 38540),\n",
            " ('보다/Verb', 38538),\n",
            " ('의/Josa', 30188),\n",
            " ('../Punctuation', 29055),\n",
            " ('가/Josa', 26627),\n",
            " ('에/Josa', 26468),\n",
            " ('을/Josa', 23118)]\n"
          ],
          "name": "stdout"
        }
      ]
    },
    {
      "metadata": {
        "id": "LxSjQ8oimygX",
        "colab_type": "code",
        "colab": {}
      },
      "cell_type": "code",
      "source": [
        ""
      ],
      "execution_count": 0,
      "outputs": []
    },
    {
      "metadata": {
        "id": "pocHyIWvajqK",
        "colab_type": "code",
        "colab": {
          "base_uri": "https://localhost:8080/",
          "height": 680
        },
        "outputId": "c6895475-33eb-4333-915f-8e1d0bcdf8d9"
      },
      "cell_type": "code",
      "source": [
        "!apt-get install fonts-nanum*"
      ],
      "execution_count": 14,
      "outputs": [
        {
          "output_type": "stream",
          "text": [
            "Reading package lists... Done\n",
            "Building dependency tree       \n",
            "Reading state information... Done\n",
            "Note, selecting 'fonts-nanum-eco' for glob 'fonts-nanum*'\n",
            "Note, selecting 'fonts-nanum' for glob 'fonts-nanum*'\n",
            "Note, selecting 'fonts-nanum-gothic-light' for glob 'fonts-nanum*'\n",
            "Note, selecting 'fonts-nanum-coding' for glob 'fonts-nanum*'\n",
            "Note, selecting 'fonts-nanum-extra' for glob 'fonts-nanum*'\n",
            "The following package was automatically installed and is no longer required:\n",
            "  libnvidia-common-410\n",
            "Use 'apt autoremove' to remove it.\n",
            "The following NEW packages will be installed:\n",
            "  fonts-nanum fonts-nanum-coding fonts-nanum-eco fonts-nanum-extra\n",
            "0 upgraded, 4 newly installed, 0 to remove and 10 not upgraded.\n",
            "Need to get 37.0 MB of archives.\n",
            "After this operation, 145 MB of additional disk space will be used.\n",
            "Get:1 http://archive.ubuntu.com/ubuntu bionic/universe amd64 fonts-nanum all 20170925-1 [9,604 kB]\n",
            "Get:2 http://archive.ubuntu.com/ubuntu bionic/universe amd64 fonts-nanum-eco all 1.000-6 [14.0 MB]\n",
            "Get:3 http://archive.ubuntu.com/ubuntu bionic/universe amd64 fonts-nanum-extra all 20170925-1 [12.2 MB]\n",
            "Get:4 http://archive.ubuntu.com/ubuntu bionic/universe amd64 fonts-nanum-coding all 2.5-1 [1,083 kB]\n",
            "Fetched 37.0 MB in 1s (37.3 MB/s)\n",
            "Selecting previously unselected package fonts-nanum.\n",
            "(Reading database ... 131323 files and directories currently installed.)\n",
            "Preparing to unpack .../fonts-nanum_20170925-1_all.deb ...\n",
            "Unpacking fonts-nanum (20170925-1) ...\n",
            "Selecting previously unselected package fonts-nanum-eco.\n",
            "Preparing to unpack .../fonts-nanum-eco_1.000-6_all.deb ...\n",
            "Unpacking fonts-nanum-eco (1.000-6) ...\n",
            "Selecting previously unselected package fonts-nanum-extra.\n",
            "Preparing to unpack .../fonts-nanum-extra_20170925-1_all.deb ...\n",
            "Unpacking fonts-nanum-extra (20170925-1) ...\n",
            "Selecting previously unselected package fonts-nanum-coding.\n",
            "Preparing to unpack .../fonts-nanum-coding_2.5-1_all.deb ...\n",
            "Unpacking fonts-nanum-coding (2.5-1) ...\n",
            "Setting up fonts-nanum-extra (20170925-1) ...\n",
            "Setting up fonts-nanum (20170925-1) ...\n",
            "Setting up fonts-nanum-coding (2.5-1) ...\n",
            "Setting up fonts-nanum-eco (1.000-6) ...\n",
            "Processing triggers for fontconfig (2.12.6-0ubuntu2) ...\n"
          ],
          "name": "stdout"
        }
      ]
    },
    {
      "metadata": {
        "id": "M-szbG4wbFzN",
        "colab_type": "code",
        "colab": {
          "base_uri": "https://localhost:8080/",
          "height": 170
        },
        "outputId": "f61ca5fe-3f9c-4486-b720-b4567c594b51"
      },
      "cell_type": "code",
      "source": [
        "!apt-get install fontconfig"
      ],
      "execution_count": 15,
      "outputs": [
        {
          "output_type": "stream",
          "text": [
            "Reading package lists... Done\n",
            "Building dependency tree       \n",
            "Reading state information... Done\n",
            "fontconfig is already the newest version (2.12.6-0ubuntu2).\n",
            "fontconfig set to manually installed.\n",
            "The following package was automatically installed and is no longer required:\n",
            "  libnvidia-common-410\n",
            "Use 'apt autoremove' to remove it.\n",
            "0 upgraded, 0 newly installed, 0 to remove and 10 not upgraded.\n"
          ],
          "name": "stdout"
        }
      ]
    },
    {
      "metadata": {
        "id": "j0jqD2_MbPku",
        "colab_type": "code",
        "colab": {
          "base_uri": "https://localhost:8080/",
          "height": 204
        },
        "outputId": "147d06f5-b576-4138-a120-35bcd5a9a072"
      },
      "cell_type": "code",
      "source": [
        "!fc-cache -fv"
      ],
      "execution_count": 16,
      "outputs": [
        {
          "output_type": "stream",
          "text": [
            "/usr/share/fonts: caching, new cache contents: 0 fonts, 1 dirs\n",
            "/usr/share/fonts/truetype: caching, new cache contents: 0 fonts, 2 dirs\n",
            "/usr/share/fonts/truetype/liberation: caching, new cache contents: 16 fonts, 0 dirs\n",
            "/usr/share/fonts/truetype/nanum: caching, new cache contents: 31 fonts, 0 dirs\n",
            "/usr/local/share/fonts: caching, new cache contents: 0 fonts, 0 dirs\n",
            "/root/.local/share/fonts: skipping, no such directory\n",
            "/root/.fonts: skipping, no such directory\n",
            "/var/cache/fontconfig: cleaning cache directory\n",
            "/root/.cache/fontconfig: not cleaning non-existent cache directory\n",
            "/root/.fontconfig: not cleaning non-existent cache directory\n",
            "fc-cache: succeeded\n"
          ],
          "name": "stdout"
        }
      ]
    },
    {
      "metadata": {
        "id": "MQwa4q3YbTH-",
        "colab_type": "code",
        "colab": {
          "base_uri": "https://localhost:8080/",
          "height": 34
        },
        "outputId": "d81c36c5-1e2c-47dd-a988-85056b17cf02"
      },
      "cell_type": "code",
      "source": [
        "!cp /usr/share/fonts/truetype/nanum/Nanum* /usr/local/lib/python3.6/distpackages/matplotlib/mpl-data/fonts/ttf/"
      ],
      "execution_count": 17,
      "outputs": [
        {
          "output_type": "stream",
          "text": [
            "cp: target '/usr/local/lib/python3.6/distpackages/matplotlib/mpl-data/fonts/ttf/' is not a directory\n"
          ],
          "name": "stdout"
        }
      ]
    },
    {
      "metadata": {
        "id": "4VlHETlVbaDA",
        "colab_type": "code",
        "colab": {
          "base_uri": "https://localhost:8080/",
          "height": 34
        },
        "outputId": "2264c73e-041b-4567-f97c-b0e7060791f2"
      },
      "cell_type": "code",
      "source": [
        "!ls /usr/local/lib/python3.6/distpackages/matplotlib/ -al"
      ],
      "execution_count": 18,
      "outputs": [
        {
          "output_type": "stream",
          "text": [
            "ls: cannot access '/usr/local/lib/python3.6/distpackages/matplotlib/': No such file or directory\n"
          ],
          "name": "stdout"
        }
      ]
    },
    {
      "metadata": {
        "id": "45-9bdVbbgA-",
        "colab_type": "code",
        "colab": {
          "base_uri": "https://localhost:8080/",
          "height": 544
        },
        "outputId": "8cf3a588-f605-4c8e-d1c8-3d694e506b07"
      },
      "cell_type": "code",
      "source": [
        "!ls -al /usr/share/fonts/truetype/nanum/Nanum*\n"
      ],
      "execution_count": 19,
      "outputs": [
        {
          "output_type": "stream",
          "text": [
            "-rw-r--r-- 1 root root  4413912 Dec  3  2017 /usr/share/fonts/truetype/nanum/NanumBarunGothicBold.ttf\n",
            "-rw-r--r-- 1 root root  4917332 Dec  3  2017 /usr/share/fonts/truetype/nanum/NanumBarunGothicLight.ttf\n",
            "-rw-r--r-- 1 root root  4184028 Dec  3  2017 /usr/share/fonts/truetype/nanum/NanumBarunGothic.ttf\n",
            "-rw-r--r-- 1 root root  4790084 Dec  3  2017 /usr/share/fonts/truetype/nanum/NanumBarunGothicUltraLight.ttf\n",
            "-rw-r--r-- 1 root root 10028540 Dec  3  2017 /usr/share/fonts/truetype/nanum/NanumBarunpenB.ttf\n",
            "-rw-r--r-- 1 root root 11033840 Dec  3  2017 /usr/share/fonts/truetype/nanum/NanumBarunpenR.ttf\n",
            "-rw-r--r-- 1 root root  3745376 Dec  3  2017 /usr/share/fonts/truetype/nanum/NanumBrush.ttf\n",
            "-rw-r--r-- 1 root root  4642244 Dec  3  2017 /usr/share/fonts/truetype/nanum/NanumGothicBold.ttf\n",
            "-rw-r--r-- 1 root root  1800792 Oct 21  2016 /usr/share/fonts/truetype/nanum/NanumGothicCoding-Bold.ttf\n",
            "-rw-r--r-- 1 root root  2779112 Oct 21  2016 /usr/share/fonts/truetype/nanum/NanumGothicCoding.ttf\n",
            "-rw-r--r-- 1 root root 11021172 Oct 29  2011 /usr/share/fonts/truetype/nanum/NanumGothicEcoBold.ttf\n",
            "-rw-r--r-- 1 root root 11571064 Oct 29  2011 /usr/share/fonts/truetype/nanum/NanumGothicEcoExtraBold.ttf\n",
            "-rw-r--r-- 1 root root  7783984 Oct 29  2011 /usr/share/fonts/truetype/nanum/NanumGothicEco.ttf\n",
            "-rw-r--r-- 1 root root  4526920 Dec  3  2017 /usr/share/fonts/truetype/nanum/NanumGothicExtraBold.ttf\n",
            "-rw-r--r-- 1 root root  1523188 Dec  3  2017 /usr/share/fonts/truetype/nanum/NanumGothicLight.ttf\n",
            "-rw-r--r-- 1 root root  4691820 Dec  3  2017 /usr/share/fonts/truetype/nanum/NanumGothic.ttf\n",
            "-rw-r--r-- 1 root root  4183592 Dec  3  2017 /usr/share/fonts/truetype/nanum/NanumMyeongjoBold.ttf\n",
            "-rw-r--r-- 1 root root  9809868 Oct 29  2011 /usr/share/fonts/truetype/nanum/NanumMyeongjoEcoBold.ttf\n",
            "-rw-r--r-- 1 root root 10635180 Oct 29  2011 /usr/share/fonts/truetype/nanum/NanumMyeongjoEcoExtraBold.ttf\n",
            "-rw-r--r-- 1 root root  7024632 Oct 29  2011 /usr/share/fonts/truetype/nanum/NanumMyeongjoEco.ttf\n",
            "-rw-r--r-- 1 root root  4788696 Dec  3  2017 /usr/share/fonts/truetype/nanum/NanumMyeongjoExtraBold.ttf\n",
            "-rw-r--r-- 1 root root  3839464 Dec  3  2017 /usr/share/fonts/truetype/nanum/NanumMyeongjo.ttf\n",
            "-rw-r--r-- 1 root root  3548656 Dec  3  2017 /usr/share/fonts/truetype/nanum/NanumPen.ttf\n",
            "-rw-r--r-- 1 root root   733500 Dec  3  2017 /usr/share/fonts/truetype/nanum/NanumSquareB.ttf\n",
            "-rw-r--r-- 1 root root   726684 Dec  3  2017 /usr/share/fonts/truetype/nanum/NanumSquareEB.ttf\n",
            "-rw-r--r-- 1 root root   750932 Dec  3  2017 /usr/share/fonts/truetype/nanum/NanumSquareL.ttf\n",
            "-rw-r--r-- 1 root root  1030948 Dec  3  2017 /usr/share/fonts/truetype/nanum/NanumSquareRoundB.ttf\n",
            "-rw-r--r-- 1 root root  1029388 Dec  3  2017 /usr/share/fonts/truetype/nanum/NanumSquareRoundEB.ttf\n",
            "-rw-r--r-- 1 root root  1015112 Dec  3  2017 /usr/share/fonts/truetype/nanum/NanumSquareRoundL.ttf\n",
            "-rw-r--r-- 1 root root  1063276 Dec  3  2017 /usr/share/fonts/truetype/nanum/NanumSquareRoundR.ttf\n",
            "-rw-r--r-- 1 root root   723640 Dec  3  2017 /usr/share/fonts/truetype/nanum/NanumSquareR.ttf\n"
          ],
          "name": "stdout"
        }
      ]
    },
    {
      "metadata": {
        "id": "T6obZqvmbsB1",
        "colab_type": "code",
        "colab": {}
      },
      "cell_type": "code",
      "source": [
        "import matplotlib.pyplot as plt\n",
        "from matplotlib import font_manager, rc\n",
        "%matplotlib inline\n",
        "%config InlineBackend.figure_format = 'retina'\n"
      ],
      "execution_count": 0,
      "outputs": []
    },
    {
      "metadata": {
        "id": "QrkFsIjMj6oa",
        "colab_type": "code",
        "colab": {}
      },
      "cell_type": "code",
      "source": [
        "import pandas as pd\n",
        "from pandas.api.types import CategoricalDtype # 그래프의 값을 정렬해서 보기위해\n",
        "import numpy as np"
      ],
      "execution_count": 0,
      "outputs": []
    },
    {
      "metadata": {
        "id": "sdeb1cW0j7RD",
        "colab_type": "code",
        "colab": {}
      },
      "cell_type": "code",
      "source": [
        ""
      ],
      "execution_count": 0,
      "outputs": []
    },
    {
      "metadata": {
        "id": "xOhFfD1ke_aj",
        "colab_type": "code",
        "colab": {
          "base_uri": "https://localhost:8080/",
          "height": 326
        },
        "outputId": "969a4d9d-05c5-45bd-9437-63efdebc69b7"
      },
      "cell_type": "code",
      "source": [
        "!pip install plotnine==0.5.0"
      ],
      "execution_count": 52,
      "outputs": [
        {
          "output_type": "stream",
          "text": [
            "Requirement already satisfied: plotnine==0.5.0 in /usr/local/lib/python3.6/dist-packages (0.5.0)\n",
            "Requirement already satisfied: numpy in /usr/local/lib/python3.6/dist-packages (from plotnine==0.5.0) (1.14.6)\n",
            "Requirement already satisfied: statsmodels>=0.8.0 in /usr/local/lib/python3.6/dist-packages (from plotnine==0.5.0) (0.8.0)\n",
            "Requirement already satisfied: descartes>=1.1.0 in /usr/local/lib/python3.6/dist-packages (from plotnine==0.5.0) (1.1.0)\n",
            "Requirement already satisfied: mizani>=0.5.1 in /usr/local/lib/python3.6/dist-packages (from plotnine==0.5.0) (0.5.3)\n",
            "Requirement already satisfied: scipy>=1.0.0 in /usr/local/lib/python3.6/dist-packages (from plotnine==0.5.0) (1.1.0)\n",
            "Requirement already satisfied: matplotlib>=3.0.0 in /usr/local/lib/python3.6/dist-packages (from plotnine==0.5.0) (3.0.3)\n",
            "Requirement already satisfied: patsy>=0.4.1 in /usr/local/lib/python3.6/dist-packages (from plotnine==0.5.0) (0.5.1)\n",
            "Requirement already satisfied: pandas>=0.23.4 in /usr/local/lib/python3.6/dist-packages (from plotnine==0.5.0) (0.24.2)\n",
            "Requirement already satisfied: palettable in /usr/local/lib/python3.6/dist-packages (from mizani>=0.5.1->plotnine==0.5.0) (3.1.1)\n",
            "Requirement already satisfied: pyparsing!=2.0.4,!=2.1.2,!=2.1.6,>=2.0.1 in /usr/local/lib/python3.6/dist-packages (from matplotlib>=3.0.0->plotnine==0.5.0) (2.3.1)\n",
            "Requirement already satisfied: python-dateutil>=2.1 in /usr/local/lib/python3.6/dist-packages (from matplotlib>=3.0.0->plotnine==0.5.0) (2.5.3)\n",
            "Requirement already satisfied: cycler>=0.10 in /usr/local/lib/python3.6/dist-packages (from matplotlib>=3.0.0->plotnine==0.5.0) (0.10.0)\n",
            "Requirement already satisfied: kiwisolver>=1.0.1 in /usr/local/lib/python3.6/dist-packages (from matplotlib>=3.0.0->plotnine==0.5.0) (1.0.1)\n",
            "Requirement already satisfied: six in /usr/local/lib/python3.6/dist-packages (from patsy>=0.4.1->plotnine==0.5.0) (1.11.0)\n",
            "Requirement already satisfied: pytz>=2011k in /usr/local/lib/python3.6/dist-packages (from pandas>=0.23.4->plotnine==0.5.0) (2018.9)\n",
            "Requirement already satisfied: setuptools in /usr/local/lib/python3.6/dist-packages (from kiwisolver>=1.0.1->matplotlib>=3.0.0->plotnine==0.5.0) (40.8.0)\n"
          ],
          "name": "stdout"
        }
      ]
    },
    {
      "metadata": {
        "id": "JqDcp58Bj8VU",
        "colab_type": "code",
        "colab": {}
      },
      "cell_type": "code",
      "source": [
        ""
      ],
      "execution_count": 0,
      "outputs": []
    },
    {
      "metadata": {
        "id": "A19c9jI2jxPE",
        "colab_type": "code",
        "colab": {}
      },
      "cell_type": "code",
      "source": [
        ""
      ],
      "execution_count": 0,
      "outputs": []
    },
    {
      "metadata": {
        "id": "1KzNOMMCe4Hv",
        "colab_type": "code",
        "colab": {}
      },
      "cell_type": "code",
      "source": [
        ""
      ],
      "execution_count": 0,
      "outputs": []
    },
    {
      "metadata": {
        "id": "rjMYh3sOe1Dz",
        "colab_type": "code",
        "colab": {}
      },
      "cell_type": "code",
      "source": [
        ""
      ],
      "execution_count": 0,
      "outputs": []
    },
    {
      "metadata": {
        "id": "1S8DPoXPcD7t",
        "colab_type": "code",
        "colab": {}
      },
      "cell_type": "code",
      "source": [
        "!cp /usr/share/fonts/truetype/nanum/Nanum* /usr/local/lib/python3.6/dist-packages/matplotlib/mpl-data/fonts/ttf"
      ],
      "execution_count": 0,
      "outputs": []
    },
    {
      "metadata": {
        "id": "XucN4x5odqKJ",
        "colab_type": "code",
        "colab": {
          "base_uri": "https://localhost:8080/",
          "height": 1292
        },
        "outputId": "8d50908e-28cb-493b-b378-41d27f0b903d"
      },
      "cell_type": "code",
      "source": [
        "!ls /usr/local/lib/python3.6/dist-packages/matplotlib/mpl-data/fonts/ttf -al"
      ],
      "execution_count": 30,
      "outputs": [
        {
          "output_type": "stream",
          "text": [
            "total 147876\n",
            "drwxr-sr-x 1 root staff     4096 Mar 20 04:58 .\n",
            "drwxr-sr-x 1 root staff     4096 Mar 13 16:06 ..\n",
            "-rw-r--r-- 1 root staff    25680 Mar 13 16:06 cmb10.ttf\n",
            "-rw-r--r-- 1 root staff    21092 Mar 13 16:06 cmex10.ttf\n",
            "-rw-r--r-- 1 root staff    32560 Mar 13 16:06 cmmi10.ttf\n",
            "-rw-r--r-- 1 root staff    26348 Mar 13 16:06 cmr10.ttf\n",
            "-rw-r--r-- 1 root staff    20376 Mar 13 16:06 cmss10.ttf\n",
            "-rw-r--r-- 1 root staff    29396 Mar 13 16:06 cmsy10.ttf\n",
            "-rw-r--r-- 1 root staff    28136 Mar 13 16:06 cmtt10.ttf\n",
            "-rw-r--r-- 1 root staff   641720 Mar 13 16:06 DejaVuSans-BoldOblique.ttf\n",
            "-rw-r--r-- 1 root staff   704128 Mar 13 16:06 DejaVuSans-Bold.ttf\n",
            "-rw-r--r-- 1 root staff    25712 Mar 13 16:06 DejaVuSansDisplay.ttf\n",
            "-rw-r--r-- 1 root staff   253116 Mar 13 16:06 DejaVuSansMono-BoldOblique.ttf\n",
            "-rw-r--r-- 1 root staff   331536 Mar 13 16:06 DejaVuSansMono-Bold.ttf\n",
            "-rw-r--r-- 1 root staff   251472 Mar 13 16:06 DejaVuSansMono-Oblique.ttf\n",
            "-rw-r--r-- 1 root staff   340240 Mar 13 16:06 DejaVuSansMono.ttf\n",
            "-rw-r--r-- 1 root staff   633840 Mar 13 16:06 DejaVuSans-Oblique.ttf\n",
            "-rw-r--r-- 1 root staff   756072 Mar 13 16:06 DejaVuSans.ttf\n",
            "-rw-r--r-- 1 root staff   347064 Mar 13 16:06 DejaVuSerif-BoldItalic.ttf\n",
            "-rw-r--r-- 1 root staff   355692 Mar 13 16:06 DejaVuSerif-Bold.ttf\n",
            "-rw-r--r-- 1 root staff    14300 Mar 13 16:06 DejaVuSerifDisplay.ttf\n",
            "-rw-r--r-- 1 root staff   345612 Mar 13 16:06 DejaVuSerif-Italic.ttf\n",
            "-rw-r--r-- 1 root staff   379740 Mar 13 16:06 DejaVuSerif.ttf\n",
            "-rw-r--r-- 1 root staff     4816 Mar 13 16:06 LICENSE_DEJAVU\n",
            "-rw-r--r-- 1 root staff     5475 Mar 13 16:06 LICENSE_STIX\n",
            "-rw-r--r-- 1 root staff      988 Mar 13 16:06 local.conf\n",
            "-rw-r--r-- 1 root staff  4413912 Mar 20 04:58 NanumBarunGothicBold.ttf\n",
            "-rw-r--r-- 1 root staff  4917332 Mar 20 04:58 NanumBarunGothicLight.ttf\n",
            "-rw-r--r-- 1 root staff  4184028 Mar 20 04:58 NanumBarunGothic.ttf\n",
            "-rw-r--r-- 1 root staff  4790084 Mar 20 04:58 NanumBarunGothicUltraLight.ttf\n",
            "-rw-r--r-- 1 root staff 10028540 Mar 20 04:58 NanumBarunpenB.ttf\n",
            "-rw-r--r-- 1 root staff 11033840 Mar 20 04:58 NanumBarunpenR.ttf\n",
            "-rw-r--r-- 1 root staff  3745376 Mar 20 04:58 NanumBrush.ttf\n",
            "-rw-r--r-- 1 root staff  4642244 Mar 20 04:58 NanumGothicBold.ttf\n",
            "-rw-r--r-- 1 root staff  1800792 Mar 20 04:58 NanumGothicCoding-Bold.ttf\n",
            "-rw-r--r-- 1 root staff  2779112 Mar 20 04:58 NanumGothicCoding.ttf\n",
            "-rw-r--r-- 1 root staff 11021172 Mar 20 04:58 NanumGothicEcoBold.ttf\n",
            "-rw-r--r-- 1 root staff 11571064 Mar 20 04:58 NanumGothicEcoExtraBold.ttf\n",
            "-rw-r--r-- 1 root staff  7783984 Mar 20 04:58 NanumGothicEco.ttf\n",
            "-rw-r--r-- 1 root staff  4526920 Mar 20 04:58 NanumGothicExtraBold.ttf\n",
            "-rw-r--r-- 1 root staff  1523188 Mar 20 04:58 NanumGothicLight.ttf\n",
            "-rw-r--r-- 1 root staff  4691820 Mar 20 04:58 NanumGothic.ttf\n",
            "-rw-r--r-- 1 root staff  4183592 Mar 20 04:58 NanumMyeongjoBold.ttf\n",
            "-rw-r--r-- 1 root staff  9809868 Mar 20 04:58 NanumMyeongjoEcoBold.ttf\n",
            "-rw-r--r-- 1 root staff 10635180 Mar 20 04:58 NanumMyeongjoEcoExtraBold.ttf\n",
            "-rw-r--r-- 1 root staff  7024632 Mar 20 04:58 NanumMyeongjoEco.ttf\n",
            "-rw-r--r-- 1 root staff  4788696 Mar 20 04:58 NanumMyeongjoExtraBold.ttf\n",
            "-rw-r--r-- 1 root staff  3839464 Mar 20 04:58 NanumMyeongjo.ttf\n",
            "-rw-r--r-- 1 root staff  3548656 Mar 20 04:58 NanumPen.ttf\n",
            "-rw-r--r-- 1 root staff   733500 Mar 20 04:58 NanumSquareB.ttf\n",
            "-rw-r--r-- 1 root staff   726684 Mar 20 04:58 NanumSquareEB.ttf\n",
            "-rw-r--r-- 1 root staff   750932 Mar 20 04:58 NanumSquareL.ttf\n",
            "-rw-r--r-- 1 root staff  1030948 Mar 20 04:58 NanumSquareRoundB.ttf\n",
            "-rw-r--r-- 1 root staff  1029388 Mar 20 04:58 NanumSquareRoundEB.ttf\n",
            "-rw-r--r-- 1 root staff  1015112 Mar 20 04:58 NanumSquareRoundL.ttf\n",
            "-rw-r--r-- 1 root staff  1063276 Mar 20 04:58 NanumSquareRoundR.ttf\n",
            "-rw-r--r-- 1 root staff   723640 Mar 20 04:58 NanumSquareR.ttf\n",
            "-rw-r--r-- 1 root staff   181152 Mar 13 16:06 STIXGeneralBolIta.ttf\n",
            "-rw-r--r-- 1 root staff   237360 Mar 13 16:06 STIXGeneralBol.ttf\n",
            "-rw-r--r-- 1 root staff   175040 Mar 13 16:06 STIXGeneralItalic.ttf\n",
            "-rw-r--r-- 1 root staff   448228 Mar 13 16:06 STIXGeneral.ttf\n",
            "-rw-r--r-- 1 root staff    41272 Mar 13 16:06 STIXNonUniBolIta.ttf\n",
            "-rw-r--r-- 1 root staff    30512 Mar 13 16:06 STIXNonUniBol.ttf\n",
            "-rw-r--r-- 1 root staff    46752 Mar 13 16:06 STIXNonUniIta.ttf\n",
            "-rw-r--r-- 1 root staff    59108 Mar 13 16:06 STIXNonUni.ttf\n",
            "-rw-r--r-- 1 root staff    13656 Mar 13 16:06 STIXSizFiveSymReg.ttf\n",
            "-rw-r--r-- 1 root staff    12228 Mar 13 16:06 STIXSizFourSymBol.ttf\n",
            "-rw-r--r-- 1 root staff    15972 Mar 13 16:06 STIXSizFourSymReg.ttf\n",
            "-rw-r--r-- 1 root staff    12556 Mar 13 16:06 STIXSizOneSymBol.ttf\n",
            "-rw-r--r-- 1 root staff    19760 Mar 13 16:06 STIXSizOneSymReg.ttf\n",
            "-rw-r--r-- 1 root staff    12192 Mar 13 16:06 STIXSizThreeSymBol.ttf\n",
            "-rw-r--r-- 1 root staff    15836 Mar 13 16:06 STIXSizThreeSymReg.ttf\n",
            "-rw-r--r-- 1 root staff    12116 Mar 13 16:06 STIXSizTwoSymBol.ttf\n",
            "-rw-r--r-- 1 root staff    15704 Mar 13 16:06 STIXSizTwoSymReg.ttf\n"
          ],
          "name": "stdout"
        }
      ]
    },
    {
      "metadata": {
        "id": "07aNsgs5du74",
        "colab_type": "code",
        "colab": {}
      },
      "cell_type": "code",
      "source": [
        "!rm -rf /content/.cache/matplotlib/"
      ],
      "execution_count": 0,
      "outputs": []
    },
    {
      "metadata": {
        "id": "sXATQWQxdzCb",
        "colab_type": "code",
        "colab": {}
      },
      "cell_type": "code",
      "source": [
        "%config InlineBackend.figure_format = 'retina'"
      ],
      "execution_count": 0,
      "outputs": []
    },
    {
      "metadata": {
        "id": "vuekIZhvgkIm",
        "colab_type": "code",
        "colab": {
          "base_uri": "https://localhost:8080/",
          "height": 34
        },
        "outputId": "55a419c9-6f1a-4193-e738-ff1fa971ecd9"
      },
      "cell_type": "code",
      "source": [
        "!ls -al /usr/share/fonts/truetype/nanum/NanumGothicBold.ttf"
      ],
      "execution_count": 42,
      "outputs": [
        {
          "output_type": "stream",
          "text": [
            "-rw-r--r-- 1 root root 4642244 Dec  3  2017 /usr/share/fonts/truetype/nanum/NanumGothicBold.ttf\n"
          ],
          "name": "stdout"
        }
      ]
    },
    {
      "metadata": {
        "id": "qhdfJNolgmc8",
        "colab_type": "code",
        "colab": {
          "base_uri": "https://localhost:8080/",
          "height": 1292
        },
        "outputId": "2d92c947-2a01-44bc-a5a9-07bed4be10d5"
      },
      "cell_type": "code",
      "source": [
        "!ls -al /usr/local/lib/python3.6/dist-packages/matplotlib/mpl-data/fonts/ttf"
      ],
      "execution_count": 44,
      "outputs": [
        {
          "output_type": "stream",
          "text": [
            "total 147876\n",
            "drwxr-sr-x 1 root staff     4096 Mar 20 04:58 .\n",
            "drwxr-sr-x 1 root staff     4096 Mar 13 16:06 ..\n",
            "-rw-r--r-- 1 root staff    25680 Mar 13 16:06 cmb10.ttf\n",
            "-rw-r--r-- 1 root staff    21092 Mar 13 16:06 cmex10.ttf\n",
            "-rw-r--r-- 1 root staff    32560 Mar 13 16:06 cmmi10.ttf\n",
            "-rw-r--r-- 1 root staff    26348 Mar 13 16:06 cmr10.ttf\n",
            "-rw-r--r-- 1 root staff    20376 Mar 13 16:06 cmss10.ttf\n",
            "-rw-r--r-- 1 root staff    29396 Mar 13 16:06 cmsy10.ttf\n",
            "-rw-r--r-- 1 root staff    28136 Mar 13 16:06 cmtt10.ttf\n",
            "-rw-r--r-- 1 root staff   641720 Mar 13 16:06 DejaVuSans-BoldOblique.ttf\n",
            "-rw-r--r-- 1 root staff   704128 Mar 13 16:06 DejaVuSans-Bold.ttf\n",
            "-rw-r--r-- 1 root staff    25712 Mar 13 16:06 DejaVuSansDisplay.ttf\n",
            "-rw-r--r-- 1 root staff   253116 Mar 13 16:06 DejaVuSansMono-BoldOblique.ttf\n",
            "-rw-r--r-- 1 root staff   331536 Mar 13 16:06 DejaVuSansMono-Bold.ttf\n",
            "-rw-r--r-- 1 root staff   251472 Mar 13 16:06 DejaVuSansMono-Oblique.ttf\n",
            "-rw-r--r-- 1 root staff   340240 Mar 13 16:06 DejaVuSansMono.ttf\n",
            "-rw-r--r-- 1 root staff   633840 Mar 13 16:06 DejaVuSans-Oblique.ttf\n",
            "-rw-r--r-- 1 root staff   756072 Mar 13 16:06 DejaVuSans.ttf\n",
            "-rw-r--r-- 1 root staff   347064 Mar 13 16:06 DejaVuSerif-BoldItalic.ttf\n",
            "-rw-r--r-- 1 root staff   355692 Mar 13 16:06 DejaVuSerif-Bold.ttf\n",
            "-rw-r--r-- 1 root staff    14300 Mar 13 16:06 DejaVuSerifDisplay.ttf\n",
            "-rw-r--r-- 1 root staff   345612 Mar 13 16:06 DejaVuSerif-Italic.ttf\n",
            "-rw-r--r-- 1 root staff   379740 Mar 13 16:06 DejaVuSerif.ttf\n",
            "-rw-r--r-- 1 root staff     4816 Mar 13 16:06 LICENSE_DEJAVU\n",
            "-rw-r--r-- 1 root staff     5475 Mar 13 16:06 LICENSE_STIX\n",
            "-rw-r--r-- 1 root staff      988 Mar 13 16:06 local.conf\n",
            "-rw-r--r-- 1 root staff  4413912 Mar 20 04:58 NanumBarunGothicBold.ttf\n",
            "-rw-r--r-- 1 root staff  4917332 Mar 20 04:58 NanumBarunGothicLight.ttf\n",
            "-rw-r--r-- 1 root staff  4184028 Mar 20 04:58 NanumBarunGothic.ttf\n",
            "-rw-r--r-- 1 root staff  4790084 Mar 20 04:58 NanumBarunGothicUltraLight.ttf\n",
            "-rw-r--r-- 1 root staff 10028540 Mar 20 04:58 NanumBarunpenB.ttf\n",
            "-rw-r--r-- 1 root staff 11033840 Mar 20 04:58 NanumBarunpenR.ttf\n",
            "-rw-r--r-- 1 root staff  3745376 Mar 20 04:58 NanumBrush.ttf\n",
            "-rw-r--r-- 1 root staff  4642244 Mar 20 04:58 NanumGothicBold.ttf\n",
            "-rw-r--r-- 1 root staff  1800792 Mar 20 04:58 NanumGothicCoding-Bold.ttf\n",
            "-rw-r--r-- 1 root staff  2779112 Mar 20 04:58 NanumGothicCoding.ttf\n",
            "-rw-r--r-- 1 root staff 11021172 Mar 20 04:58 NanumGothicEcoBold.ttf\n",
            "-rw-r--r-- 1 root staff 11571064 Mar 20 04:58 NanumGothicEcoExtraBold.ttf\n",
            "-rw-r--r-- 1 root staff  7783984 Mar 20 04:58 NanumGothicEco.ttf\n",
            "-rw-r--r-- 1 root staff  4526920 Mar 20 04:58 NanumGothicExtraBold.ttf\n",
            "-rw-r--r-- 1 root staff  1523188 Mar 20 04:58 NanumGothicLight.ttf\n",
            "-rw-r--r-- 1 root staff  4691820 Mar 20 04:58 NanumGothic.ttf\n",
            "-rw-r--r-- 1 root staff  4183592 Mar 20 04:58 NanumMyeongjoBold.ttf\n",
            "-rw-r--r-- 1 root staff  9809868 Mar 20 04:58 NanumMyeongjoEcoBold.ttf\n",
            "-rw-r--r-- 1 root staff 10635180 Mar 20 04:58 NanumMyeongjoEcoExtraBold.ttf\n",
            "-rw-r--r-- 1 root staff  7024632 Mar 20 04:58 NanumMyeongjoEco.ttf\n",
            "-rw-r--r-- 1 root staff  4788696 Mar 20 04:58 NanumMyeongjoExtraBold.ttf\n",
            "-rw-r--r-- 1 root staff  3839464 Mar 20 04:58 NanumMyeongjo.ttf\n",
            "-rw-r--r-- 1 root staff  3548656 Mar 20 04:58 NanumPen.ttf\n",
            "-rw-r--r-- 1 root staff   733500 Mar 20 04:58 NanumSquareB.ttf\n",
            "-rw-r--r-- 1 root staff   726684 Mar 20 04:58 NanumSquareEB.ttf\n",
            "-rw-r--r-- 1 root staff   750932 Mar 20 04:58 NanumSquareL.ttf\n",
            "-rw-r--r-- 1 root staff  1030948 Mar 20 04:58 NanumSquareRoundB.ttf\n",
            "-rw-r--r-- 1 root staff  1029388 Mar 20 04:58 NanumSquareRoundEB.ttf\n",
            "-rw-r--r-- 1 root staff  1015112 Mar 20 04:58 NanumSquareRoundL.ttf\n",
            "-rw-r--r-- 1 root staff  1063276 Mar 20 04:58 NanumSquareRoundR.ttf\n",
            "-rw-r--r-- 1 root staff   723640 Mar 20 04:58 NanumSquareR.ttf\n",
            "-rw-r--r-- 1 root staff   181152 Mar 13 16:06 STIXGeneralBolIta.ttf\n",
            "-rw-r--r-- 1 root staff   237360 Mar 13 16:06 STIXGeneralBol.ttf\n",
            "-rw-r--r-- 1 root staff   175040 Mar 13 16:06 STIXGeneralItalic.ttf\n",
            "-rw-r--r-- 1 root staff   448228 Mar 13 16:06 STIXGeneral.ttf\n",
            "-rw-r--r-- 1 root staff    41272 Mar 13 16:06 STIXNonUniBolIta.ttf\n",
            "-rw-r--r-- 1 root staff    30512 Mar 13 16:06 STIXNonUniBol.ttf\n",
            "-rw-r--r-- 1 root staff    46752 Mar 13 16:06 STIXNonUniIta.ttf\n",
            "-rw-r--r-- 1 root staff    59108 Mar 13 16:06 STIXNonUni.ttf\n",
            "-rw-r--r-- 1 root staff    13656 Mar 13 16:06 STIXSizFiveSymReg.ttf\n",
            "-rw-r--r-- 1 root staff    12228 Mar 13 16:06 STIXSizFourSymBol.ttf\n",
            "-rw-r--r-- 1 root staff    15972 Mar 13 16:06 STIXSizFourSymReg.ttf\n",
            "-rw-r--r-- 1 root staff    12556 Mar 13 16:06 STIXSizOneSymBol.ttf\n",
            "-rw-r--r-- 1 root staff    19760 Mar 13 16:06 STIXSizOneSymReg.ttf\n",
            "-rw-r--r-- 1 root staff    12192 Mar 13 16:06 STIXSizThreeSymBol.ttf\n",
            "-rw-r--r-- 1 root staff    15836 Mar 13 16:06 STIXSizThreeSymReg.ttf\n",
            "-rw-r--r-- 1 root staff    12116 Mar 13 16:06 STIXSizTwoSymBol.ttf\n",
            "-rw-r--r-- 1 root staff    15704 Mar 13 16:06 STIXSizTwoSymReg.ttf\n"
          ],
          "name": "stdout"
        }
      ]
    },
    {
      "metadata": {
        "id": "d-4sdHU2hDZg",
        "colab_type": "code",
        "colab": {}
      },
      "cell_type": "code",
      "source": [
        ""
      ],
      "execution_count": 0,
      "outputs": []
    },
    {
      "metadata": {
        "id": "mPMEviUBg_J_",
        "colab_type": "code",
        "colab": {}
      },
      "cell_type": "code",
      "source": [
        "%config InlineBackend.figure_format = 'retina'\n",
        "import matplotlib as mpl\n",
        "mpl.font_manager._rebuild()\n",
        "mpl.pyplot.rc('font', family='NanumBarunGothic')"
      ],
      "execution_count": 0,
      "outputs": []
    },
    {
      "metadata": {
        "id": "WdK2lhhckJ3G",
        "colab_type": "code",
        "colab": {}
      },
      "cell_type": "code",
      "source": [
        ""
      ],
      "execution_count": 0,
      "outputs": []
    },
    {
      "metadata": {
        "id": "hDQgicFXi109",
        "colab_type": "code",
        "colab": {}
      },
      "cell_type": "code",
      "source": [
        "# 나눔고딕 설치\n",
        "#!apt -qq -y install fonts-nanum > /dev/null\n",
        "import matplotlib.font_manager as fm\n",
        "fontpath = '/usr/share/fonts/truetype/nanum/NanumBarunGothic.ttf'\n",
        "font = fm.FontProperties(fname=fontpath, size=9)"
      ],
      "execution_count": 0,
      "outputs": []
    },
    {
      "metadata": {
        "id": "FJPwGMFWkK6k",
        "colab_type": "code",
        "colab": {
          "base_uri": "https://localhost:8080/",
          "height": 377
        },
        "outputId": "a19cbf11-6893-4a4d-fd7c-d6ad4ac246bb"
      },
      "cell_type": "code",
      "source": [
        "!pip install ggplot"
      ],
      "execution_count": 57,
      "outputs": [
        {
          "output_type": "stream",
          "text": [
            "Collecting ggplot\n",
            "\u001b[?25l  Downloading https://files.pythonhosted.org/packages/48/04/5c88cc51c6713583f2dc78a5296adb9741505348c323d5875bc976143db2/ggplot-0.11.5-py2.py3-none-any.whl (2.2MB)\n",
            "\u001b[K    100% |████████████████████████████████| 2.2MB 12.4MB/s \n",
            "\u001b[?25hRequirement already satisfied: cycler in /usr/local/lib/python3.6/dist-packages (from ggplot) (0.10.0)\n",
            "Requirement already satisfied: patsy>=0.4 in /usr/local/lib/python3.6/dist-packages (from ggplot) (0.5.1)\n",
            "Collecting brewer2mpl (from ggplot)\n",
            "  Downloading https://files.pythonhosted.org/packages/84/57/00c45a199719e617db0875181134fcb3aeef701deae346547ac722eaaf5e/brewer2mpl-1.4.1-py2.py3-none-any.whl\n",
            "Requirement already satisfied: numpy in /usr/local/lib/python3.6/dist-packages (from ggplot) (1.14.6)\n",
            "Requirement already satisfied: six in /usr/local/lib/python3.6/dist-packages (from ggplot) (1.11.0)\n",
            "Requirement already satisfied: scipy in /usr/local/lib/python3.6/dist-packages (from ggplot) (1.1.0)\n",
            "Requirement already satisfied: statsmodels in /usr/local/lib/python3.6/dist-packages (from ggplot) (0.8.0)\n",
            "Requirement already satisfied: pandas in /usr/local/lib/python3.6/dist-packages (from ggplot) (0.24.2)\n",
            "Requirement already satisfied: matplotlib in /usr/local/lib/python3.6/dist-packages (from ggplot) (3.0.3)\n",
            "Requirement already satisfied: python-dateutil>=2.5.0 in /usr/local/lib/python3.6/dist-packages (from pandas->ggplot) (2.5.3)\n",
            "Requirement already satisfied: pytz>=2011k in /usr/local/lib/python3.6/dist-packages (from pandas->ggplot) (2018.9)\n",
            "Requirement already satisfied: pyparsing!=2.0.4,!=2.1.2,!=2.1.6,>=2.0.1 in /usr/local/lib/python3.6/dist-packages (from matplotlib->ggplot) (2.3.1)\n",
            "Requirement already satisfied: kiwisolver>=1.0.1 in /usr/local/lib/python3.6/dist-packages (from matplotlib->ggplot) (1.0.1)\n",
            "Requirement already satisfied: setuptools in /usr/local/lib/python3.6/dist-packages (from kiwisolver>=1.0.1->matplotlib->ggplot) (40.8.0)\n",
            "Installing collected packages: brewer2mpl, ggplot\n",
            "Successfully installed brewer2mpl-1.4.1 ggplot-0.11.5\n"
          ],
          "name": "stdout"
        }
      ]
    },
    {
      "metadata": {
        "id": "Hy11xAc8kkKc",
        "colab_type": "code",
        "colab": {}
      },
      "cell_type": "code",
      "source": [
        ""
      ],
      "execution_count": 0,
      "outputs": []
    },
    {
      "metadata": {
        "id": "86OlCOqMkSwH",
        "colab_type": "code",
        "colab": {}
      },
      "cell_type": "code",
      "source": [
        "import pandas as pd\n",
        "from pandas.api.types import CategoricalDtype # 그래프의 값을 정렬해서 보기위해\n",
        "import numpy as np"
      ],
      "execution_count": 0,
      "outputs": []
    },
    {
      "metadata": {
        "id": "gUPPEnWCmKdk",
        "colab_type": "code",
        "colab": {
          "base_uri": "https://localhost:8080/",
          "height": 633
        },
        "outputId": "4064d33a-c2d2-4391-b8e0-2aca1c2c388c"
      },
      "cell_type": "code",
      "source": [
        "!pip install plotnine==0.5.0\n",
        "!pip install --upgrade pandas==0.23.4"
      ],
      "execution_count": 69,
      "outputs": [
        {
          "output_type": "stream",
          "text": [
            "Requirement already satisfied: plotnine==0.5.0 in /usr/local/lib/python3.6/dist-packages (0.5.0)\n",
            "Requirement already satisfied: mizani>=0.5.1 in /usr/local/lib/python3.6/dist-packages (from plotnine==0.5.0) (0.5.3)\n",
            "Requirement already satisfied: patsy>=0.4.1 in /usr/local/lib/python3.6/dist-packages (from plotnine==0.5.0) (0.5.1)\n",
            "Requirement already satisfied: pandas>=0.23.4 in /usr/local/lib/python3.6/dist-packages (from plotnine==0.5.0) (0.24.2)\n",
            "Requirement already satisfied: scipy>=1.0.0 in /usr/local/lib/python3.6/dist-packages (from plotnine==0.5.0) (1.1.0)\n",
            "Requirement already satisfied: statsmodels>=0.8.0 in /usr/local/lib/python3.6/dist-packages (from plotnine==0.5.0) (0.8.0)\n",
            "Requirement already satisfied: numpy in /usr/local/lib/python3.6/dist-packages (from plotnine==0.5.0) (1.14.6)\n",
            "Requirement already satisfied: matplotlib>=3.0.0 in /usr/local/lib/python3.6/dist-packages (from plotnine==0.5.0) (3.0.3)\n",
            "Requirement already satisfied: descartes>=1.1.0 in /usr/local/lib/python3.6/dist-packages (from plotnine==0.5.0) (1.1.0)\n",
            "Requirement already satisfied: palettable in /usr/local/lib/python3.6/dist-packages (from mizani>=0.5.1->plotnine==0.5.0) (3.1.1)\n",
            "Requirement already satisfied: six in /usr/local/lib/python3.6/dist-packages (from patsy>=0.4.1->plotnine==0.5.0) (1.11.0)\n",
            "Requirement already satisfied: pytz>=2011k in /usr/local/lib/python3.6/dist-packages (from pandas>=0.23.4->plotnine==0.5.0) (2018.9)\n",
            "Requirement already satisfied: python-dateutil>=2.5.0 in /usr/local/lib/python3.6/dist-packages (from pandas>=0.23.4->plotnine==0.5.0) (2.5.3)\n",
            "Requirement already satisfied: pyparsing!=2.0.4,!=2.1.2,!=2.1.6,>=2.0.1 in /usr/local/lib/python3.6/dist-packages (from matplotlib>=3.0.0->plotnine==0.5.0) (2.3.1)\n",
            "Requirement already satisfied: cycler>=0.10 in /usr/local/lib/python3.6/dist-packages (from matplotlib>=3.0.0->plotnine==0.5.0) (0.10.0)\n",
            "Requirement already satisfied: kiwisolver>=1.0.1 in /usr/local/lib/python3.6/dist-packages (from matplotlib>=3.0.0->plotnine==0.5.0) (1.0.1)\n",
            "Requirement already satisfied: setuptools in /usr/local/lib/python3.6/dist-packages (from kiwisolver>=1.0.1->matplotlib>=3.0.0->plotnine==0.5.0) (40.8.0)\n",
            "Collecting pandas==0.23.4\n",
            "\u001b[?25l  Downloading https://files.pythonhosted.org/packages/e1/d8/feeb346d41f181e83fba45224ab14a8d8af019b48af742e047f3845d8cff/pandas-0.23.4-cp36-cp36m-manylinux1_x86_64.whl (8.9MB)\n",
            "\u001b[K    100% |████████████████████████████████| 8.9MB 4.6MB/s \n",
            "\u001b[?25hRequirement already satisfied, skipping upgrade: pytz>=2011k in /usr/local/lib/python3.6/dist-packages (from pandas==0.23.4) (2018.9)\n",
            "Requirement already satisfied, skipping upgrade: python-dateutil>=2.5.0 in /usr/local/lib/python3.6/dist-packages (from pandas==0.23.4) (2.5.3)\n",
            "Requirement already satisfied, skipping upgrade: numpy>=1.9.0 in /usr/local/lib/python3.6/dist-packages (from pandas==0.23.4) (1.14.6)\n",
            "Requirement already satisfied, skipping upgrade: six>=1.5 in /usr/local/lib/python3.6/dist-packages (from python-dateutil>=2.5.0->pandas==0.23.4) (1.11.0)\n",
            "\u001b[31mfastai 1.0.48 has requirement numpy>=1.15, but you'll have numpy 1.14.6 which is incompatible.\u001b[0m\n",
            "Installing collected packages: pandas\n",
            "  Found existing installation: pandas 0.24.2\n",
            "    Uninstalling pandas-0.24.2:\n",
            "      Successfully uninstalled pandas-0.24.2\n",
            "Successfully installed pandas-0.23.4\n"
          ],
          "name": "stdout"
        },
        {
          "output_type": "display_data",
          "data": {
            "application/vnd.colab-display-data+json": {
              "pip_warning": {
                "packages": [
                  "pandas"
                ]
              }
            }
          },
          "metadata": {
            "tags": []
          }
        }
      ]
    },
    {
      "metadata": {
        "id": "4vNhx46dmN0l",
        "colab_type": "code",
        "colab": {
          "base_uri": "https://localhost:8080/",
          "height": 51
        },
        "outputId": "3846d6ed-4774-432b-b5b8-2d429eb3bd7a"
      },
      "cell_type": "code",
      "source": [
        "import pandas as pd\n",
        "from pandas.api.types import CategoricalDtype # 그래프의 값을 정렬해서 보기위해\n",
        "import numpy as np\n",
        "\n",
        "print(pd.__version__)\n",
        "print(np.__version__)"
      ],
      "execution_count": 70,
      "outputs": [
        {
          "output_type": "stream",
          "text": [
            "0.22.0\n",
            "1.14.6\n"
          ],
          "name": "stdout"
        }
      ]
    },
    {
      "metadata": {
        "id": "EXN3_rIymUpV",
        "colab_type": "code",
        "colab": {}
      },
      "cell_type": "code",
      "source": [
        "from plotnine import *"
      ],
      "execution_count": 0,
      "outputs": []
    },
    {
      "metadata": {
        "id": "uIfEMMQ6lDkO",
        "colab_type": "code",
        "colab": {}
      },
      "cell_type": "code",
      "source": [
        "# 기본 글꼴 변경\n",
        "import matplotlib as mpl\n",
        "mpl.font_manager._rebuild()\n",
        "mpl.pyplot.rc('font', family='NanumBarunGothic')"
      ],
      "execution_count": 0,
      "outputs": []
    },
    {
      "metadata": {
        "id": "0oDjCw3jd3jp",
        "colab_type": "code",
        "colab": {
          "base_uri": "https://localhost:8080/",
          "height": 690
        },
        "outputId": "89ebee41-0465-487a-c7f4-80273f5604b8"
      },
      "cell_type": "code",
      "source": [
        "path = '/usr/share/fonts/truetype/nanum/NanumGothicBold.ttf'\n",
        "fontprop = font_manager.FontProperties(fname=path, size=18)\n",
        "rc('font', family=fontprop.get_name())\n",
        "\n",
        "plt.figure(figsize=(20,10))\n",
        "\n",
        "plt.title('타이틀', fontproperties=fontprop)\n",
        "\n",
        "text.plot(50)\n",
        "\n",
        "\n",
        "\n"
      ],
      "execution_count": 78,
      "outputs": [
        {
          "output_type": "display_data",
          "data": {
            "image/png": "[encoded data removed]",
            "text/plain": [
              "<Figure size 1440x720 with 1 Axes>"
            ]
          },
          "metadata": {
            "tags": [],
            "image/png": {
              "width": 1181,
              "height": 673
            }
          }
        }
      ]
    },
    {
      "metadata": {
        "id": "UBfy5R4bn4lw",
        "colab_type": "text"
      },
      "cell_type": "markdown",
      "source": [
        "이제 자주 사용되는 토큰 10000개를 사용해서 데이터를 벡터화를 시키겠습니다.\n",
        "여기서는 원 핫 인코딩 대신에 CountVectorization을 사용했습니다.\n",
        "이는 문서 집합에서 단어 토큰을 생성하고 각 단어의 수를 세어 BOW(Bag of Words) 인코딩한 벡터를 만드는 역할을 합니다."
      ]
    },
    {
      "metadata": {
        "id": "Hb7xgqlfnn7w",
        "colab_type": "code",
        "colab": {}
      },
      "cell_type": "code",
      "source": [
        "selected_words = [f[0] for f in text.vocab().most_common(10000)]\n",
        "\n",
        "def term_frequency(doc):\n",
        "    return [doc.count(word) for word in selected_words]\n",
        "\n",
        "train_x = [term_frequency(d) for d, _ in train_docs]\n",
        "test_x = [term_frequency(d) for d, _ in test_docs]\n",
        "train_y = [c for _, c in train_docs]\n",
        "test_y = [c for _, c in test_docs]"
      ],
      "execution_count": 0,
      "outputs": []
    },
    {
      "metadata": {
        "id": "4neWBlMSn8DC",
        "colab_type": "code",
        "colab": {}
      },
      "cell_type": "code",
      "source": [
        ""
      ],
      "execution_count": 0,
      "outputs": []
    },
    {
      "metadata": {
        "id": "cqRU-xXPgN4Z",
        "colab_type": "code",
        "colab": {}
      },
      "cell_type": "code",
      "source": [
        ""
      ],
      "execution_count": 0,
      "outputs": []
    },
    {
      "metadata": {
        "id": "WshFLlJPf4Cn",
        "colab_type": "code",
        "colab": {}
      },
      "cell_type": "code",
      "source": [
        ""
      ],
      "execution_count": 0,
      "outputs": []
    },
    {
      "metadata": {
        "id": "Wtz7qqRSfwE3",
        "colab_type": "code",
        "colab": {}
      },
      "cell_type": "code",
      "source": [
        ""
      ],
      "execution_count": 0,
      "outputs": []
    },
    {
      "metadata": {
        "id": "MIcvLjH5eXId",
        "colab_type": "code",
        "colab": {}
      },
      "cell_type": "code",
      "source": [
        ""
      ],
      "execution_count": 0,
      "outputs": []
    },
    {
      "metadata": {
        "id": "XMWxjIdqeC4K",
        "colab_type": "code",
        "colab": {}
      },
      "cell_type": "code",
      "source": [
        ""
      ],
      "execution_count": 0,
      "outputs": []
    },
    {
      "metadata": {
        "id": "0KKJaV81djIY",
        "colab_type": "code",
        "colab": {}
      },
      "cell_type": "code",
      "source": [
        ""
      ],
      "execution_count": 0,
      "outputs": []
    },
    {
      "metadata": {
        "id": "ZRR2GTvgdgR3",
        "colab_type": "code",
        "colab": {}
      },
      "cell_type": "code",
      "source": [
        ""
      ],
      "execution_count": 0,
      "outputs": []
    },
    {
      "metadata": {
        "id": "we2ZzIBqddoH",
        "colab_type": "code",
        "colab": {}
      },
      "cell_type": "code",
      "source": [
        ""
      ],
      "execution_count": 0,
      "outputs": []
    },
    {
      "metadata": {
        "id": "Ag8qy0nJdW9X",
        "colab_type": "code",
        "colab": {}
      },
      "cell_type": "code",
      "source": [
        ""
      ],
      "execution_count": 0,
      "outputs": []
    },
    {
      "metadata": {
        "id": "yqJnG1L0dLAF",
        "colab_type": "code",
        "colab": {}
      },
      "cell_type": "code",
      "source": [
        ""
      ],
      "execution_count": 0,
      "outputs": []
    },
    {
      "metadata": {
        "id": "Fj9I85sBcjnR",
        "colab_type": "code",
        "colab": {}
      },
      "cell_type": "code",
      "source": [
        ""
      ],
      "execution_count": 0,
      "outputs": []
    },
    {
      "metadata": {
        "id": "Vff0gj0VceIw",
        "colab_type": "code",
        "colab": {}
      },
      "cell_type": "code",
      "source": [
        ""
      ],
      "execution_count": 0,
      "outputs": []
    },
    {
      "metadata": {
        "id": "zkT0c2b_VXDx",
        "colab_type": "code",
        "colab": {}
      },
      "cell_type": "code",
      "source": [
        ""
      ],
      "execution_count": 0,
      "outputs": []
    },
    {
      "metadata": {
        "id": "zrhQfGoIQcDQ",
        "colab_type": "code",
        "colab": {}
      },
      "cell_type": "code",
      "source": [
        ""
      ],
      "execution_count": 0,
      "outputs": []
    },
    {
      "metadata": {
        "id": "pXi7iqSrPkuJ",
        "colab_type": "code",
        "colab": {}
      },
      "cell_type": "code",
      "source": [
        ""
      ],
      "execution_count": 0,
      "outputs": []
    },
    {
      "metadata": {
        "id": "jBGsTR9FPgb5",
        "colab_type": "code",
        "colab": {}
      },
      "cell_type": "code",
      "source": [
        ""
      ],
      "execution_count": 0,
      "outputs": []
    },
    {
      "metadata": {
        "id": "aJvUT1sAPJrm",
        "colab_type": "code",
        "colab": {}
      },
      "cell_type": "code",
      "source": [
        ""
      ],
      "execution_count": 0,
      "outputs": []
    },
    {
      "metadata": {
        "id": "yTkVgKhOPHFY",
        "colab_type": "code",
        "colab": {}
      },
      "cell_type": "code",
      "source": [
        ""
      ],
      "execution_count": 0,
      "outputs": []
    }
  ]
}